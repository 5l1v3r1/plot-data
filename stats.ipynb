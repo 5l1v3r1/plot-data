{
 "cells": [
  {
   "cell_type": "code",
   "execution_count": 131,
   "metadata": {},
   "outputs": [],
   "source": [
    "import json\n",
    "import datetime\n",
    "import altair as alt\n",
    "import pandas as pd\n",
    "import numpy as np\n",
    "import os\n",
    "\n",
    "hits = [\n",
    "'2018-08-10_00-00-00', #0\n",
    "'2018-08-29_11_32_44',\n",
    "'2018-08-29_22-54-16', #2\n",
    "'2018-09-05_21-38-43',\n",
    "'2018-09-07_11-34-48',\n",
    "'2018-09-08_09-41-18',\n",
    "'2018-09-09_10-28-14', #6\n",
    "]\n",
    "base = 'hits/' + hits[5]\n",
    "def cd(file):\n",
    "    return os.path.join(base, file)"
   ]
  },
  {
   "cell_type": "code",
   "execution_count": 132,
   "metadata": {},
   "outputs": [],
   "source": [
    "def duration_plot(assignments):\n",
    "    times = []\n",
    "    submit_times = []\n",
    "    for l in assignments:\n",
    "        submit = datetime.datetime.strptime(l['SubmitTime'][:-6], \"%Y-%m-%d %H:%M:%S\")\n",
    "        accept = datetime.datetime.strptime(l['AcceptTime'][:-6], \"%Y-%m-%d %H:%M:%S\")\n",
    "        submit_times.append(submit)\n",
    "        diff = (submit - accept).total_seconds()/60.0\n",
    "        times.append({\"diff\": diff})\n",
    "    spec = {\n",
    "      \"data\": {\"values\": times},\n",
    "      \"mark\": \"bar\",\n",
    "      \"encoding\": {\n",
    "        \"x\": {\n",
    "          \"field\": \"diff\",\n",
    "          \"type\": \"quantitative\",\n",
    "          \"bin\": {\"step\": 1} \n",
    "        },\n",
    "        \"y\": {\n",
    "          \"aggregate\": \"count\",\n",
    "          \"type\": \"quantitative\"\n",
    "        }\n",
    "      }\n",
    "    }\n",
    "    print('min - max: ', min(submit_times), max(submit_times))\n",
    "    print('mean duration: ', np.mean(list(map(lambda d: d['diff'], times))))\n",
    "    return alt.VegaLite(spec)"
   ]
  },
  {
   "cell_type": "code",
   "execution_count": 133,
   "metadata": {},
   "outputs": [
    {
     "name": "stdout",
     "output_type": "stream",
     "text": [
      "min - max:  2018-09-08 09:45:47 2018-09-08 13:14:14\n",
      "mean duration:  9.42526666667\n"
     ]
    },
    {
     "data": {
      "application/vnd.vegalite.v2+json": {
       "data": {
        "values": [
         {
          "diff": 8.816666666666666
         },
         {
          "diff": 3.2
         },
         {
          "diff": 20.583333333333332
         },
         {
          "diff": 5.383333333333334
         },
         {
          "diff": 4.2
         },
         {
          "diff": 11.983333333333333
         },
         {
          "diff": 3.8
         },
         {
          "diff": 7.35
         },
         {
          "diff": 3.8333333333333335
         },
         {
          "diff": 20.35
         },
         {
          "diff": 3.3666666666666667
         },
         {
          "diff": 5.033333333333333
         },
         {
          "diff": 2.8333333333333335
         },
         {
          "diff": 18.016666666666666
         },
         {
          "diff": 2.2
         },
         {
          "diff": 2.533333333333333
         },
         {
          "diff": 3.716666666666667
         },
         {
          "diff": 18.6
         },
         {
          "diff": 23.45
         },
         {
          "diff": 8.583333333333334
         },
         {
          "diff": 12.016666666666667
         },
         {
          "diff": 10.116666666666667
         },
         {
          "diff": 22.666666666666668
         },
         {
          "diff": 21.683333333333334
         },
         {
          "diff": 12.95
         },
         {
          "diff": 3.1
         },
         {
          "diff": 3.25
         },
         {
          "diff": 7.3
         },
         {
          "diff": 3.6166666666666667
         },
         {
          "diff": 22.133333333333333
         },
         {
          "diff": 5.883333333333334
         },
         {
          "diff": 7.6
         },
         {
          "diff": 3.6
         },
         {
          "diff": 2.283333333333333
         },
         {
          "diff": 20.016666666666666
         },
         {
          "diff": 4.15
         },
         {
          "diff": 4.483333333333333
         },
         {
          "diff": 3.933333333333333
         },
         {
          "diff": 15.616666666666667
         },
         {
          "diff": 2.6333333333333333
         },
         {
          "diff": 5.416666666666667
         },
         {
          "diff": 21.416666666666668
         },
         {
          "diff": 4.383333333333334
         },
         {
          "diff": 12.383333333333333
         },
         {
          "diff": 4.233333333333333
         },
         {
          "diff": 5.75
         },
         {
          "diff": 22.933333333333334
         },
         {
          "diff": 4.016666666666667
         },
         {
          "diff": 11.916666666666666
         },
         {
          "diff": 28.083333333333332
         },
         {
          "diff": 3.3333333333333335
         },
         {
          "diff": 16.033333333333335
         },
         {
          "diff": 19.933333333333334
         },
         {
          "diff": 12.7
         },
         {
          "diff": 17.933333333333334
         },
         {
          "diff": 20.716666666666665
         },
         {
          "diff": 16.9
         },
         {
          "diff": 7.1
         },
         {
          "diff": 2.1666666666666665
         },
         {
          "diff": 11.133333333333333
         },
         {
          "diff": 22.583333333333332
         },
         {
          "diff": 20.283333333333335
         },
         {
          "diff": 5.4
         },
         {
          "diff": 27.65
         },
         {
          "diff": 3.3833333333333333
         },
         {
          "diff": 2.7333333333333334
         },
         {
          "diff": 7.666666666666667
         },
         {
          "diff": 8.65
         },
         {
          "diff": 2.3666666666666667
         },
         {
          "diff": 26.65
         },
         {
          "diff": 5.166666666666667
         },
         {
          "diff": 5.9
         },
         {
          "diff": 5.433333333333334
         },
         {
          "diff": 6.983333333333333
         },
         {
          "diff": 11.816666666666666
         },
         {
          "diff": 2.65
         },
         {
          "diff": 2.7666666666666666
         },
         {
          "diff": 2.783333333333333
         },
         {
          "diff": 10.45
         },
         {
          "diff": 8.833333333333334
         },
         {
          "diff": 6.316666666666666
         },
         {
          "diff": 1.75
         },
         {
          "diff": 3.816666666666667
         },
         {
          "diff": 23.416666666666668
         },
         {
          "diff": 11.516666666666667
         },
         {
          "diff": 14.35
         },
         {
          "diff": 3.4166666666666665
         },
         {
          "diff": 5.333333333333333
         },
         {
          "diff": 12.7
         },
         {
          "diff": 17.333333333333332
         },
         {
          "diff": 15.85
         },
         {
          "diff": 5.133333333333334
         },
         {
          "diff": 3.7
         },
         {
          "diff": 1.9333333333333333
         },
         {
          "diff": 9.583333333333334
         },
         {
          "diff": 7.1
         },
         {
          "diff": 2.5166666666666666
         },
         {
          "diff": 4.183333333333334
         },
         {
          "diff": 2.6333333333333333
         },
         {
          "diff": 20.983333333333334
         },
         {
          "diff": 6.766666666666667
         },
         {
          "diff": 7.466666666666667
         },
         {
          "diff": 6.9
         },
         {
          "diff": 2.95
         },
         {
          "diff": 16.016666666666666
         },
         {
          "diff": 6.033333333333333
         },
         {
          "diff": 10.05
         },
         {
          "diff": 3.65
         },
         {
          "diff": 13.783333333333333
         },
         {
          "diff": 24.55
         },
         {
          "diff": 16.816666666666666
         },
         {
          "diff": 8.683333333333334
         },
         {
          "diff": 23.616666666666667
         },
         {
          "diff": 13.883333333333333
         },
         {
          "diff": 18.433333333333334
         },
         {
          "diff": 29.95
         },
         {
          "diff": 22.383333333333333
         },
         {
          "diff": 4.633333333333334
         },
         {
          "diff": 7.85
         },
         {
          "diff": 8.65
         },
         {
          "diff": 1.9666666666666666
         },
         {
          "diff": 10.35
         },
         {
          "diff": 3.05
         },
         {
          "diff": 3.0833333333333335
         },
         {
          "diff": 23.583333333333332
         },
         {
          "diff": 4.216666666666667
         },
         {
          "diff": 16.95
         },
         {
          "diff": 7.05
         },
         {
          "diff": 7.183333333333334
         },
         {
          "diff": 12.666666666666666
         },
         {
          "diff": 3.933333333333333
         },
         {
          "diff": 8.183333333333334
         },
         {
          "diff": 2.8
         },
         {
          "diff": 8.183333333333334
         },
         {
          "diff": 16.233333333333334
         },
         {
          "diff": 4.633333333333334
         },
         {
          "diff": 8.466666666666667
         },
         {
          "diff": 10.966666666666667
         },
         {
          "diff": 10.733333333333333
         },
         {
          "diff": 3.533333333333333
         },
         {
          "diff": 4.333333333333333
         },
         {
          "diff": 5.066666666666666
         },
         {
          "diff": 4.683333333333334
         },
         {
          "diff": 21.983333333333334
         },
         {
          "diff": 4.316666666666666
         },
         {
          "diff": 16.1
         },
         {
          "diff": 13
         },
         {
          "diff": 1.9333333333333333
         },
         {
          "diff": 8.766666666666667
         },
         {
          "diff": 10.783333333333333
         },
         {
          "diff": 20.5
         },
         {
          "diff": 6.75
         },
         {
          "diff": 5.033333333333333
         },
         {
          "diff": 5.083333333333333
         },
         {
          "diff": 4.6
         },
         {
          "diff": 7.966666666666667
         },
         {
          "diff": 6.483333333333333
         },
         {
          "diff": 6.416666666666667
         },
         {
          "diff": 8.75
         },
         {
          "diff": 26.983333333333334
         },
         {
          "diff": 2.4833333333333334
         },
         {
          "diff": 2.466666666666667
         },
         {
          "diff": 2.816666666666667
         },
         {
          "diff": 6.133333333333334
         },
         {
          "diff": 18.183333333333334
         },
         {
          "diff": 2.283333333333333
         },
         {
          "diff": 5.116666666666666
         },
         {
          "diff": 3.3
         },
         {
          "diff": 4.5
         },
         {
          "diff": 2.566666666666667
         },
         {
          "diff": 18.383333333333333
         },
         {
          "diff": 7.316666666666666
         },
         {
          "diff": 2.066666666666667
         },
         {
          "diff": 8.85
         },
         {
          "diff": 7.55
         },
         {
          "diff": 2.2
         },
         {
          "diff": 21.383333333333333
         },
         {
          "diff": 4.483333333333333
         },
         {
          "diff": 10.15
         },
         {
          "diff": 17.533333333333335
         },
         {
          "diff": 3.1
         },
         {
          "diff": 2.1166666666666667
         },
         {
          "diff": 4.216666666666667
         },
         {
          "diff": 9.7
         },
         {
          "diff": 1.7
         },
         {
          "diff": 5.816666666666666
         },
         {
          "diff": 7.616666666666666
         },
         {
          "diff": 9.783333333333333
         },
         {
          "diff": 9.333333333333334
         },
         {
          "diff": 15.85
         },
         {
          "diff": 7
         },
         {
          "diff": 4.6
         },
         {
          "diff": 14.483333333333333
         },
         {
          "diff": 17.366666666666667
         },
         {
          "diff": 25.416666666666668
         },
         {
          "diff": 2.6
         },
         {
          "diff": 2.8333333333333335
         },
         {
          "diff": 2.85
         },
         {
          "diff": 15.066666666666666
         },
         {
          "diff": 27.283333333333335
         },
         {
          "diff": 9.516666666666667
         },
         {
          "diff": 5.8
         },
         {
          "diff": 8.083333333333334
         },
         {
          "diff": 4.566666666666666
         },
         {
          "diff": 19.366666666666667
         },
         {
          "diff": 11.466666666666667
         },
         {
          "diff": 4.566666666666666
         },
         {
          "diff": 7.716666666666667
         },
         {
          "diff": 3.9
         },
         {
          "diff": 1.6333333333333333
         },
         {
          "diff": 3.65
         },
         {
          "diff": 3.9
         },
         {
          "diff": 10.516666666666667
         },
         {
          "diff": 6.65
         },
         {
          "diff": 2.783333333333333
         },
         {
          "diff": 6.8
         },
         {
          "diff": 18.616666666666667
         },
         {
          "diff": 5.05
         },
         {
          "diff": 19.416666666666668
         },
         {
          "diff": 14.116666666666667
         },
         {
          "diff": 11.716666666666667
         },
         {
          "diff": 1.6666666666666667
         },
         {
          "diff": 3.8833333333333333
         },
         {
          "diff": 4.9
         },
         {
          "diff": 28.316666666666666
         },
         {
          "diff": 18.416666666666668
         },
         {
          "diff": 2.25
         },
         {
          "diff": 10.45
         },
         {
          "diff": 19.983333333333334
         },
         {
          "diff": 22.066666666666666
         },
         {
          "diff": 3.283333333333333
         },
         {
          "diff": 18.95
         },
         {
          "diff": 5.383333333333334
         },
         {
          "diff": 3.8833333333333333
         },
         {
          "diff": 4.283333333333333
         },
         {
          "diff": 2.716666666666667
         },
         {
          "diff": 3.433333333333333
         },
         {
          "diff": 18.766666666666666
         },
         {
          "diff": 2.4166666666666665
         },
         {
          "diff": 2.8
         },
         {
          "diff": 5.133333333333334
         },
         {
          "diff": 5.383333333333334
         },
         {
          "diff": 23.383333333333333
         },
         {
          "diff": 5.533333333333333
         },
         {
          "diff": 23.433333333333334
         },
         {
          "diff": 7.25
         },
         {
          "diff": 6.55
         },
         {
          "diff": 2.0833333333333335
         },
         {
          "diff": 9.85
         },
         {
          "diff": 12.683333333333334
         },
         {
          "diff": 11.716666666666667
         },
         {
          "diff": 3.933333333333333
         },
         {
          "diff": 14.366666666666667
         },
         {
          "diff": 8.15
         },
         {
          "diff": 2.6
         },
         {
          "diff": 5.766666666666667
         },
         {
          "diff": 10.2
         },
         {
          "diff": 5.216666666666667
         },
         {
          "diff": 20.233333333333334
         },
         {
          "diff": 17.666666666666668
         },
         {
          "diff": 8.05
         },
         {
          "diff": 15.183333333333334
         },
         {
          "diff": 2.316666666666667
         },
         {
          "diff": 2.2666666666666666
         },
         {
          "diff": 4.85
         },
         {
          "diff": 5.266666666666667
         },
         {
          "diff": 2.0833333333333335
         },
         {
          "diff": 5.383333333333334
         },
         {
          "diff": 6.416666666666667
         },
         {
          "diff": 22.85
         },
         {
          "diff": 6.283333333333333
         },
         {
          "diff": 2.45
         },
         {
          "diff": 23.066666666666666
         },
         {
          "diff": 2.316666666666667
         },
         {
          "diff": 3.7
         },
         {
          "diff": 9.416666666666666
         },
         {
          "diff": 3.05
         },
         {
          "diff": 2.75
         },
         {
          "diff": 7.583333333333333
         },
         {
          "diff": 16.616666666666667
         },
         {
          "diff": 23.516666666666666
         },
         {
          "diff": 5.55
         },
         {
          "diff": 9.5
         },
         {
          "diff": 1.6833333333333333
         },
         {
          "diff": 16.733333333333334
         },
         {
          "diff": 4.65
         },
         {
          "diff": 4.166666666666667
         },
         {
          "diff": 20.55
         },
         {
          "diff": 4.766666666666667
         },
         {
          "diff": 24.433333333333334
         },
         {
          "diff": 6.283333333333333
         },
         {
          "diff": 8.183333333333334
         },
         {
          "diff": 3.7666666666666666
         },
         {
          "diff": 21.25
         },
         {
          "diff": 1.6833333333333333
         },
         {
          "diff": 10.35
         },
         {
          "diff": 3.933333333333333
         },
         {
          "diff": 7.25
         },
         {
          "diff": 16.066666666666666
         },
         {
          "diff": 20.416666666666668
         },
         {
          "diff": 6.75
         },
         {
          "diff": 5.133333333333334
         },
         {
          "diff": 16.516666666666666
         },
         {
          "diff": 3.3833333333333333
         },
         {
          "diff": 27.966666666666665
         },
         {
          "diff": 2.6333333333333333
         },
         {
          "diff": 17.3
         },
         {
          "diff": 6.8
         },
         {
          "diff": 23.483333333333334
         },
         {
          "diff": 5.5
         },
         {
          "diff": 3.5
         },
         {
          "diff": 2.4833333333333334
         },
         {
          "diff": 8.416666666666666
         },
         {
          "diff": 8.583333333333334
         },
         {
          "diff": 18.433333333333334
         },
         {
          "diff": 4.283333333333333
         },
         {
          "diff": 4.4
         },
         {
          "diff": 2.45
         },
         {
          "diff": 23.683333333333334
         },
         {
          "diff": 8.4
         },
         {
          "diff": 3.95
         },
         {
          "diff": 22.683333333333334
         },
         {
          "diff": 9.7
         },
         {
          "diff": 11.166666666666666
         },
         {
          "diff": 20.45
         },
         {
          "diff": 8.6
         },
         {
          "diff": 20.683333333333334
         },
         {
          "diff": 3.183333333333333
         },
         {
          "diff": 21.9
         },
         {
          "diff": 9.833333333333334
         },
         {
          "diff": 15.166666666666666
         },
         {
          "diff": 12.616666666666667
         },
         {
          "diff": 3.716666666666667
         },
         {
          "diff": 17.266666666666666
         },
         {
          "diff": 21.45
         },
         {
          "diff": 1.7166666666666666
         },
         {
          "diff": 9.616666666666667
         },
         {
          "diff": 11.316666666666666
         },
         {
          "diff": 8.783333333333333
         },
         {
          "diff": 5.483333333333333
         },
         {
          "diff": 4.733333333333333
         },
         {
          "diff": 2.533333333333333
         },
         {
          "diff": 6.6
         },
         {
          "diff": 15.966666666666667
         },
         {
          "diff": 29.5
         },
         {
          "diff": 11.416666666666666
         },
         {
          "diff": 10.966666666666667
         },
         {
          "diff": 2.933333333333333
         },
         {
          "diff": 8.866666666666667
         },
         {
          "diff": 20.733333333333334
         },
         {
          "diff": 6.166666666666667
         },
         {
          "diff": 1.85
         },
         {
          "diff": 2.566666666666667
         },
         {
          "diff": 11.766666666666667
         },
         {
          "diff": 12.033333333333333
         },
         {
          "diff": 2.7
         },
         {
          "diff": 22.516666666666666
         },
         {
          "diff": 2.8833333333333333
         },
         {
          "diff": 3.5
         },
         {
          "diff": 3.15
         },
         {
          "diff": 3.65
         },
         {
          "diff": 7.483333333333333
         },
         {
          "diff": 6.166666666666667
         },
         {
          "diff": 1.3666666666666667
         },
         {
          "diff": 22.183333333333334
         },
         {
          "diff": 8.433333333333334
         },
         {
          "diff": 8.216666666666667
         },
         {
          "diff": 5.333333333333333
         },
         {
          "diff": 2.3
         },
         {
          "diff": 6.05
         },
         {
          "diff": 3.6666666666666665
         },
         {
          "diff": 8.666666666666666
         },
         {
          "diff": 3.816666666666667
         },
         {
          "diff": 7.433333333333334
         },
         {
          "diff": 3.8833333333333333
         },
         {
          "diff": 6.2
         },
         {
          "diff": 6.183333333333334
         },
         {
          "diff": 2.95
         },
         {
          "diff": 10.7
         },
         {
          "diff": 5.783333333333333
         },
         {
          "diff": 4.016666666666667
         },
         {
          "diff": 3.3833333333333333
         },
         {
          "diff": 18.3
         },
         {
          "diff": 5.433333333333334
         },
         {
          "diff": 12.733333333333333
         },
         {
          "diff": 3.35
         },
         {
          "diff": 2.1333333333333333
         },
         {
          "diff": 5.016666666666667
         },
         {
          "diff": 19.766666666666666
         },
         {
          "diff": 2.25
         },
         {
          "diff": 3.8
         },
         {
          "diff": 9.416666666666666
         },
         {
          "diff": 22.35
         },
         {
          "diff": 12.35
         },
         {
          "diff": 20.266666666666666
         },
         {
          "diff": 2.7
         },
         {
          "diff": 5.533333333333333
         },
         {
          "diff": 5.966666666666667
         },
         {
          "diff": 13.683333333333334
         },
         {
          "diff": 2.6666666666666665
         },
         {
          "diff": 5.733333333333333
         },
         {
          "diff": 3.6166666666666667
         },
         {
          "diff": 17.55
         },
         {
          "diff": 22.966666666666665
         },
         {
          "diff": 17.783333333333335
         },
         {
          "diff": 4.55
         },
         {
          "diff": 12.75
         },
         {
          "diff": 6.683333333333334
         },
         {
          "diff": 7.616666666666666
         },
         {
          "diff": 17.233333333333334
         },
         {
          "diff": 3.783333333333333
         },
         {
          "diff": 24.7
         },
         {
          "diff": 2.5833333333333335
         },
         {
          "diff": 27.95
         },
         {
          "diff": 2.75
         },
         {
          "diff": 5.433333333333334
         },
         {
          "diff": 11.183333333333334
         },
         {
          "diff": 20.25
         },
         {
          "diff": 27
         },
         {
          "diff": 8.116666666666667
         },
         {
          "diff": 7.233333333333333
         },
         {
          "diff": 2.9166666666666665
         },
         {
          "diff": 12
         },
         {
          "diff": 20.2
         },
         {
          "diff": 13.266666666666667
         },
         {
          "diff": 5.1
         },
         {
          "diff": 6.4
         },
         {
          "diff": 2.433333333333333
         },
         {
          "diff": 4.6
         },
         {
          "diff": 2.55
         },
         {
          "diff": 4.75
         },
         {
          "diff": 2.85
         },
         {
          "diff": 3.4166666666666665
         },
         {
          "diff": 2.05
         },
         {
          "diff": 5.816666666666666
         },
         {
          "diff": 14.6
         },
         {
          "diff": 3.8666666666666667
         },
         {
          "diff": 2.4
         },
         {
          "diff": 1.5
         },
         {
          "diff": 7
         },
         {
          "diff": 3.5833333333333335
         },
         {
          "diff": 2.85
         },
         {
          "diff": 4.216666666666667
         },
         {
          "diff": 3.1
         },
         {
          "diff": 20.8
         },
         {
          "diff": 19.166666666666668
         },
         {
          "diff": 3.1666666666666665
         },
         {
          "diff": 7.5
         },
         {
          "diff": 2.966666666666667
         },
         {
          "diff": 2.566666666666667
         },
         {
          "diff": 5.333333333333333
         },
         {
          "diff": 4.75
         },
         {
          "diff": 7.566666666666666
         },
         {
          "diff": 6.233333333333333
         },
         {
          "diff": 3.65
         },
         {
          "diff": 2.3
         },
         {
          "diff": 5.85
         },
         {
          "diff": 7.1
         },
         {
          "diff": 23.733333333333334
         },
         {
          "diff": 14.316666666666666
         },
         {
          "diff": 2.9
         },
         {
          "diff": 12.283333333333333
         },
         {
          "diff": 15.566666666666666
         },
         {
          "diff": 2.816666666666667
         },
         {
          "diff": 23.6
         },
         {
          "diff": 1.9166666666666667
         },
         {
          "diff": 16.833333333333332
         },
         {
          "diff": 19.466666666666665
         },
         {
          "diff": 5.533333333333333
         },
         {
          "diff": 16.25
         },
         {
          "diff": 2.2666666666666666
         },
         {
          "diff": 3.65
         },
         {
          "diff": 13.55
         },
         {
          "diff": 23.283333333333335
         },
         {
          "diff": 15.466666666666667
         },
         {
          "diff": 1.7333333333333334
         },
         {
          "diff": 2.95
         },
         {
          "diff": 16.566666666666666
         },
         {
          "diff": 2.5833333333333335
         },
         {
          "diff": 4.4
         },
         {
          "diff": 15.833333333333334
         },
         {
          "diff": 15.9
         },
         {
          "diff": 2.933333333333333
         },
         {
          "diff": 16.2
         },
         {
          "diff": 18.883333333333333
         },
         {
          "diff": 2.566666666666667
         },
         {
          "diff": 5.066666666666666
         },
         {
          "diff": 10.416666666666666
         },
         {
          "diff": 4.983333333333333
         },
         {
          "diff": 24.3
         },
         {
          "diff": 4.45
         },
         {
          "diff": 16.833333333333332
         },
         {
          "diff": 2.7666666666666666
         },
         {
          "diff": 2.6666666666666665
         },
         {
          "diff": 11.1
         },
         {
          "diff": 5.9
         },
         {
          "diff": 9.183333333333334
         },
         {
          "diff": 8.6
         },
         {
          "diff": 3.2
         },
         {
          "diff": 19.566666666666666
         }
        ]
       },
       "encoding": {
        "x": {
         "bin": {
          "step": 1
         },
         "field": "diff",
         "type": "quantitative"
        },
        "y": {
         "aggregate": "count",
         "type": "quantitative"
        }
       },
       "mark": "bar"
      },
      "image/png": "[encoded data removed]",
      "text/plain": [
       "<VegaLite 2 object>\n",
       "\n",
       "If you see this message, it means the renderer has not been properly enabled\n",
       "for the frontend that you are using. For more information, see\n",
       "https://altair-viz.github.io/user_guide/troubleshooting.html\n"
      ]
     },
     "metadata": {},
     "output_type": "display_data"
    },
    {
     "name": "stdout",
     "output_type": "stream",
     "text": [
      "min - max:  2018-09-08 13:41:34 2018-09-08 16:11:30\n",
      "mean duration:  7.62863333333\n"
     ]
    },
    {
     "data": {
      "application/vnd.vegalite.v2+json": {
       "data": {
        "values": [
         {
          "diff": 2.1166666666666667
         },
         {
          "diff": 3.316666666666667
         },
         {
          "diff": 2.216666666666667
         },
         {
          "diff": 2.8666666666666667
         },
         {
          "diff": 7.816666666666666
         },
         {
          "diff": 2.2333333333333334
         },
         {
          "diff": 2.8
         },
         {
          "diff": 2.8833333333333333
         },
         {
          "diff": 7.65
         },
         {
          "diff": 5.066666666666666
         },
         {
          "diff": 2.3833333333333333
         },
         {
          "diff": 6.2
         },
         {
          "diff": 9.816666666666666
         },
         {
          "diff": 4.466666666666667
         },
         {
          "diff": 23.8
         },
         {
          "diff": 3.8833333333333333
         },
         {
          "diff": 18.216666666666665
         },
         {
          "diff": 2.3666666666666667
         },
         {
          "diff": 6.85
         },
         {
          "diff": 12.3
         },
         {
          "diff": 17.466666666666665
         },
         {
          "diff": 4.716666666666667
         },
         {
          "diff": 5.75
         },
         {
          "diff": 7
         },
         {
          "diff": 22.35
         },
         {
          "diff": 2.5166666666666666
         },
         {
          "diff": 2.85
         },
         {
          "diff": 2.2
         },
         {
          "diff": 2.4166666666666665
         },
         {
          "diff": 13.316666666666666
         },
         {
          "diff": 4.033333333333333
         },
         {
          "diff": 7.216666666666667
         },
         {
          "diff": 6.5
         },
         {
          "diff": 1.9333333333333333
         },
         {
          "diff": 19.5
         },
         {
          "diff": 4.383333333333334
         },
         {
          "diff": 2.933333333333333
         },
         {
          "diff": 1.8
         },
         {
          "diff": 3.283333333333333
         },
         {
          "diff": 20.4
         },
         {
          "diff": 4.266666666666667
         },
         {
          "diff": 3.3333333333333335
         },
         {
          "diff": 3.05
         },
         {
          "diff": 15.3
         },
         {
          "diff": 6.116666666666666
         },
         {
          "diff": 2.433333333333333
         },
         {
          "diff": 2.033333333333333
         },
         {
          "diff": 3.65
         },
         {
          "diff": 2.6
         },
         {
          "diff": 9.15
         },
         {
          "diff": 2.566666666666667
         },
         {
          "diff": 3.85
         },
         {
          "diff": 5.15
         },
         {
          "diff": 17.633333333333333
         },
         {
          "diff": 4.883333333333334
         },
         {
          "diff": 16.6
         },
         {
          "diff": 1.9666666666666666
         },
         {
          "diff": 2.9166666666666665
         },
         {
          "diff": 4.133333333333334
         },
         {
          "diff": 12.416666666666666
         },
         {
          "diff": 2.8666666666666667
         },
         {
          "diff": 2.9833333333333334
         },
         {
          "diff": 2.966666666666667
         },
         {
          "diff": 5.883333333333334
         },
         {
          "diff": 16.366666666666667
         },
         {
          "diff": 16.25
         },
         {
          "diff": 12.866666666666667
         },
         {
          "diff": 2.95
         },
         {
          "diff": 2
         },
         {
          "diff": 10.383333333333333
         },
         {
          "diff": 12.4
         },
         {
          "diff": 10.283333333333333
         },
         {
          "diff": 3.2
         },
         {
          "diff": 1.9666666666666666
         },
         {
          "diff": 10.75
         },
         {
          "diff": 23
         },
         {
          "diff": 5.75
         },
         {
          "diff": 12.4
         },
         {
          "diff": 7.633333333333334
         },
         {
          "diff": 11.15
         },
         {
          "diff": 6.9
         },
         {
          "diff": 12.816666666666666
         },
         {
          "diff": 8.45
         },
         {
          "diff": 1.65
         },
         {
          "diff": 9.266666666666667
         },
         {
          "diff": 2.1166666666666667
         },
         {
          "diff": 3.2666666666666666
         },
         {
          "diff": 5.55
         },
         {
          "diff": 2.4833333333333334
         },
         {
          "diff": 9.833333333333334
         },
         {
          "diff": 2.5833333333333335
         },
         {
          "diff": 1.3833333333333333
         },
         {
          "diff": 4.533333333333333
         },
         {
          "diff": 6.033333333333333
         },
         {
          "diff": 11.666666666666666
         },
         {
          "diff": 3.433333333333333
         },
         {
          "diff": 19.683333333333334
         },
         {
          "diff": 6.033333333333333
         },
         {
          "diff": 17.95
         },
         {
          "diff": 17.7
         },
         {
          "diff": 2.316666666666667
         },
         {
          "diff": 1.6
         },
         {
          "diff": 4.35
         },
         {
          "diff": 2.65
         },
         {
          "diff": 3.933333333333333
         },
         {
          "diff": 4.75
         },
         {
          "diff": 4.2
         },
         {
          "diff": 6.6
         },
         {
          "diff": 2.9833333333333334
         },
         {
          "diff": 3.8833333333333333
         },
         {
          "diff": 3.2
         },
         {
          "diff": 7.416666666666667
         },
         {
          "diff": 4.983333333333333
         },
         {
          "diff": 1.9833333333333334
         },
         {
          "diff": 3.2
         },
         {
          "diff": 4.15
         },
         {
          "diff": 8.483333333333333
         },
         {
          "diff": 1.8
         },
         {
          "diff": 12.983333333333333
         },
         {
          "diff": 3.033333333333333
         },
         {
          "diff": 2.3833333333333333
         },
         {
          "diff": 13.016666666666667
         },
         {
          "diff": 1.8666666666666667
         },
         {
          "diff": 10.25
         },
         {
          "diff": 24.166666666666668
         },
         {
          "diff": 10.45
         },
         {
          "diff": 3.3833333333333333
         },
         {
          "diff": 2.25
         },
         {
          "diff": 18.916666666666668
         },
         {
          "diff": 19.733333333333334
         },
         {
          "diff": 3.183333333333333
         },
         {
          "diff": 28.25
         },
         {
          "diff": 3.85
         },
         {
          "diff": 11.75
         },
         {
          "diff": 1.6
         },
         {
          "diff": 1.2666666666666666
         },
         {
          "diff": 9.883333333333333
         },
         {
          "diff": 4.933333333333334
         },
         {
          "diff": 4.733333333333333
         },
         {
          "diff": 18.25
         },
         {
          "diff": 6.6
         },
         {
          "diff": 1.9666666666666666
         },
         {
          "diff": 6.683333333333334
         },
         {
          "diff": 4.616666666666666
         },
         {
          "diff": 3.3
         },
         {
          "diff": 3.816666666666667
         },
         {
          "diff": 3.5
         },
         {
          "diff": 4.333333333333333
         },
         {
          "diff": 2.55
         },
         {
          "diff": 11.933333333333334
         },
         {
          "diff": 2.716666666666667
         },
         {
          "diff": 19.366666666666667
         },
         {
          "diff": 2.2666666666666666
         },
         {
          "diff": 2.3333333333333335
         },
         {
          "diff": 15.133333333333333
         },
         {
          "diff": 1.1666666666666667
         },
         {
          "diff": 15.833333333333334
         },
         {
          "diff": 3.9833333333333334
         },
         {
          "diff": 13.783333333333333
         },
         {
          "diff": 5.316666666666666
         },
         {
          "diff": 5.25
         },
         {
          "diff": 4.016666666666667
         },
         {
          "diff": 2.966666666666667
         },
         {
          "diff": 17.066666666666666
         },
         {
          "diff": 2.066666666666667
         },
         {
          "diff": 17.1
         },
         {
          "diff": 4.633333333333334
         },
         {
          "diff": 12.9
         },
         {
          "diff": 4.033333333333333
         },
         {
          "diff": 14.25
         },
         {
          "diff": 1.5666666666666667
         },
         {
          "diff": 4.116666666666666
         },
         {
          "diff": 2.1166666666666667
         },
         {
          "diff": 24.183333333333334
         },
         {
          "diff": 8.533333333333333
         },
         {
          "diff": 24.033333333333335
         },
         {
          "diff": 2.3
         },
         {
          "diff": 2.9
         },
         {
          "diff": 2.2
         },
         {
          "diff": 4.816666666666666
         },
         {
          "diff": 4.483333333333333
         },
         {
          "diff": 3.466666666666667
         },
         {
          "diff": 22.733333333333334
         },
         {
          "diff": 4.1
         },
         {
          "diff": 19.566666666666666
         },
         {
          "diff": 16.166666666666668
         },
         {
          "diff": 9.216666666666667
         },
         {
          "diff": 2.3333333333333335
         },
         {
          "diff": 1.9333333333333333
         },
         {
          "diff": 11.833333333333334
         },
         {
          "diff": 5.3
         },
         {
          "diff": 2.1
         },
         {
          "diff": 1.8
         },
         {
          "diff": 16.033333333333335
         },
         {
          "diff": 2.55
         },
         {
          "diff": 2.8333333333333335
         },
         {
          "diff": 6.316666666666666
         },
         {
          "diff": 3.8
         },
         {
          "diff": 6.9
         },
         {
          "diff": 13.483333333333333
         },
         {
          "diff": 21.733333333333334
         },
         {
          "diff": 11.716666666666667
         },
         {
          "diff": 16.833333333333332
         },
         {
          "diff": 5.433333333333334
         },
         {
          "diff": 18.966666666666665
         },
         {
          "diff": 5.9
         },
         {
          "diff": 3.433333333333333
         },
         {
          "diff": 6.516666666666667
         },
         {
          "diff": 2.3833333333333333
         },
         {
          "diff": 4.133333333333334
         },
         {
          "diff": 3.1166666666666667
         },
         {
          "diff": 6.716666666666667
         },
         {
          "diff": 5.666666666666667
         },
         {
          "diff": 2.2666666666666666
         },
         {
          "diff": 20.566666666666666
         },
         {
          "diff": 4.066666666666666
         },
         {
          "diff": 2.783333333333333
         },
         {
          "diff": 4.25
         },
         {
          "diff": 1.7166666666666666
         },
         {
          "diff": 17.566666666666666
         },
         {
          "diff": 4.316666666666666
         },
         {
          "diff": 14.5
         },
         {
          "diff": 1.9333333333333333
         },
         {
          "diff": 16.866666666666667
         },
         {
          "diff": 6.983333333333333
         },
         {
          "diff": 2.9833333333333334
         },
         {
          "diff": 7.233333333333333
         },
         {
          "diff": 12.433333333333334
         },
         {
          "diff": 6.716666666666667
         },
         {
          "diff": 16.95
         },
         {
          "diff": 3.283333333333333
         },
         {
          "diff": 12.7
         },
         {
          "diff": 14.35
         },
         {
          "diff": 18.083333333333332
         },
         {
          "diff": 19.45
         },
         {
          "diff": 1.9
         },
         {
          "diff": 6.366666666666666
         },
         {
          "diff": 10.816666666666666
         },
         {
          "diff": 3.1166666666666667
         },
         {
          "diff": 5.7
         },
         {
          "diff": 16.866666666666667
         },
         {
          "diff": 2.1666666666666665
         },
         {
          "diff": 1.7833333333333334
         },
         {
          "diff": 9.7
         },
         {
          "diff": 10.183333333333334
         },
         {
          "diff": 2.1166666666666667
         },
         {
          "diff": 1.8666666666666667
         },
         {
          "diff": 5.05
         },
         {
          "diff": 5.633333333333334
         },
         {
          "diff": 8.15
         },
         {
          "diff": 2.0166666666666666
         },
         {
          "diff": 1.85
         },
         {
          "diff": 3.1
         },
         {
          "diff": 8.35
         },
         {
          "diff": 10.1
         },
         {
          "diff": 10.433333333333334
         },
         {
          "diff": 1.2666666666666666
         },
         {
          "diff": 9.533333333333333
         },
         {
          "diff": 13.933333333333334
         },
         {
          "diff": 6.183333333333334
         },
         {
          "diff": 1.3
         },
         {
          "diff": 1.2833333333333334
         },
         {
          "diff": 17.366666666666667
         },
         {
          "diff": 7.15
         },
         {
          "diff": 1.0166666666666666
         },
         {
          "diff": 5.95
         },
         {
          "diff": 2.183333333333333
         },
         {
          "diff": 11.033333333333333
         },
         {
          "diff": 7.683333333333334
         },
         {
          "diff": 22.466666666666665
         },
         {
          "diff": 3.3666666666666667
         },
         {
          "diff": 2.55
         },
         {
          "diff": 13.683333333333334
         },
         {
          "diff": 2.433333333333333
         },
         {
          "diff": 8.65
         },
         {
          "diff": 1.85
         },
         {
          "diff": 3.283333333333333
         },
         {
          "diff": 9.3
         },
         {
          "diff": 8.383333333333333
         },
         {
          "diff": 14.65
         },
         {
          "diff": 6.516666666666667
         },
         {
          "diff": 1.8166666666666667
         },
         {
          "diff": 4.9
         },
         {
          "diff": 9.983333333333333
         },
         {
          "diff": 7.833333333333333
         },
         {
          "diff": 1.1166666666666667
         },
         {
          "diff": 3.8333333333333335
         },
         {
          "diff": 3.9
         },
         {
          "diff": 12.45
         },
         {
          "diff": 2.966666666666667
         },
         {
          "diff": 8.45
         },
         {
          "diff": 7.683333333333334
         },
         {
          "diff": 1.7333333333333334
         },
         {
          "diff": 3.5166666666666666
         },
         {
          "diff": 6.85
         },
         {
          "diff": 3.6
         },
         {
          "diff": 3.6333333333333333
         },
         {
          "diff": 1.4666666666666666
         },
         {
          "diff": 5.2
         },
         {
          "diff": 21.9
         },
         {
          "diff": 9.7
         },
         {
          "diff": 3.1333333333333333
         },
         {
          "diff": 4.9
         },
         {
          "diff": 5.883333333333334
         },
         {
          "diff": 15.9
         },
         {
          "diff": 2.35
         },
         {
          "diff": 3.2666666666666666
         },
         {
          "diff": 3.85
         },
         {
          "diff": 3.4166666666666665
         },
         {
          "diff": 19
         },
         {
          "diff": 5.433333333333334
         },
         {
          "diff": 5.133333333333334
         },
         {
          "diff": 21.333333333333332
         },
         {
          "diff": 1.65
         },
         {
          "diff": 20.4
         },
         {
          "diff": 1.5666666666666667
         },
         {
          "diff": 5.2
         },
         {
          "diff": 11.516666666666667
         },
         {
          "diff": 4.416666666666667
         },
         {
          "diff": 11.533333333333333
         },
         {
          "diff": 7.7
         },
         {
          "diff": 5.85
         },
         {
          "diff": 2.7
         },
         {
          "diff": 2.6666666666666665
         },
         {
          "diff": 2.85
         },
         {
          "diff": 5.183333333333334
         },
         {
          "diff": 6.933333333333334
         },
         {
          "diff": 2.6666666666666665
         },
         {
          "diff": 1.3166666666666667
         },
         {
          "diff": 17.75
         },
         {
          "diff": 2.4166666666666665
         },
         {
          "diff": 3.3833333333333333
         },
         {
          "diff": 4.75
         },
         {
          "diff": 16.216666666666665
         },
         {
          "diff": 8.233333333333333
         },
         {
          "diff": 5.05
         },
         {
          "diff": 3.7
         },
         {
          "diff": 1.95
         },
         {
          "diff": 8.816666666666666
         },
         {
          "diff": 3.55
         },
         {
          "diff": 18.283333333333335
         },
         {
          "diff": 1.8666666666666667
         },
         {
          "diff": 5.066666666666666
         },
         {
          "diff": 20.55
         },
         {
          "diff": 13.983333333333333
         },
         {
          "diff": 3.8833333333333333
         },
         {
          "diff": 6.05
         },
         {
          "diff": 4.083333333333333
         },
         {
          "diff": 4.316666666666666
         },
         {
          "diff": 11.866666666666667
         },
         {
          "diff": 2.55
         },
         {
          "diff": 2.2
         },
         {
          "diff": 3
         },
         {
          "diff": 21.766666666666666
         },
         {
          "diff": 14.466666666666667
         },
         {
          "diff": 11.166666666666666
         },
         {
          "diff": 20.566666666666666
         },
         {
          "diff": 1.3333333333333333
         },
         {
          "diff": 5.216666666666667
         },
         {
          "diff": 4.5
         },
         {
          "diff": 2.1166666666666667
         },
         {
          "diff": 6.233333333333333
         },
         {
          "diff": 14.033333333333333
         },
         {
          "diff": 16.883333333333333
         },
         {
          "diff": 2.65
         },
         {
          "diff": 2.1333333333333333
         },
         {
          "diff": 2.5166666666666666
         },
         {
          "diff": 4.866666666666666
         },
         {
          "diff": 4.783333333333333
         },
         {
          "diff": 18.133333333333333
         },
         {
          "diff": 2.3833333333333333
         },
         {
          "diff": 2.4833333333333334
         },
         {
          "diff": 1.1
         },
         {
          "diff": 3.966666666666667
         },
         {
          "diff": 7.65
         },
         {
          "diff": 1.7166666666666666
         },
         {
          "diff": 10.483333333333333
         },
         {
          "diff": 12.9
         },
         {
          "diff": 15.366666666666667
         },
         {
          "diff": 25.533333333333335
         },
         {
          "diff": 5.066666666666666
         },
         {
          "diff": 8.216666666666667
         },
         {
          "diff": 5.483333333333333
         },
         {
          "diff": 2.8833333333333333
         },
         {
          "diff": 4.116666666666666
         },
         {
          "diff": 5.933333333333334
         },
         {
          "diff": 3.4
         },
         {
          "diff": 3.4166666666666665
         },
         {
          "diff": 2.8333333333333335
         },
         {
          "diff": 13.266666666666667
         },
         {
          "diff": 3.2666666666666666
         },
         {
          "diff": 2.716666666666667
         },
         {
          "diff": 12.733333333333333
         },
         {
          "diff": 7.1
         },
         {
          "diff": 20.933333333333334
         },
         {
          "diff": 3.0833333333333335
         },
         {
          "diff": 4.066666666666666
         },
         {
          "diff": 1.4166666666666667
         },
         {
          "diff": 5.35
         },
         {
          "diff": 2.5166666666666666
         },
         {
          "diff": 1.6666666666666667
         },
         {
          "diff": 3.6166666666666667
         },
         {
          "diff": 6.516666666666667
         },
         {
          "diff": 22.283333333333335
         },
         {
          "diff": 12.933333333333334
         },
         {
          "diff": 2.966666666666667
         },
         {
          "diff": 1.8666666666666667
         },
         {
          "diff": 4.916666666666667
         },
         {
          "diff": 2.4
         },
         {
          "diff": 17.883333333333333
         },
         {
          "diff": 1.1333333333333333
         },
         {
          "diff": 5.3
         },
         {
          "diff": 2.466666666666667
         },
         {
          "diff": 2.75
         },
         {
          "diff": 20.2
         },
         {
          "diff": 4.016666666666667
         },
         {
          "diff": 5.066666666666666
         },
         {
          "diff": 6.283333333333333
         },
         {
          "diff": 13.466666666666667
         },
         {
          "diff": 9.433333333333334
         },
         {
          "diff": 4.966666666666667
         },
         {
          "diff": 1.45
         },
         {
          "diff": 3.4
         },
         {
          "diff": 4.466666666666667
         },
         {
          "diff": 1.3666666666666667
         },
         {
          "diff": 1.5666666666666667
         },
         {
          "diff": 5.3
         },
         {
          "diff": 3.7666666666666666
         },
         {
          "diff": 7.066666666666666
         },
         {
          "diff": 2.85
         },
         {
          "diff": 2.65
         },
         {
          "diff": 9.45
         },
         {
          "diff": 8.65
         },
         {
          "diff": 27.466666666666665
         },
         {
          "diff": 28.383333333333333
         },
         {
          "diff": 3.783333333333333
         },
         {
          "diff": 8.366666666666667
         },
         {
          "diff": 2.0833333333333335
         },
         {
          "diff": 4.5
         },
         {
          "diff": 24.566666666666666
         },
         {
          "diff": 5.95
         },
         {
          "diff": 6.733333333333333
         },
         {
          "diff": 4.25
         },
         {
          "diff": 3.55
         },
         {
          "diff": 24.7
         },
         {
          "diff": 1.8333333333333333
         },
         {
          "diff": 2.9833333333333334
         },
         {
          "diff": 14.283333333333333
         },
         {
          "diff": 16.916666666666668
         },
         {
          "diff": 22.9
         },
         {
          "diff": 2.45
         },
         {
          "diff": 3.216666666666667
         },
         {
          "diff": 11.4
         },
         {
          "diff": 8.683333333333334
         },
         {
          "diff": 13.95
         },
         {
          "diff": 6.266666666666667
         },
         {
          "diff": 11.833333333333334
         },
         {
          "diff": 11.116666666666667
         },
         {
          "diff": 13.7
         },
         {
          "diff": 17.1
         },
         {
          "diff": 4.25
         },
         {
          "diff": 7.666666666666667
         },
         {
          "diff": 2.8833333333333333
         },
         {
          "diff": 7.133333333333334
         },
         {
          "diff": 25.35
         },
         {
          "diff": 3.5166666666666666
         },
         {
          "diff": 3.9
         },
         {
          "diff": 2
         },
         {
          "diff": 20.35
         },
         {
          "diff": 12.233333333333333
         },
         {
          "diff": 1.6333333333333333
         },
         {
          "diff": 6.133333333333334
         },
         {
          "diff": 2.15
         },
         {
          "diff": 11.55
         },
         {
          "diff": 25.816666666666666
         },
         {
          "diff": 3.85
         },
         {
          "diff": 13.6
         },
         {
          "diff": 6.283333333333333
         },
         {
          "diff": 7.016666666666667
         },
         {
          "diff": 4.583333333333333
         },
         {
          "diff": 14.516666666666667
         },
         {
          "diff": 3.0833333333333335
         },
         {
          "diff": 10.783333333333333
         },
         {
          "diff": 1.45
         },
         {
          "diff": 16.916666666666668
         },
         {
          "diff": 6.5
         },
         {
          "diff": 14.233333333333333
         },
         {
          "diff": 8.266666666666667
         },
         {
          "diff": 14.966666666666667
         },
         {
          "diff": 26.15
         },
         {
          "diff": 6.65
         },
         {
          "diff": 7.75
         },
         {
          "diff": 5.55
         },
         {
          "diff": 4.433333333333334
         },
         {
          "diff": 4.233333333333333
         },
         {
          "diff": 7.433333333333334
         },
         {
          "diff": 12.5
         },
         {
          "diff": 3.15
         },
         {
          "diff": 19.05
         },
         {
          "diff": 9.266666666666667
         }
        ]
       },
       "encoding": {
        "x": {
         "bin": {
          "step": 1
         },
         "field": "diff",
         "type": "quantitative"
        },
        "y": {
         "aggregate": "count",
         "type": "quantitative"
        }
       },
       "mark": "bar"
      },
      "image/png": "[encoded data removed]",
      "text/plain": [
       "<VegaLite 2 object>\n",
       "\n",
       "If you see this message, it means the renderer has not been properly enabled\n",
       "for the frontend that you are using. For more information, see\n",
       "https://altair-viz.github.io/user_guide/troubleshooting.html\n"
      ]
     },
     "metadata": {},
     "output_type": "display_data"
    }
   ],
   "source": [
    "listener_assignments = json.load(open(cd('listener.assignments')))\n",
    "speaker_assignments = json.load(open(cd('speaker.assignments')))\n",
    "display(duration_plot(speaker_assignments))\n",
    "display(duration_plot(listener_assignments))"
   ]
  },
  {
   "cell_type": "code",
   "execution_count": 134,
   "metadata": {},
   "outputs": [
    {
     "name": "stdout",
     "output_type": "stream",
     "text": [
      "A1TVJ4HKOOIL6L 6 15\n",
      "APJJ1HHD2GGFS 4 3\n",
      "A3F9N2P4NUUR7S 28 23\n",
      "A2R3KI7FWWGBIV 14 10\n",
      "A1Y82LKWQQP90M 11 7\n",
      "A38WZEK3MZXR3Q 5 19\n",
      "A27K37YQZDPER6 4 18\n",
      "A374STD2W8N1U8 22 37\n",
      "A1T05ZAYGEPASK 2 14\n",
      "A3CGA66ES1ZTKC 18 5\n",
      "A3W24IE6P9O302 15 55\n",
      "A98E8M4QLI9RS 12 21\n",
      "ARB52L0KXB1DE 10 9\n",
      "A15WCNO32MHBAF 10 4\n",
      "A3TUJHF9LW3M8N 4 2\n",
      "AW47H2ISJWAJC 3 8\n",
      "AUI3R928P63B0 15 16\n",
      "A7K6LJGDREGTT 6 7\n",
      "A2VR0KBCWPY8E1 9 3\n",
      "speak: 57 listener 96 overlap 19\n"
     ]
    }
   ],
   "source": [
    "import collections \n",
    "\n",
    "def by_worker(assign):\n",
    "    workers = collections.defaultdict(int)\n",
    "    for a in assign:\n",
    "        workers[a['WorkerId']] += 1\n",
    "    descending = sorted(workers.items(), key=lambda a: -a[1])\n",
    "    return collections.OrderedDict(descending) \n",
    "\n",
    "listener_counts = by_worker(listener_assignments)\n",
    "speaker_counts = by_worker(speaker_assignments)\n",
    "intersection = set(speaker_counts.keys()).intersection(listener_counts.keys())\n",
    "\n",
    "for k in intersection:\n",
    "    print(k, listener_counts[k], speaker_counts[k])\n",
    "print('speak: {} listener {} overlap {}'.format(len(speaker_counts), len(listener_counts), len(intersection)))"
   ]
  },
  {
   "cell_type": "code",
   "execution_count": 135,
   "metadata": {},
   "outputs": [
    {
     "data": {
      "application/vnd.vegalite.v2+json": {
       "data": {
        "values": [
         {
          "freq_of_freq": 2
         },
         {
          "freq_of_freq": 3
         },
         {
          "freq_of_freq": 1
         },
         {
          "freq_of_freq": 2
         },
         {
          "freq_of_freq": 1
         },
         {
          "freq_of_freq": 2
         },
         {
          "freq_of_freq": 4
         },
         {
          "freq_of_freq": 6
         },
         {
          "freq_of_freq": 9
         },
         {
          "freq_of_freq": 9
         },
         {
          "freq_of_freq": 6
         },
         {
          "freq_of_freq": 2
         },
         {
          "freq_of_freq": 6
         },
         {
          "freq_of_freq": 5
         },
         {
          "freq_of_freq": 6
         },
         {
          "freq_of_freq": 2
         },
         {
          "freq_of_freq": 7
         },
         {
          "freq_of_freq": 11
         },
         {
          "freq_of_freq": 4
         },
         {
          "freq_of_freq": 4
         },
         {
          "freq_of_freq": 11
         },
         {
          "freq_of_freq": 4
         },
         {
          "freq_of_freq": 5
         },
         {
          "freq_of_freq": 1
         },
         {
          "freq_of_freq": 2
         },
         {
          "freq_of_freq": 3
         },
         {
          "freq_of_freq": 7
         },
         {
          "freq_of_freq": 5
         },
         {
          "freq_of_freq": 7
         },
         {
          "freq_of_freq": 2
         },
         {
          "freq_of_freq": 2
         },
         {
          "freq_of_freq": 3
         },
         {
          "freq_of_freq": 12
         },
         {
          "freq_of_freq": 2
         },
         {
          "freq_of_freq": 4
         },
         {
          "freq_of_freq": 11
         },
         {
          "freq_of_freq": 1
         },
         {
          "freq_of_freq": 10
         },
         {
          "freq_of_freq": 4
         },
         {
          "freq_of_freq": 6
         },
         {
          "freq_of_freq": 1
         },
         {
          "freq_of_freq": 3
         },
         {
          "freq_of_freq": 5
         },
         {
          "freq_of_freq": 12
         },
         {
          "freq_of_freq": 7
         },
         {
          "freq_of_freq": 2
         },
         {
          "freq_of_freq": 1
         },
         {
          "freq_of_freq": 6
         },
         {
          "freq_of_freq": 13
         },
         {
          "freq_of_freq": 3
         },
         {
          "freq_of_freq": 4
         },
         {
          "freq_of_freq": 6
         },
         {
          "freq_of_freq": 8
         },
         {
          "freq_of_freq": 3
         },
         {
          "freq_of_freq": 6
         },
         {
          "freq_of_freq": 2
         },
         {
          "freq_of_freq": 1
         },
         {
          "freq_of_freq": 2
         },
         {
          "freq_of_freq": 4
         },
         {
          "freq_of_freq": 3
         },
         {
          "freq_of_freq": 3
         },
         {
          "freq_of_freq": 1
         },
         {
          "freq_of_freq": 2
         },
         {
          "freq_of_freq": 4
         },
         {
          "freq_of_freq": 3
         },
         {
          "freq_of_freq": 1
         },
         {
          "freq_of_freq": 11
         },
         {
          "freq_of_freq": 5
         },
         {
          "freq_of_freq": 5
         },
         {
          "freq_of_freq": 4
         },
         {
          "freq_of_freq": 8
         },
         {
          "freq_of_freq": 1
         },
         {
          "freq_of_freq": 1
         },
         {
          "freq_of_freq": 1
         },
         {
          "freq_of_freq": 8
         },
         {
          "freq_of_freq": 3
         },
         {
          "freq_of_freq": 5
         },
         {
          "freq_of_freq": 3
         },
         {
          "freq_of_freq": 1
         },
         {
          "freq_of_freq": 3
         },
         {
          "freq_of_freq": 4
         },
         {
          "freq_of_freq": 4
         },
         {
          "freq_of_freq": 2
         },
         {
          "freq_of_freq": 2
         },
         {
          "freq_of_freq": 3
         },
         {
          "freq_of_freq": 3
         },
         {
          "freq_of_freq": 7
         },
         {
          "freq_of_freq": 1
         },
         {
          "freq_of_freq": 2
         },
         {
          "freq_of_freq": 12
         },
         {
          "freq_of_freq": 2
         },
         {
          "freq_of_freq": 1
         },
         {
          "freq_of_freq": 12
         },
         {
          "freq_of_freq": 1
         },
         {
          "freq_of_freq": 3
         },
         {
          "freq_of_freq": 6
         },
         {
          "freq_of_freq": 1
         },
         {
          "freq_of_freq": 1
         },
         {
          "freq_of_freq": 2
         },
         {
          "freq_of_freq": 8
         },
         {
          "freq_of_freq": 8
         },
         {
          "freq_of_freq": 7
         },
         {
          "freq_of_freq": 1
         },
         {
          "freq_of_freq": 2
         },
         {
          "freq_of_freq": 1
         },
         {
          "freq_of_freq": 16
         },
         {
          "freq_of_freq": 7
         },
         {
          "freq_of_freq": 1
         },
         {
          "freq_of_freq": 3
         },
         {
          "freq_of_freq": 7
         },
         {
          "freq_of_freq": 3
         },
         {
          "freq_of_freq": 15
         },
         {
          "freq_of_freq": 5
         },
         {
          "freq_of_freq": 4
         },
         {
          "freq_of_freq": 1
         },
         {
          "freq_of_freq": 2
         },
         {
          "freq_of_freq": 3
         },
         {
          "freq_of_freq": 7
         },
         {
          "freq_of_freq": 3
         },
         {
          "freq_of_freq": 8
         },
         {
          "freq_of_freq": 4
         },
         {
          "freq_of_freq": 6
         },
         {
          "freq_of_freq": 3
         },
         {
          "freq_of_freq": 10
         },
         {
          "freq_of_freq": 7
         },
         {
          "freq_of_freq": 11
         },
         {
          "freq_of_freq": 3
         },
         {
          "freq_of_freq": 3
         },
         {
          "freq_of_freq": 2
         },
         {
          "freq_of_freq": 6
         },
         {
          "freq_of_freq": 4
         },
         {
          "freq_of_freq": 4
         },
         {
          "freq_of_freq": 2
         },
         {
          "freq_of_freq": 1
         },
         {
          "freq_of_freq": 2
         },
         {
          "freq_of_freq": 6
         },
         {
          "freq_of_freq": 6
         },
         {
          "freq_of_freq": 4
         },
         {
          "freq_of_freq": 8
         },
         {
          "freq_of_freq": 4
         },
         {
          "freq_of_freq": 3
         },
         {
          "freq_of_freq": 6
         },
         {
          "freq_of_freq": 6
         },
         {
          "freq_of_freq": 11
         },
         {
          "freq_of_freq": 1
         },
         {
          "freq_of_freq": 5
         },
         {
          "freq_of_freq": 3
         },
         {
          "freq_of_freq": 11
         },
         {
          "freq_of_freq": 3
         },
         {
          "freq_of_freq": 1
         },
         {
          "freq_of_freq": 2
         },
         {
          "freq_of_freq": 2
         },
         {
          "freq_of_freq": 4
         },
         {
          "freq_of_freq": 1
         },
         {
          "freq_of_freq": 2
         },
         {
          "freq_of_freq": 2
         },
         {
          "freq_of_freq": 3
         },
         {
          "freq_of_freq": 3
         },
         {
          "freq_of_freq": 2
         },
         {
          "freq_of_freq": 1
         },
         {
          "freq_of_freq": 3
         },
         {
          "freq_of_freq": 3
         },
         {
          "freq_of_freq": 6
         },
         {
          "freq_of_freq": 7
         },
         {
          "freq_of_freq": 3
         },
         {
          "freq_of_freq": 4
         },
         {
          "freq_of_freq": 8
         },
         {
          "freq_of_freq": 4
         },
         {
          "freq_of_freq": 3
         },
         {
          "freq_of_freq": 7
         },
         {
          "freq_of_freq": 6
         },
         {
          "freq_of_freq": 14
         },
         {
          "freq_of_freq": 7
         },
         {
          "freq_of_freq": 3
         },
         {
          "freq_of_freq": 2
         },
         {
          "freq_of_freq": 6
         },
         {
          "freq_of_freq": 5
         },
         {
          "freq_of_freq": 5
         },
         {
          "freq_of_freq": 1
         },
         {
          "freq_of_freq": 5
         },
         {
          "freq_of_freq": 1
         },
         {
          "freq_of_freq": 1
         },
         {
          "freq_of_freq": 10
         },
         {
          "freq_of_freq": 3
         },
         {
          "freq_of_freq": 2
         },
         {
          "freq_of_freq": 2
         },
         {
          "freq_of_freq": 11
         },
         {
          "freq_of_freq": 3
         },
         {
          "freq_of_freq": 1
         },
         {
          "freq_of_freq": 11
         },
         {
          "freq_of_freq": 6
         },
         {
          "freq_of_freq": 5
         },
         {
          "freq_of_freq": 1
         },
         {
          "freq_of_freq": 1
         },
         {
          "freq_of_freq": 2
         },
         {
          "freq_of_freq": 10
         },
         {
          "freq_of_freq": 2
         },
         {
          "freq_of_freq": 2
         },
         {
          "freq_of_freq": 6
         },
         {
          "freq_of_freq": 6
         },
         {
          "freq_of_freq": 5
         },
         {
          "freq_of_freq": 7
         },
         {
          "freq_of_freq": 2
         },
         {
          "freq_of_freq": 6
         },
         {
          "freq_of_freq": 2
         },
         {
          "freq_of_freq": 1
         },
         {
          "freq_of_freq": 2
         },
         {
          "freq_of_freq": 3
         },
         {
          "freq_of_freq": 1
         },
         {
          "freq_of_freq": 5
         },
         {
          "freq_of_freq": 3
         },
         {
          "freq_of_freq": 5
         },
         {
          "freq_of_freq": 3
         },
         {
          "freq_of_freq": 3
         },
         {
          "freq_of_freq": 1
         },
         {
          "freq_of_freq": 3
         },
         {
          "freq_of_freq": 1
         },
         {
          "freq_of_freq": 8
         },
         {
          "freq_of_freq": 4
         },
         {
          "freq_of_freq": 1
         },
         {
          "freq_of_freq": 4
         },
         {
          "freq_of_freq": 9
         },
         {
          "freq_of_freq": 8
         },
         {
          "freq_of_freq": 12
         },
         {
          "freq_of_freq": 3
         },
         {
          "freq_of_freq": 3
         },
         {
          "freq_of_freq": 5
         },
         {
          "freq_of_freq": 1
         },
         {
          "freq_of_freq": 3
         },
         {
          "freq_of_freq": 9
         },
         {
          "freq_of_freq": 8
         },
         {
          "freq_of_freq": 4
         },
         {
          "freq_of_freq": 5
         },
         {
          "freq_of_freq": 1
         },
         {
          "freq_of_freq": 3
         },
         {
          "freq_of_freq": 7
         },
         {
          "freq_of_freq": 1
         },
         {
          "freq_of_freq": 6
         },
         {
          "freq_of_freq": 2
         },
         {
          "freq_of_freq": 7
         },
         {
          "freq_of_freq": 1
         },
         {
          "freq_of_freq": 6
         },
         {
          "freq_of_freq": 6
         },
         {
          "freq_of_freq": 7
         },
         {
          "freq_of_freq": 3
         },
         {
          "freq_of_freq": 2
         },
         {
          "freq_of_freq": 2
         },
         {
          "freq_of_freq": 4
         },
         {
          "freq_of_freq": 1
         },
         {
          "freq_of_freq": 1
         },
         {
          "freq_of_freq": 4
         },
         {
          "freq_of_freq": 1
         },
         {
          "freq_of_freq": 2
         },
         {
          "freq_of_freq": 4
         },
         {
          "freq_of_freq": 4
         },
         {
          "freq_of_freq": 7
         },
         {
          "freq_of_freq": 1
         },
         {
          "freq_of_freq": 1
         },
         {
          "freq_of_freq": 3
         },
         {
          "freq_of_freq": 6
         },
         {
          "freq_of_freq": 1
         },
         {
          "freq_of_freq": 2
         },
         {
          "freq_of_freq": 1
         },
         {
          "freq_of_freq": 1
         },
         {
          "freq_of_freq": 5
         },
         {
          "freq_of_freq": 4
         },
         {
          "freq_of_freq": 2
         },
         {
          "freq_of_freq": 7
         },
         {
          "freq_of_freq": 5
         },
         {
          "freq_of_freq": 4
         },
         {
          "freq_of_freq": 1
         },
         {
          "freq_of_freq": 1
         },
         {
          "freq_of_freq": 1
         },
         {
          "freq_of_freq": 5
         },
         {
          "freq_of_freq": 4
         },
         {
          "freq_of_freq": 1
         },
         {
          "freq_of_freq": 1
         },
         {
          "freq_of_freq": 1
         },
         {
          "freq_of_freq": 8
         },
         {
          "freq_of_freq": 1
         },
         {
          "freq_of_freq": 3
         },
         {
          "freq_of_freq": 2
         },
         {
          "freq_of_freq": 1
         },
         {
          "freq_of_freq": 6
         },
         {
          "freq_of_freq": 2
         },
         {
          "freq_of_freq": 1
         },
         {
          "freq_of_freq": 2
         },
         {
          "freq_of_freq": 1
         },
         {
          "freq_of_freq": 6
         },
         {
          "freq_of_freq": 3
         },
         {
          "freq_of_freq": 5
         },
         {
          "freq_of_freq": 3
         },
         {
          "freq_of_freq": 4
         },
         {
          "freq_of_freq": 5
         },
         {
          "freq_of_freq": 1
         },
         {
          "freq_of_freq": 4
         },
         {
          "freq_of_freq": 6
         },
         {
          "freq_of_freq": 3
         },
         {
          "freq_of_freq": 2
         },
         {
          "freq_of_freq": 1
         },
         {
          "freq_of_freq": 9
         },
         {
          "freq_of_freq": 1
         },
         {
          "freq_of_freq": 1
         },
         {
          "freq_of_freq": 1
         },
         {
          "freq_of_freq": 2
         },
         {
          "freq_of_freq": 9
         },
         {
          "freq_of_freq": 1
         },
         {
          "freq_of_freq": 2
         },
         {
          "freq_of_freq": 3
         },
         {
          "freq_of_freq": 4
         },
         {
          "freq_of_freq": 15
         },
         {
          "freq_of_freq": 1
         },
         {
          "freq_of_freq": 3
         },
         {
          "freq_of_freq": 1
         },
         {
          "freq_of_freq": 6
         },
         {
          "freq_of_freq": 5
         },
         {
          "freq_of_freq": 2
         },
         {
          "freq_of_freq": 2
         },
         {
          "freq_of_freq": 7
         },
         {
          "freq_of_freq": 3
         },
         {
          "freq_of_freq": 1
         },
         {
          "freq_of_freq": 8
         },
         {
          "freq_of_freq": 1
         },
         {
          "freq_of_freq": 2
         },
         {
          "freq_of_freq": 4
         },
         {
          "freq_of_freq": 5
         },
         {
          "freq_of_freq": 2
         },
         {
          "freq_of_freq": 2
         },
         {
          "freq_of_freq": 4
         },
         {
          "freq_of_freq": 11
         },
         {
          "freq_of_freq": 1
         },
         {
          "freq_of_freq": 3
         },
         {
          "freq_of_freq": 1
         },
         {
          "freq_of_freq": 1
         },
         {
          "freq_of_freq": 3
         },
         {
          "freq_of_freq": 2
         },
         {
          "freq_of_freq": 1
         },
         {
          "freq_of_freq": 3
         },
         {
          "freq_of_freq": 2
         },
         {
          "freq_of_freq": 10
         },
         {
          "freq_of_freq": 1
         },
         {
          "freq_of_freq": 6
         },
         {
          "freq_of_freq": 1
         },
         {
          "freq_of_freq": 4
         },
         {
          "freq_of_freq": 3
         },
         {
          "freq_of_freq": 3
         },
         {
          "freq_of_freq": 2
         },
         {
          "freq_of_freq": 7
         },
         {
          "freq_of_freq": 3
         },
         {
          "freq_of_freq": 4
         },
         {
          "freq_of_freq": 6
         },
         {
          "freq_of_freq": 1
         },
         {
          "freq_of_freq": 1
         },
         {
          "freq_of_freq": 10
         },
         {
          "freq_of_freq": 4
         },
         {
          "freq_of_freq": 2
         },
         {
          "freq_of_freq": 1
         },
         {
          "freq_of_freq": 2
         },
         {
          "freq_of_freq": 8
         },
         {
          "freq_of_freq": 3
         },
         {
          "freq_of_freq": 1
         },
         {
          "freq_of_freq": 3
         },
         {
          "freq_of_freq": 7
         },
         {
          "freq_of_freq": 5
         },
         {
          "freq_of_freq": 4
         },
         {
          "freq_of_freq": 2
         },
         {
          "freq_of_freq": 2
         },
         {
          "freq_of_freq": 1
         },
         {
          "freq_of_freq": 1
         },
         {
          "freq_of_freq": 11
         },
         {
          "freq_of_freq": 2
         },
         {
          "freq_of_freq": 1
         },
         {
          "freq_of_freq": 3
         },
         {
          "freq_of_freq": 4
         },
         {
          "freq_of_freq": 2
         },
         {
          "freq_of_freq": 1
         },
         {
          "freq_of_freq": 1
         },
         {
          "freq_of_freq": 2
         },
         {
          "freq_of_freq": 1
         },
         {
          "freq_of_freq": 3
         },
         {
          "freq_of_freq": 1
         },
         {
          "freq_of_freq": 1
         },
         {
          "freq_of_freq": 1
         },
         {
          "freq_of_freq": 1
         },
         {
          "freq_of_freq": 1
         },
         {
          "freq_of_freq": 1
         },
         {
          "freq_of_freq": 4
         },
         {
          "freq_of_freq": 1
         },
         {
          "freq_of_freq": 2
         },
         {
          "freq_of_freq": 1
         },
         {
          "freq_of_freq": 6
         },
         {
          "freq_of_freq": 2
         },
         {
          "freq_of_freq": 1
         },
         {
          "freq_of_freq": 4
         },
         {
          "freq_of_freq": 2
         },
         {
          "freq_of_freq": 2
         },
         {
          "freq_of_freq": 3
         },
         {
          "freq_of_freq": 2
         },
         {
          "freq_of_freq": 2
         },
         {
          "freq_of_freq": 5
         },
         {
          "freq_of_freq": 2
         },
         {
          "freq_of_freq": 1
         },
         {
          "freq_of_freq": 1
         },
         {
          "freq_of_freq": 3
         },
         {
          "freq_of_freq": 4
         },
         {
          "freq_of_freq": 9
         },
         {
          "freq_of_freq": 3
         },
         {
          "freq_of_freq": 1
         },
         {
          "freq_of_freq": 1
         },
         {
          "freq_of_freq": 2
         },
         {
          "freq_of_freq": 1
         },
         {
          "freq_of_freq": 1
         },
         {
          "freq_of_freq": 2
         },
         {
          "freq_of_freq": 2
         },
         {
          "freq_of_freq": 4
         },
         {
          "freq_of_freq": 1
         },
         {
          "freq_of_freq": 2
         },
         {
          "freq_of_freq": 1
         },
         {
          "freq_of_freq": 7
         },
         {
          "freq_of_freq": 4
         },
         {
          "freq_of_freq": 1
         },
         {
          "freq_of_freq": 3
         },
         {
          "freq_of_freq": 1
         },
         {
          "freq_of_freq": 5
         },
         {
          "freq_of_freq": 1
         },
         {
          "freq_of_freq": 1
         },
         {
          "freq_of_freq": 1
         },
         {
          "freq_of_freq": 11
         },
         {
          "freq_of_freq": 4
         },
         {
          "freq_of_freq": 3
         },
         {
          "freq_of_freq": 4
         },
         {
          "freq_of_freq": 2
         },
         {
          "freq_of_freq": 1
         },
         {
          "freq_of_freq": 7
         },
         {
          "freq_of_freq": 1
         },
         {
          "freq_of_freq": 3
         },
         {
          "freq_of_freq": 5
         },
         {
          "freq_of_freq": 1
         },
         {
          "freq_of_freq": 2
         },
         {
          "freq_of_freq": 1
         },
         {
          "freq_of_freq": 2
         },
         {
          "freq_of_freq": 2
         },
         {
          "freq_of_freq": 3
         },
         {
          "freq_of_freq": 1
         },
         {
          "freq_of_freq": 1
         },
         {
          "freq_of_freq": 1
         },
         {
          "freq_of_freq": 3
         },
         {
          "freq_of_freq": 3
         },
         {
          "freq_of_freq": 1
         },
         {
          "freq_of_freq": 4
         },
         {
          "freq_of_freq": 7
         },
         {
          "freq_of_freq": 1
         },
         {
          "freq_of_freq": 2
         },
         {
          "freq_of_freq": 2
         },
         {
          "freq_of_freq": 2
         },
         {
          "freq_of_freq": 5
         },
         {
          "freq_of_freq": 2
         },
         {
          "freq_of_freq": 1
         },
         {
          "freq_of_freq": 5
         },
         {
          "freq_of_freq": 5
         },
         {
          "freq_of_freq": 1
         },
         {
          "freq_of_freq": 4
         },
         {
          "freq_of_freq": 2
         },
         {
          "freq_of_freq": 1
         },
         {
          "freq_of_freq": 2
         },
         {
          "freq_of_freq": 3
         },
         {
          "freq_of_freq": 10
         },
         {
          "freq_of_freq": 3
         },
         {
          "freq_of_freq": 1
         },
         {
          "freq_of_freq": 4
         },
         {
          "freq_of_freq": 1
         },
         {
          "freq_of_freq": 6
         },
         {
          "freq_of_freq": 1
         },
         {
          "freq_of_freq": 3
         },
         {
          "freq_of_freq": 1
         },
         {
          "freq_of_freq": 1
         },
         {
          "freq_of_freq": 10
         },
         {
          "freq_of_freq": 1
         },
         {
          "freq_of_freq": 1
         },
         {
          "freq_of_freq": 1
         },
         {
          "freq_of_freq": 2
         },
         {
          "freq_of_freq": 2
         },
         {
          "freq_of_freq": 1
         },
         {
          "freq_of_freq": 3
         },
         {
          "freq_of_freq": 1
         },
         {
          "freq_of_freq": 6
         },
         {
          "freq_of_freq": 5
         },
         {
          "freq_of_freq": 2
         },
         {
          "freq_of_freq": 2
         },
         {
          "freq_of_freq": 3
         },
         {
          "freq_of_freq": 4
         },
         {
          "freq_of_freq": 1
         },
         {
          "freq_of_freq": 2
         },
         {
          "freq_of_freq": 1
         },
         {
          "freq_of_freq": 1
         },
         {
          "freq_of_freq": 1
         },
         {
          "freq_of_freq": 3
         },
         {
          "freq_of_freq": 2
         },
         {
          "freq_of_freq": 1
         },
         {
          "freq_of_freq": 2
         },
         {
          "freq_of_freq": 1
         },
         {
          "freq_of_freq": 6
         },
         {
          "freq_of_freq": 3
         },
         {
          "freq_of_freq": 2
         },
         {
          "freq_of_freq": 1
         },
         {
          "freq_of_freq": 1
         },
         {
          "freq_of_freq": 3
         },
         {
          "freq_of_freq": 2
         },
         {
          "freq_of_freq": 2
         },
         {
          "freq_of_freq": 3
         },
         {
          "freq_of_freq": 2
         },
         {
          "freq_of_freq": 3
         },
         {
          "freq_of_freq": 1
         },
         {
          "freq_of_freq": 4
         },
         {
          "freq_of_freq": 3
         },
         {
          "freq_of_freq": 2
         },
         {
          "freq_of_freq": 1
         },
         {
          "freq_of_freq": 1
         },
         {
          "freq_of_freq": 1
         },
         {
          "freq_of_freq": 3
         },
         {
          "freq_of_freq": 2
         },
         {
          "freq_of_freq": 2
         },
         {
          "freq_of_freq": 7
         },
         {
          "freq_of_freq": 3
         },
         {
          "freq_of_freq": 2
         },
         {
          "freq_of_freq": 1
         },
         {
          "freq_of_freq": 3
         },
         {
          "freq_of_freq": 1
         },
         {
          "freq_of_freq": 1
         },
         {
          "freq_of_freq": 3
         },
         {
          "freq_of_freq": 4
         },
         {
          "freq_of_freq": 3
         },
         {
          "freq_of_freq": 7
         },
         {
          "freq_of_freq": 2
         },
         {
          "freq_of_freq": 1
         },
         {
          "freq_of_freq": 2
         },
         {
          "freq_of_freq": 1
         },
         {
          "freq_of_freq": 5
         },
         {
          "freq_of_freq": 1
         },
         {
          "freq_of_freq": 1
         },
         {
          "freq_of_freq": 2
         },
         {
          "freq_of_freq": 2
         },
         {
          "freq_of_freq": 1
         },
         {
          "freq_of_freq": 1
         },
         {
          "freq_of_freq": 1
         },
         {
          "freq_of_freq": 1
         },
         {
          "freq_of_freq": 1
         },
         {
          "freq_of_freq": 3
         },
         {
          "freq_of_freq": 1
         },
         {
          "freq_of_freq": 1
         },
         {
          "freq_of_freq": 2
         },
         {
          "freq_of_freq": 1
         },
         {
          "freq_of_freq": 4
         },
         {
          "freq_of_freq": 1
         },
         {
          "freq_of_freq": 1
         },
         {
          "freq_of_freq": 2
         },
         {
          "freq_of_freq": 2
         },
         {
          "freq_of_freq": 3
         },
         {
          "freq_of_freq": 1
         },
         {
          "freq_of_freq": 1
         },
         {
          "freq_of_freq": 2
         },
         {
          "freq_of_freq": 2
         },
         {
          "freq_of_freq": 1
         },
         {
          "freq_of_freq": 5
         },
         {
          "freq_of_freq": 2
         },
         {
          "freq_of_freq": 2
         },
         {
          "freq_of_freq": 3
         },
         {
          "freq_of_freq": 4
         },
         {
          "freq_of_freq": 1
         },
         {
          "freq_of_freq": 2
         },
         {
          "freq_of_freq": 1
         },
         {
          "freq_of_freq": 2
         },
         {
          "freq_of_freq": 1
         },
         {
          "freq_of_freq": 4
         },
         {
          "freq_of_freq": 1
         },
         {
          "freq_of_freq": 1
         },
         {
          "freq_of_freq": 2
         },
         {
          "freq_of_freq": 7
         },
         {
          "freq_of_freq": 1
         },
         {
          "freq_of_freq": 1
         },
         {
          "freq_of_freq": 5
         },
         {
          "freq_of_freq": 1
         },
         {
          "freq_of_freq": 1
         },
         {
          "freq_of_freq": 1
         },
         {
          "freq_of_freq": 6
         },
         {
          "freq_of_freq": 1
         },
         {
          "freq_of_freq": 1
         },
         {
          "freq_of_freq": 3
         },
         {
          "freq_of_freq": 1
         },
         {
          "freq_of_freq": 1
         },
         {
          "freq_of_freq": 1
         },
         {
          "freq_of_freq": 2
         },
         {
          "freq_of_freq": 1
         },
         {
          "freq_of_freq": 3
         },
         {
          "freq_of_freq": 1
         },
         {
          "freq_of_freq": 2
         },
         {
          "freq_of_freq": 3
         },
         {
          "freq_of_freq": 1
         },
         {
          "freq_of_freq": 2
         },
         {
          "freq_of_freq": 1
         },
         {
          "freq_of_freq": 1
         },
         {
          "freq_of_freq": 2
         },
         {
          "freq_of_freq": 2
         },
         {
          "freq_of_freq": 1
         },
         {
          "freq_of_freq": 1
         },
         {
          "freq_of_freq": 1
         },
         {
          "freq_of_freq": 7
         },
         {
          "freq_of_freq": 3
         },
         {
          "freq_of_freq": 6
         },
         {
          "freq_of_freq": 1
         },
         {
          "freq_of_freq": 3
         },
         {
          "freq_of_freq": 3
         },
         {
          "freq_of_freq": 2
         },
         {
          "freq_of_freq": 1
         },
         {
          "freq_of_freq": 3
         },
         {
          "freq_of_freq": 1
         },
         {
          "freq_of_freq": 2
         },
         {
          "freq_of_freq": 1
         },
         {
          "freq_of_freq": 2
         },
         {
          "freq_of_freq": 1
         },
         {
          "freq_of_freq": 2
         },
         {
          "freq_of_freq": 2
         },
         {
          "freq_of_freq": 1
         },
         {
          "freq_of_freq": 4
         },
         {
          "freq_of_freq": 1
         },
         {
          "freq_of_freq": 2
         },
         {
          "freq_of_freq": 2
         },
         {
          "freq_of_freq": 4
         },
         {
          "freq_of_freq": 1
         },
         {
          "freq_of_freq": 1
         },
         {
          "freq_of_freq": 1
         },
         {
          "freq_of_freq": 1
         },
         {
          "freq_of_freq": 3
         },
         {
          "freq_of_freq": 1
         },
         {
          "freq_of_freq": 2
         },
         {
          "freq_of_freq": 2
         },
         {
          "freq_of_freq": 5
         },
         {
          "freq_of_freq": 1
         },
         {
          "freq_of_freq": 5
         },
         {
          "freq_of_freq": 2
         },
         {
          "freq_of_freq": 1
         },
         {
          "freq_of_freq": 2
         },
         {
          "freq_of_freq": 1
         },
         {
          "freq_of_freq": 2
         },
         {
          "freq_of_freq": 2
         },
         {
          "freq_of_freq": 1
         },
         {
          "freq_of_freq": 2
         },
         {
          "freq_of_freq": 2
         },
         {
          "freq_of_freq": 2
         },
         {
          "freq_of_freq": 1
         },
         {
          "freq_of_freq": 2
         },
         {
          "freq_of_freq": 3
         },
         {
          "freq_of_freq": 2
         },
         {
          "freq_of_freq": 1
         },
         {
          "freq_of_freq": 1
         },
         {
          "freq_of_freq": 1
         },
         {
          "freq_of_freq": 1
         },
         {
          "freq_of_freq": 1
         },
         {
          "freq_of_freq": 1
         },
         {
          "freq_of_freq": 1
         },
         {
          "freq_of_freq": 1
         },
         {
          "freq_of_freq": 2
         },
         {
          "freq_of_freq": 1
         },
         {
          "freq_of_freq": 3
         },
         {
          "freq_of_freq": 3
         },
         {
          "freq_of_freq": 1
         },
         {
          "freq_of_freq": 1
         },
         {
          "freq_of_freq": 1
         },
         {
          "freq_of_freq": 2
         },
         {
          "freq_of_freq": 1
         },
         {
          "freq_of_freq": 1
         },
         {
          "freq_of_freq": 1
         },
         {
          "freq_of_freq": 1
         },
         {
          "freq_of_freq": 1
         },
         {
          "freq_of_freq": 1
         },
         {
          "freq_of_freq": 1
         },
         {
          "freq_of_freq": 2
         },
         {
          "freq_of_freq": 2
         },
         {
          "freq_of_freq": 2
         },
         {
          "freq_of_freq": 1
         },
         {
          "freq_of_freq": 1
         },
         {
          "freq_of_freq": 2
         },
         {
          "freq_of_freq": 1
         },
         {
          "freq_of_freq": 1
         },
         {
          "freq_of_freq": 1
         },
         {
          "freq_of_freq": 1
         },
         {
          "freq_of_freq": 1
         },
         {
          "freq_of_freq": 1
         },
         {
          "freq_of_freq": 1
         },
         {
          "freq_of_freq": 1
         },
         {
          "freq_of_freq": 1
         },
         {
          "freq_of_freq": 2
         },
         {
          "freq_of_freq": 2
         },
         {
          "freq_of_freq": 1
         },
         {
          "freq_of_freq": 2
         },
         {
          "freq_of_freq": 2
         },
         {
          "freq_of_freq": 2
         },
         {
          "freq_of_freq": 1
         },
         {
          "freq_of_freq": 1
         },
         {
          "freq_of_freq": 3
         },
         {
          "freq_of_freq": 1
         },
         {
          "freq_of_freq": 2
         },
         {
          "freq_of_freq": 2
         },
         {
          "freq_of_freq": 1
         },
         {
          "freq_of_freq": 1
         },
         {
          "freq_of_freq": 2
         },
         {
          "freq_of_freq": 3
         },
         {
          "freq_of_freq": 1
         },
         {
          "freq_of_freq": 1
         },
         {
          "freq_of_freq": 2
         },
         {
          "freq_of_freq": 4
         },
         {
          "freq_of_freq": 1
         },
         {
          "freq_of_freq": 1
         },
         {
          "freq_of_freq": 1
         },
         {
          "freq_of_freq": 2
         },
         {
          "freq_of_freq": 1
         },
         {
          "freq_of_freq": 1
         },
         {
          "freq_of_freq": 1
         },
         {
          "freq_of_freq": 3
         },
         {
          "freq_of_freq": 1
         },
         {
          "freq_of_freq": 2
         },
         {
          "freq_of_freq": 1
         },
         {
          "freq_of_freq": 1
         },
         {
          "freq_of_freq": 1
         },
         {
          "freq_of_freq": 3
         },
         {
          "freq_of_freq": 1
         },
         {
          "freq_of_freq": 2
         },
         {
          "freq_of_freq": 1
         },
         {
          "freq_of_freq": 1
         },
         {
          "freq_of_freq": 1
         },
         {
          "freq_of_freq": 1
         },
         {
          "freq_of_freq": 1
         },
         {
          "freq_of_freq": 1
         },
         {
          "freq_of_freq": 1
         },
         {
          "freq_of_freq": 1
         },
         {
          "freq_of_freq": 1
         },
         {
          "freq_of_freq": 1
         },
         {
          "freq_of_freq": 1
         },
         {
          "freq_of_freq": 1
         },
         {
          "freq_of_freq": 1
         },
         {
          "freq_of_freq": 1
         },
         {
          "freq_of_freq": 3
         },
         {
          "freq_of_freq": 1
         },
         {
          "freq_of_freq": 1
         },
         {
          "freq_of_freq": 2
         },
         {
          "freq_of_freq": 1
         },
         {
          "freq_of_freq": 1
         },
         {
          "freq_of_freq": 1
         },
         {
          "freq_of_freq": 2
         },
         {
          "freq_of_freq": 2
         },
         {
          "freq_of_freq": 1
         },
         {
          "freq_of_freq": 1
         },
         {
          "freq_of_freq": 2
         },
         {
          "freq_of_freq": 1
         },
         {
          "freq_of_freq": 1
         },
         {
          "freq_of_freq": 1
         },
         {
          "freq_of_freq": 1
         },
         {
          "freq_of_freq": 1
         },
         {
          "freq_of_freq": 1
         },
         {
          "freq_of_freq": 1
         },
         {
          "freq_of_freq": 1
         },
         {
          "freq_of_freq": 2
         },
         {
          "freq_of_freq": 2
         },
         {
          "freq_of_freq": 1
         },
         {
          "freq_of_freq": 1
         },
         {
          "freq_of_freq": 1
         },
         {
          "freq_of_freq": 1
         },
         {
          "freq_of_freq": 1
         },
         {
          "freq_of_freq": 3
         },
         {
          "freq_of_freq": 1
         },
         {
          "freq_of_freq": 1
         },
         {
          "freq_of_freq": 1
         },
         {
          "freq_of_freq": 1
         },
         {
          "freq_of_freq": 1
         },
         {
          "freq_of_freq": 1
         },
         {
          "freq_of_freq": 3
         },
         {
          "freq_of_freq": 2
         },
         {
          "freq_of_freq": 1
         },
         {
          "freq_of_freq": 2
         },
         {
          "freq_of_freq": 1
         },
         {
          "freq_of_freq": 2
         },
         {
          "freq_of_freq": 1
         },
         {
          "freq_of_freq": 1
         },
         {
          "freq_of_freq": 1
         },
         {
          "freq_of_freq": 2
         },
         {
          "freq_of_freq": 1
         },
         {
          "freq_of_freq": 1
         },
         {
          "freq_of_freq": 2
         },
         {
          "freq_of_freq": 1
         },
         {
          "freq_of_freq": 1
         },
         {
          "freq_of_freq": 1
         },
         {
          "freq_of_freq": 1
         },
         {
          "freq_of_freq": 1
         },
         {
          "freq_of_freq": 1
         },
         {
          "freq_of_freq": 1
         },
         {
          "freq_of_freq": 2
         },
         {
          "freq_of_freq": 1
         },
         {
          "freq_of_freq": 1
         },
         {
          "freq_of_freq": 2
         },
         {
          "freq_of_freq": 2
         },
         {
          "freq_of_freq": 1
         },
         {
          "freq_of_freq": 1
         },
         {
          "freq_of_freq": 1
         },
         {
          "freq_of_freq": 1
         },
         {
          "freq_of_freq": 1
         },
         {
          "freq_of_freq": 1
         },
         {
          "freq_of_freq": 1
         },
         {
          "freq_of_freq": 1
         },
         {
          "freq_of_freq": 1
         },
         {
          "freq_of_freq": 1
         },
         {
          "freq_of_freq": 4
         },
         {
          "freq_of_freq": 1
         },
         {
          "freq_of_freq": 1
         },
         {
          "freq_of_freq": 1
         },
         {
          "freq_of_freq": 2
         },
         {
          "freq_of_freq": 2
         },
         {
          "freq_of_freq": 3
         },
         {
          "freq_of_freq": 2
         },
         {
          "freq_of_freq": 1
         },
         {
          "freq_of_freq": 1
         },
         {
          "freq_of_freq": 1
         },
         {
          "freq_of_freq": 1
         },
         {
          "freq_of_freq": 1
         },
         {
          "freq_of_freq": 1
         },
         {
          "freq_of_freq": 1
         },
         {
          "freq_of_freq": 1
         },
         {
          "freq_of_freq": 1
         },
         {
          "freq_of_freq": 1
         },
         {
          "freq_of_freq": 2
         },
         {
          "freq_of_freq": 1
         },
         {
          "freq_of_freq": 2
         },
         {
          "freq_of_freq": 1
         },
         {
          "freq_of_freq": 1
         },
         {
          "freq_of_freq": 1
         },
         {
          "freq_of_freq": 1
         },
         {
          "freq_of_freq": 1
         },
         {
          "freq_of_freq": 1
         },
         {
          "freq_of_freq": 1
         },
         {
          "freq_of_freq": 1
         },
         {
          "freq_of_freq": 1
         },
         {
          "freq_of_freq": 1
         },
         {
          "freq_of_freq": 1
         },
         {
          "freq_of_freq": 1
         },
         {
          "freq_of_freq": 1
         },
         {
          "freq_of_freq": 1
         },
         {
          "freq_of_freq": 1
         },
         {
          "freq_of_freq": 1
         },
         {
          "freq_of_freq": 1
         },
         {
          "freq_of_freq": 1
         },
         {
          "freq_of_freq": 1
         },
         {
          "freq_of_freq": 1
         },
         {
          "freq_of_freq": 1
         },
         {
          "freq_of_freq": 1
         },
         {
          "freq_of_freq": 1
         },
         {
          "freq_of_freq": 3
         },
         {
          "freq_of_freq": 1
         },
         {
          "freq_of_freq": 1
         },
         {
          "freq_of_freq": 2
         },
         {
          "freq_of_freq": 1
         },
         {
          "freq_of_freq": 1
         },
         {
          "freq_of_freq": 1
         },
         {
          "freq_of_freq": 1
         },
         {
          "freq_of_freq": 1
         },
         {
          "freq_of_freq": 1
         },
         {
          "freq_of_freq": 1
         },
         {
          "freq_of_freq": 1
         },
         {
          "freq_of_freq": 1
         },
         {
          "freq_of_freq": 1
         },
         {
          "freq_of_freq": 1
         },
         {
          "freq_of_freq": 1
         },
         {
          "freq_of_freq": 2
         },
         {
          "freq_of_freq": 1
         },
         {
          "freq_of_freq": 1
         },
         {
          "freq_of_freq": 1
         },
         {
          "freq_of_freq": 1
         },
         {
          "freq_of_freq": 1
         },
         {
          "freq_of_freq": 1
         },
         {
          "freq_of_freq": 1
         },
         {
          "freq_of_freq": 1
         },
         {
          "freq_of_freq": 1
         },
         {
          "freq_of_freq": 1
         },
         {
          "freq_of_freq": 1
         },
         {
          "freq_of_freq": 1
         },
         {
          "freq_of_freq": 1
         },
         {
          "freq_of_freq": 1
         },
         {
          "freq_of_freq": 1
         },
         {
          "freq_of_freq": 1
         },
         {
          "freq_of_freq": 1
         },
         {
          "freq_of_freq": 1
         },
         {
          "freq_of_freq": 1
         },
         {
          "freq_of_freq": 1
         },
         {
          "freq_of_freq": 1
         },
         {
          "freq_of_freq": 1
         },
         {
          "freq_of_freq": 1
         },
         {
          "freq_of_freq": 1
         },
         {
          "freq_of_freq": 1
         },
         {
          "freq_of_freq": 1
         },
         {
          "freq_of_freq": 1
         },
         {
          "freq_of_freq": 1
         },
         {
          "freq_of_freq": 1
         },
         {
          "freq_of_freq": 1
         }
        ]
       },
       "encoding": {
        "x": {
         "bin": {
          "step": 1
         },
         "field": "freq_of_freq",
         "type": "quantitative"
        },
        "y": {
         "aggregate": "count",
         "type": "quantitative"
        }
       },
       "mark": "bar"
      },
      "image/png": "[encoded data removed]",
      "text/plain": [
       "<VegaLite 2 object>\n",
       "\n",
       "If you see this message, it means the renderer has not been properly enabled\n",
       "for the frontend that you are using. For more information, see\n",
       "https://altair-viz.github.io/user_guide/troubleshooting.html\n"
      ]
     },
     "metadata": {},
     "output_type": "display_data"
    },
    {
     "name": "stdout",
     "output_type": "stream",
     "text": [
      "2465 901 398\n"
     ]
    }
   ],
   "source": [
    "import pandas as pd\n",
    "import collections\n",
    "from mturk.query_line import QueryLine\n",
    "\n",
    "pd.set_option(\"display.max_rows\", None)\n",
    "dataf = open(cd('speaker.listener.jsonl'))\n",
    "\n",
    "def isfloat(string):\n",
    "    try:\n",
    "        float(string)\n",
    "        return True\n",
    "    except ValueError:\n",
    "        return False\n",
    "    \n",
    "def reduce_formula(x):\n",
    "    v = x[x.index(':')+1:]\n",
    "    return x[:x.index(':')] + ('number' if isfloat(v) else v)\n",
    "\n",
    "lines = [QueryLine(l) for l in dataf.readlines()]\n",
    "formulas = [l.example()['targetFormula'] for l in lines]\n",
    "paths = list(map(lambda x: reduce_formula(x), formulas))\n",
    "pathsset = set(paths)\n",
    "pathcounter = collections.Counter(paths)\n",
    "countisone = [k for k in pathcounter.keys() if pathcounter[k] == 1]\n",
    "freqfreq = pathcounter.values()\n",
    "spec = {\n",
    "      \"data\": {\"values\": [{\"freq_of_freq\": v} for v in freqfreq]},\n",
    "      \"mark\": \"bar\",\n",
    "      \"encoding\": {\n",
    "        \"x\": {\n",
    "          \"field\": \"freq_of_freq\",\n",
    "          \"type\": \"quantitative\",\n",
    "          \"bin\": {\"step\": 1} \n",
    "        },\n",
    "        \"y\": {\n",
    "          \"aggregate\": \"count\",\n",
    "          \"type\": \"quantitative\"\n",
    "        }\n",
    "      }\n",
    "    }\n",
    "chart = alt.VegaLite(spec)\n",
    "display(chart)\n",
    "print(len(paths), len(pathsset), len(countisone))\n",
    "table = pd.DataFrame({'utterances': uniques})\n",
    "open('visualize.html', 'w').write(table.to_html())\n",
    "\n",
    "def to_html(spec):\n",
    "    return alt.utils.html.spec_to_html(spec, 'vega-lite', '3', '3', '2')\n",
    "\n",
    "# open('visualize.html', 'w').write(to_html(spec))"
   ]
  },
  {
   "cell_type": "code",
   "execution_count": 136,
   "metadata": {},
   "outputs": [
    {
     "name": "stdout",
     "output_type": "stream",
     "text": [
      "number of listener pick_or_skip 4655\n"
     ]
    },
    {
     "data": {
      "text/html": [
       "<div>\n",
       "<style>\n",
       "    .dataframe thead tr:only-child th {\n",
       "        text-align: right;\n",
       "    }\n",
       "\n",
       "    .dataframe thead th {\n",
       "        text-align: left;\n",
       "    }\n",
       "\n",
       "    .dataframe tbody tr th {\n",
       "        vertical-align: top;\n",
       "    }\n",
       "</style>\n",
       "<table border=\"1\" class=\"dataframe\">\n",
       "  <thead>\n",
       "    <tr style=\"text-align: right;\">\n",
       "      <th></th>\n",
       "      <th>WorkerId</th>\n",
       "      <th>listeners</th>\n",
       "      <th>stats</th>\n",
       "      <th>utts</th>\n",
       "    </tr>\n",
       "  </thead>\n",
       "  <tbody>\n",
       "    <tr>\n",
       "      <th>0</th>\n",
       "      <td>AC5UD8N187QD6</td>\n",
       "      <td>36</td>\n",
       "      <td>{'correct': 30, 'wrong': 5, 'skip': 1}</td>\n",
       "      <td>[invert items on y axis, convert bars to circl...</td>\n",
       "    </tr>\n",
       "    <tr>\n",
       "      <th>1</th>\n",
       "      <td>AUI3R928P63B0</td>\n",
       "      <td>129</td>\n",
       "      <td>{'correct': 114, 'wrong': 12, 'skip': 3}</td>\n",
       "      <td>[Delete Y axis label. , Change the position of...</td>\n",
       "    </tr>\n",
       "    <tr>\n",
       "      <th>2</th>\n",
       "      <td>ASL76QYDI0QLK</td>\n",
       "      <td>122</td>\n",
       "      <td>{'correct': 104, 'wrong': 15, 'skip': 3}</td>\n",
       "      <td>[back ground colour is missing, the graph plot...</td>\n",
       "    </tr>\n",
       "    <tr>\n",
       "      <th>3</th>\n",
       "      <td>A1DB55ZHE7ENEH</td>\n",
       "      <td>34</td>\n",
       "      <td>{'correct': 29, 'wrong': 5, 'skip': 0}</td>\n",
       "      <td>[move labels on the x axis up one row, make th...</td>\n",
       "    </tr>\n",
       "    <tr>\n",
       "      <th>4</th>\n",
       "      <td>A1P7ZED14W8QPK</td>\n",
       "      <td>53</td>\n",
       "      <td>{'correct': 37, 'wrong': 9, 'skip': 7}</td>\n",
       "      <td>[Make the plot bigger and align the keys, Move...</td>\n",
       "    </tr>\n",
       "    <tr>\n",
       "      <th>5</th>\n",
       "      <td>A1T05ZAYGEPASK</td>\n",
       "      <td>116</td>\n",
       "      <td>{'correct': 86, 'wrong': 19, 'skip': 11}</td>\n",
       "      <td>[x label merge with the x intervals, series fo...</td>\n",
       "    </tr>\n",
       "    <tr>\n",
       "      <th>6</th>\n",
       "      <td>A2VR0KBCWPY8E1</td>\n",
       "      <td>29</td>\n",
       "      <td>{'correct': 24, 'wrong': 2, 'skip': 3}</td>\n",
       "      <td>[Set y-axis max to 60 and x-axis max to 275, C...</td>\n",
       "    </tr>\n",
       "    <tr>\n",
       "      <th>7</th>\n",
       "      <td>A1TVJ4HKOOIL6L</td>\n",
       "      <td>134</td>\n",
       "      <td>{'correct': 92, 'wrong': 18, 'skip': 24}</td>\n",
       "      <td>[There is no graph inside the chart in new and...</td>\n",
       "    </tr>\n",
       "    <tr>\n",
       "      <th>8</th>\n",
       "      <td>A1TMTGRETDPYK</td>\n",
       "      <td>18</td>\n",
       "      <td>{'correct': 14, 'wrong': 3, 'skip': 1}</td>\n",
       "      <td>[Bring the price numbers slightly higher than ...</td>\n",
       "    </tr>\n",
       "    <tr>\n",
       "      <th>9</th>\n",
       "      <td>A15WCNO32MHBAF</td>\n",
       "      <td>29</td>\n",
       "      <td>{'correct': 24, 'wrong': 4, 'skip': 1}</td>\n",
       "      <td>[Shift legend to align-left inside graph, Remo...</td>\n",
       "    </tr>\n",
       "    <tr>\n",
       "      <th>10</th>\n",
       "      <td>A374STD2W8N1U8</td>\n",
       "      <td>330</td>\n",
       "      <td>{'correct': 274, 'wrong': 46, 'skip': 10}</td>\n",
       "      <td>[Move the x-axis numbers and words closer to t...</td>\n",
       "    </tr>\n",
       "    <tr>\n",
       "      <th>11</th>\n",
       "      <td>AG5PMV0NS3A44</td>\n",
       "      <td>13</td>\n",
       "      <td>{'correct': 11, 'wrong': 1, 'skip': 1}</td>\n",
       "      <td>[Add thicker grey line along x axis. , Add lar...</td>\n",
       "    </tr>\n",
       "    <tr>\n",
       "      <th>12</th>\n",
       "      <td>A98E8M4QLI9RS</td>\n",
       "      <td>201</td>\n",
       "      <td>{'correct': 155, 'wrong': 33, 'skip': 13}</td>\n",
       "      <td>[Shift x-axis values left and y-axis values up...</td>\n",
       "    </tr>\n",
       "    <tr>\n",
       "      <th>13</th>\n",
       "      <td>A1BC1RCI9Q4HRL</td>\n",
       "      <td>13</td>\n",
       "      <td>{'correct': 8, 'wrong': 4, 'skip': 1}</td>\n",
       "      <td>[font, population numbers, space in age number...</td>\n",
       "    </tr>\n",
       "    <tr>\n",
       "      <th>14</th>\n",
       "      <td>A25AJ66CYVUTBR</td>\n",
       "      <td>32</td>\n",
       "      <td>{'correct': 27, 'wrong': 3, 'skip': 2}</td>\n",
       "      <td>[Cram all the data together in a smaller graph...</td>\n",
       "    </tr>\n",
       "    <tr>\n",
       "      <th>15</th>\n",
       "      <td>A2R3KI7FWWGBIV</td>\n",
       "      <td>89</td>\n",
       "      <td>{'correct': 54, 'wrong': 28, 'skip': 7}</td>\n",
       "      <td>[A second small gray bar added behind the word...</td>\n",
       "    </tr>\n",
       "    <tr>\n",
       "      <th>16</th>\n",
       "      <td>A3G34J14C074C5</td>\n",
       "      <td>155</td>\n",
       "      <td>{'correct': 133, 'wrong': 10, 'skip': 12}</td>\n",
       "      <td>[Increase the space between items in the legen...</td>\n",
       "    </tr>\n",
       "    <tr>\n",
       "      <th>17</th>\n",
       "      <td>A1ZJW4BI9Q8N5N</td>\n",
       "      <td>7</td>\n",
       "      <td>{'correct': 5, 'wrong': 2, 'skip': 0}</td>\n",
       "      <td>[Remove all of the content from inside of the ...</td>\n",
       "    </tr>\n",
       "    <tr>\n",
       "      <th>18</th>\n",
       "      <td>A27K37YQZDPER6</td>\n",
       "      <td>162</td>\n",
       "      <td>{'correct': 129, 'wrong': 24, 'skip': 9}</td>\n",
       "      <td>[cut off numbers on x axis  , remove grid line...</td>\n",
       "    </tr>\n",
       "    <tr>\n",
       "      <th>19</th>\n",
       "      <td>A2N5A9UB883DT1</td>\n",
       "      <td>82</td>\n",
       "      <td>{'correct': 69, 'wrong': 9, 'skip': 4}</td>\n",
       "      <td>[Increase the spacing between the rows of the ...</td>\n",
       "    </tr>\n",
       "    <tr>\n",
       "      <th>20</th>\n",
       "      <td>ABRV9BM4P7OHT</td>\n",
       "      <td>357</td>\n",
       "      <td>{'correct': 276, 'wrong': 54, 'skip': 27}</td>\n",
       "      <td>[Y axis name is changed in the display, x axis...</td>\n",
       "    </tr>\n",
       "    <tr>\n",
       "      <th>21</th>\n",
       "      <td>A3TUJHF9LW3M8N</td>\n",
       "      <td>24</td>\n",
       "      <td>{'correct': 20, 'wrong': 3, 'skip': 1}</td>\n",
       "      <td>[move x axis labe l up, Move 2010 label to the...</td>\n",
       "    </tr>\n",
       "    <tr>\n",
       "      <th>22</th>\n",
       "      <td>A3B9FHCFOVFARJ</td>\n",
       "      <td>121</td>\n",
       "      <td>{'correct': 98, 'wrong': 17, 'skip': 6}</td>\n",
       "      <td>[Remove 2010 from the x-axis, Add a y-axis lab...</td>\n",
       "    </tr>\n",
       "    <tr>\n",
       "      <th>23</th>\n",
       "      <td>A3KA3A3M7LPMPA</td>\n",
       "      <td>134</td>\n",
       "      <td>{'correct': 109, 'wrong': 22, 'skip': 3}</td>\n",
       "      <td>[Legend title moved to overlap plot, Legend co...</td>\n",
       "    </tr>\n",
       "    <tr>\n",
       "      <th>24</th>\n",
       "      <td>A19XA0632R66BN</td>\n",
       "      <td>228</td>\n",
       "      <td>{'correct': 182, 'wrong': 36, 'skip': 10}</td>\n",
       "      <td>[Slide x axis title right, Slide y axis title ...</td>\n",
       "    </tr>\n",
       "    <tr>\n",
       "      <th>25</th>\n",
       "      <td>A32W24TWSWXW</td>\n",
       "      <td>35</td>\n",
       "      <td>{'correct': 31, 'wrong': 4, 'skip': 0}</td>\n",
       "      <td>[In the Origin key, move the list down, Make t...</td>\n",
       "    </tr>\n",
       "    <tr>\n",
       "      <th>26</th>\n",
       "      <td>A3F9N2P4NUUR7S</td>\n",
       "      <td>190</td>\n",
       "      <td>{'correct': 158, 'wrong': 27, 'skip': 5}</td>\n",
       "      <td>[Bring up the X axis Label, Change the Y axis ...</td>\n",
       "    </tr>\n",
       "    <tr>\n",
       "      <th>27</th>\n",
       "      <td>A3W24IE6P9O302</td>\n",
       "      <td>478</td>\n",
       "      <td>{'correct': 382, 'wrong': 65, 'skip': 31}</td>\n",
       "      <td>[ove plots slightly to right, make plots very ...</td>\n",
       "    </tr>\n",
       "    <tr>\n",
       "      <th>28</th>\n",
       "      <td>A2ZYJ4VFTTE82U</td>\n",
       "      <td>45</td>\n",
       "      <td>{'correct': 17, 'wrong': 21, 'skip': 7}</td>\n",
       "      <td>[Increase the length of the x label then only ...</td>\n",
       "    </tr>\n",
       "    <tr>\n",
       "      <th>29</th>\n",
       "      <td>AJMUEAOM8B79</td>\n",
       "      <td>40</td>\n",
       "      <td>{'correct': 32, 'wrong': 7, 'skip': 1}</td>\n",
       "      <td>[make the text of the numbers on the Miles_per...</td>\n",
       "    </tr>\n",
       "    <tr>\n",
       "      <th>30</th>\n",
       "      <td>A2I3Z5BJEBYS2D</td>\n",
       "      <td>15</td>\n",
       "      <td>{'correct': 11, 'wrong': 3, 'skip': 1}</td>\n",
       "      <td>[Add more spacing to the x label, Move the x l...</td>\n",
       "    </tr>\n",
       "    <tr>\n",
       "      <th>31</th>\n",
       "      <td>A38WZEK3MZXR3Q</td>\n",
       "      <td>175</td>\n",
       "      <td>{'correct': 134, 'wrong': 24, 'skip': 17}</td>\n",
       "      <td>[Add months to the Y axis, Move months to the ...</td>\n",
       "    </tr>\n",
       "    <tr>\n",
       "      <th>32</th>\n",
       "      <td>A1ZCKK5SH4WACZ</td>\n",
       "      <td>8</td>\n",
       "      <td>{'correct': 8, 'wrong': 0, 'skip': 0}</td>\n",
       "      <td>[bring the word gas closer to y axis , bring t...</td>\n",
       "    </tr>\n",
       "    <tr>\n",
       "      <th>33</th>\n",
       "      <td>A25FLQSIB09JW2</td>\n",
       "      <td>17</td>\n",
       "      <td>{'correct': 15, 'wrong': 1, 'skip': 1}</td>\n",
       "      <td>[y axis number got changed, graph is missing, ...</td>\n",
       "    </tr>\n",
       "    <tr>\n",
       "      <th>34</th>\n",
       "      <td>A1ENE99INLYD1G</td>\n",
       "      <td>48</td>\n",
       "      <td>{'correct': 32, 'wrong': 11, 'skip': 5}</td>\n",
       "      <td>[turn color of numbers to red, double size of ...</td>\n",
       "    </tr>\n",
       "    <tr>\n",
       "      <th>35</th>\n",
       "      <td>AGELTFR07JZDE</td>\n",
       "      <td>18</td>\n",
       "      <td>{'correct': 16, 'wrong': 2, 'skip': 0}</td>\n",
       "      <td>[x axis color changed with red color , x axis ...</td>\n",
       "    </tr>\n",
       "    <tr>\n",
       "      <th>36</th>\n",
       "      <td>A1A14VJAQ7X888</td>\n",
       "      <td>18</td>\n",
       "      <td>{'correct': 6, 'wrong': 6, 'skip': 6}</td>\n",
       "      <td>[X AND Y AXIS LINE COLORS ARE CHANGED WITH RED...</td>\n",
       "    </tr>\n",
       "    <tr>\n",
       "      <th>37</th>\n",
       "      <td>APJJ1HHD2GGFS</td>\n",
       "      <td>28</td>\n",
       "      <td>{'correct': 19, 'wrong': 7, 'skip': 2}</td>\n",
       "      <td>[y axis label not bold, entire graph and key s...</td>\n",
       "    </tr>\n",
       "    <tr>\n",
       "      <th>38</th>\n",
       "      <td>A3DNL4NA157SUY</td>\n",
       "      <td>12</td>\n",
       "      <td>{'correct': 10, 'wrong': 1, 'skip': 1}</td>\n",
       "      <td>[graph lines are wrong, graph line colour are ...</td>\n",
       "    </tr>\n",
       "    <tr>\n",
       "      <th>39</th>\n",
       "      <td>AW47H2ISJWAJC</td>\n",
       "      <td>55</td>\n",
       "      <td>{'correct': 42, 'wrong': 10, 'skip': 3}</td>\n",
       "      <td>[Add grid lines to outside of plot graphs , Mo...</td>\n",
       "    </tr>\n",
       "    <tr>\n",
       "      <th>40</th>\n",
       "      <td>ARB52L0KXB1DE</td>\n",
       "      <td>92</td>\n",
       "      <td>{'correct': 79, 'wrong': 8, 'skip': 5}</td>\n",
       "      <td>[Legend does not have title, Legend doe not ha...</td>\n",
       "    </tr>\n",
       "    <tr>\n",
       "      <th>41</th>\n",
       "      <td>AZTPV8BOE3N1K</td>\n",
       "      <td>9</td>\n",
       "      <td>{'correct': 6, 'wrong': 2, 'skip': 1}</td>\n",
       "      <td>[no clear image, no clear plot, color mismatch...</td>\n",
       "    </tr>\n",
       "    <tr>\n",
       "      <th>42</th>\n",
       "      <td>AG5QZ1R0EY6R8</td>\n",
       "      <td>18</td>\n",
       "      <td>{'correct': 11, 'wrong': 5, 'skip': 2}</td>\n",
       "      <td>[Y axis is extra  box arrived, y axis and x ax...</td>\n",
       "    </tr>\n",
       "    <tr>\n",
       "      <th>43</th>\n",
       "      <td>AR6K3YBA8CN6K</td>\n",
       "      <td>50</td>\n",
       "      <td>{'correct': 42, 'wrong': 8, 'skip': 0}</td>\n",
       "      <td>[Remove the y scale bar numbers , Change the l...</td>\n",
       "    </tr>\n",
       "    <tr>\n",
       "      <th>44</th>\n",
       "      <td>A3TLI95L5GOBKG</td>\n",
       "      <td>44</td>\n",
       "      <td>{'correct': 36, 'wrong': 5, 'skip': 3}</td>\n",
       "      <td>[the white space not between all values, there...</td>\n",
       "    </tr>\n",
       "    <tr>\n",
       "      <th>45</th>\n",
       "      <td>A35JQ3VLA4WBZC</td>\n",
       "      <td>29</td>\n",
       "      <td>{'correct': 23, 'wrong': 6, 'skip': 0}</td>\n",
       "      <td>[x axis title is moved downwards, there is no ...</td>\n",
       "    </tr>\n",
       "    <tr>\n",
       "      <th>46</th>\n",
       "      <td>AHGM882UX7S4T</td>\n",
       "      <td>15</td>\n",
       "      <td>{'correct': 15, 'wrong': 0, 'skip': 0}</td>\n",
       "      <td>[Remove every other month labels on the y axis...</td>\n",
       "    </tr>\n",
       "    <tr>\n",
       "      <th>47</th>\n",
       "      <td>A7K6LJGDREGTT</td>\n",
       "      <td>56</td>\n",
       "      <td>{'correct': 43, 'wrong': 9, 'skip': 4}</td>\n",
       "      <td>[shift x axis values to right., remove x axis ...</td>\n",
       "    </tr>\n",
       "    <tr>\n",
       "      <th>48</th>\n",
       "      <td>A3CGA66ES1ZTKC</td>\n",
       "      <td>46</td>\n",
       "      <td>{'correct': 38, 'wrong': 8, 'skip': 0}</td>\n",
       "      <td>[inverse plot , X axis value and label move do...</td>\n",
       "    </tr>\n",
       "    <tr>\n",
       "      <th>49</th>\n",
       "      <td>A2P037ISTU1NSX</td>\n",
       "      <td>51</td>\n",
       "      <td>{'correct': 39, 'wrong': 11, 'skip': 1}</td>\n",
       "      <td>[This graph line color changed to red color, d...</td>\n",
       "    </tr>\n",
       "    <tr>\n",
       "      <th>50</th>\n",
       "      <td>A7XY416OMLPB2</td>\n",
       "      <td>38</td>\n",
       "      <td>{'correct': 21, 'wrong': 11, 'skip': 6}</td>\n",
       "      <td>[lower x axis labels, lower sum of yield label...</td>\n",
       "    </tr>\n",
       "    <tr>\n",
       "      <th>51</th>\n",
       "      <td>A1Y82LKWQQP90M</td>\n",
       "      <td>64</td>\n",
       "      <td>{'correct': 55, 'wrong': 6, 'skip': 3}</td>\n",
       "      <td>[Space out the numbers in the legend, MOve the...</td>\n",
       "    </tr>\n",
       "    <tr>\n",
       "      <th>52</th>\n",
       "      <td>AC449WI7OQLZQ</td>\n",
       "      <td>5</td>\n",
       "      <td>{'correct': 1, 'wrong': 4, 'skip': 0}</td>\n",
       "      <td>[show the 90 percentile, reduce graph size at ...</td>\n",
       "    </tr>\n",
       "    <tr>\n",
       "      <th>53</th>\n",
       "      <td>A25AX0DNHKJCQT</td>\n",
       "      <td>10</td>\n",
       "      <td>{'correct': 10, 'wrong': 0, 'skip': 0}</td>\n",
       "      <td>[Show only row with rating of 90, Remove numbe...</td>\n",
       "    </tr>\n",
       "  </tbody>\n",
       "</table>\n",
       "</div>"
      ],
      "text/plain": [
       "          WorkerId  listeners                                      stats  \\\n",
       "0    AC5UD8N187QD6         36     {'correct': 30, 'wrong': 5, 'skip': 1}   \n",
       "1    AUI3R928P63B0        129   {'correct': 114, 'wrong': 12, 'skip': 3}   \n",
       "2    ASL76QYDI0QLK        122   {'correct': 104, 'wrong': 15, 'skip': 3}   \n",
       "3   A1DB55ZHE7ENEH         34     {'correct': 29, 'wrong': 5, 'skip': 0}   \n",
       "4   A1P7ZED14W8QPK         53     {'correct': 37, 'wrong': 9, 'skip': 7}   \n",
       "5   A1T05ZAYGEPASK        116   {'correct': 86, 'wrong': 19, 'skip': 11}   \n",
       "6   A2VR0KBCWPY8E1         29     {'correct': 24, 'wrong': 2, 'skip': 3}   \n",
       "7   A1TVJ4HKOOIL6L        134   {'correct': 92, 'wrong': 18, 'skip': 24}   \n",
       "8    A1TMTGRETDPYK         18     {'correct': 14, 'wrong': 3, 'skip': 1}   \n",
       "9   A15WCNO32MHBAF         29     {'correct': 24, 'wrong': 4, 'skip': 1}   \n",
       "10  A374STD2W8N1U8        330  {'correct': 274, 'wrong': 46, 'skip': 10}   \n",
       "11   AG5PMV0NS3A44         13     {'correct': 11, 'wrong': 1, 'skip': 1}   \n",
       "12   A98E8M4QLI9RS        201  {'correct': 155, 'wrong': 33, 'skip': 13}   \n",
       "13  A1BC1RCI9Q4HRL         13      {'correct': 8, 'wrong': 4, 'skip': 1}   \n",
       "14  A25AJ66CYVUTBR         32     {'correct': 27, 'wrong': 3, 'skip': 2}   \n",
       "15  A2R3KI7FWWGBIV         89    {'correct': 54, 'wrong': 28, 'skip': 7}   \n",
       "16  A3G34J14C074C5        155  {'correct': 133, 'wrong': 10, 'skip': 12}   \n",
       "17  A1ZJW4BI9Q8N5N          7      {'correct': 5, 'wrong': 2, 'skip': 0}   \n",
       "18  A27K37YQZDPER6        162   {'correct': 129, 'wrong': 24, 'skip': 9}   \n",
       "19  A2N5A9UB883DT1         82     {'correct': 69, 'wrong': 9, 'skip': 4}   \n",
       "20   ABRV9BM4P7OHT        357  {'correct': 276, 'wrong': 54, 'skip': 27}   \n",
       "21  A3TUJHF9LW3M8N         24     {'correct': 20, 'wrong': 3, 'skip': 1}   \n",
       "22  A3B9FHCFOVFARJ        121    {'correct': 98, 'wrong': 17, 'skip': 6}   \n",
       "23  A3KA3A3M7LPMPA        134   {'correct': 109, 'wrong': 22, 'skip': 3}   \n",
       "24  A19XA0632R66BN        228  {'correct': 182, 'wrong': 36, 'skip': 10}   \n",
       "25    A32W24TWSWXW         35     {'correct': 31, 'wrong': 4, 'skip': 0}   \n",
       "26  A3F9N2P4NUUR7S        190   {'correct': 158, 'wrong': 27, 'skip': 5}   \n",
       "27  A3W24IE6P9O302        478  {'correct': 382, 'wrong': 65, 'skip': 31}   \n",
       "28  A2ZYJ4VFTTE82U         45    {'correct': 17, 'wrong': 21, 'skip': 7}   \n",
       "29    AJMUEAOM8B79         40     {'correct': 32, 'wrong': 7, 'skip': 1}   \n",
       "30  A2I3Z5BJEBYS2D         15     {'correct': 11, 'wrong': 3, 'skip': 1}   \n",
       "31  A38WZEK3MZXR3Q        175  {'correct': 134, 'wrong': 24, 'skip': 17}   \n",
       "32  A1ZCKK5SH4WACZ          8      {'correct': 8, 'wrong': 0, 'skip': 0}   \n",
       "33  A25FLQSIB09JW2         17     {'correct': 15, 'wrong': 1, 'skip': 1}   \n",
       "34  A1ENE99INLYD1G         48    {'correct': 32, 'wrong': 11, 'skip': 5}   \n",
       "35   AGELTFR07JZDE         18     {'correct': 16, 'wrong': 2, 'skip': 0}   \n",
       "36  A1A14VJAQ7X888         18      {'correct': 6, 'wrong': 6, 'skip': 6}   \n",
       "37   APJJ1HHD2GGFS         28     {'correct': 19, 'wrong': 7, 'skip': 2}   \n",
       "38  A3DNL4NA157SUY         12     {'correct': 10, 'wrong': 1, 'skip': 1}   \n",
       "39   AW47H2ISJWAJC         55    {'correct': 42, 'wrong': 10, 'skip': 3}   \n",
       "40   ARB52L0KXB1DE         92     {'correct': 79, 'wrong': 8, 'skip': 5}   \n",
       "41   AZTPV8BOE3N1K          9      {'correct': 6, 'wrong': 2, 'skip': 1}   \n",
       "42   AG5QZ1R0EY6R8         18     {'correct': 11, 'wrong': 5, 'skip': 2}   \n",
       "43   AR6K3YBA8CN6K         50     {'correct': 42, 'wrong': 8, 'skip': 0}   \n",
       "44  A3TLI95L5GOBKG         44     {'correct': 36, 'wrong': 5, 'skip': 3}   \n",
       "45  A35JQ3VLA4WBZC         29     {'correct': 23, 'wrong': 6, 'skip': 0}   \n",
       "46   AHGM882UX7S4T         15     {'correct': 15, 'wrong': 0, 'skip': 0}   \n",
       "47   A7K6LJGDREGTT         56     {'correct': 43, 'wrong': 9, 'skip': 4}   \n",
       "48  A3CGA66ES1ZTKC         46     {'correct': 38, 'wrong': 8, 'skip': 0}   \n",
       "49  A2P037ISTU1NSX         51    {'correct': 39, 'wrong': 11, 'skip': 1}   \n",
       "50   A7XY416OMLPB2         38    {'correct': 21, 'wrong': 11, 'skip': 6}   \n",
       "51  A1Y82LKWQQP90M         64     {'correct': 55, 'wrong': 6, 'skip': 3}   \n",
       "52   AC449WI7OQLZQ          5      {'correct': 1, 'wrong': 4, 'skip': 0}   \n",
       "53  A25AX0DNHKJCQT         10     {'correct': 10, 'wrong': 0, 'skip': 0}   \n",
       "\n",
       "                                                 utts  \n",
       "0   [invert items on y axis, convert bars to circl...  \n",
       "1   [Delete Y axis label. , Change the position of...  \n",
       "2   [back ground colour is missing, the graph plot...  \n",
       "3   [move labels on the x axis up one row, make th...  \n",
       "4   [Make the plot bigger and align the keys, Move...  \n",
       "5   [x label merge with the x intervals, series fo...  \n",
       "6   [Set y-axis max to 60 and x-axis max to 275, C...  \n",
       "7   [There is no graph inside the chart in new and...  \n",
       "8   [Bring the price numbers slightly higher than ...  \n",
       "9   [Shift legend to align-left inside graph, Remo...  \n",
       "10  [Move the x-axis numbers and words closer to t...  \n",
       "11  [Add thicker grey line along x axis. , Add lar...  \n",
       "12  [Shift x-axis values left and y-axis values up...  \n",
       "13  [font, population numbers, space in age number...  \n",
       "14  [Cram all the data together in a smaller graph...  \n",
       "15  [A second small gray bar added behind the word...  \n",
       "16  [Increase the space between items in the legen...  \n",
       "17  [Remove all of the content from inside of the ...  \n",
       "18  [cut off numbers on x axis  , remove grid line...  \n",
       "19  [Increase the spacing between the rows of the ...  \n",
       "20  [Y axis name is changed in the display, x axis...  \n",
       "21  [move x axis labe l up, Move 2010 label to the...  \n",
       "22  [Remove 2010 from the x-axis, Add a y-axis lab...  \n",
       "23  [Legend title moved to overlap plot, Legend co...  \n",
       "24  [Slide x axis title right, Slide y axis title ...  \n",
       "25  [In the Origin key, move the list down, Make t...  \n",
       "26  [Bring up the X axis Label, Change the Y axis ...  \n",
       "27  [ove plots slightly to right, make plots very ...  \n",
       "28  [Increase the length of the x label then only ...  \n",
       "29  [make the text of the numbers on the Miles_per...  \n",
       "30  [Add more spacing to the x label, Move the x l...  \n",
       "31  [Add months to the Y axis, Move months to the ...  \n",
       "32  [bring the word gas closer to y axis , bring t...  \n",
       "33  [y axis number got changed, graph is missing, ...  \n",
       "34  [turn color of numbers to red, double size of ...  \n",
       "35  [x axis color changed with red color , x axis ...  \n",
       "36  [X AND Y AXIS LINE COLORS ARE CHANGED WITH RED...  \n",
       "37  [y axis label not bold, entire graph and key s...  \n",
       "38  [graph lines are wrong, graph line colour are ...  \n",
       "39  [Add grid lines to outside of plot graphs , Mo...  \n",
       "40  [Legend does not have title, Legend doe not ha...  \n",
       "41  [no clear image, no clear plot, color mismatch...  \n",
       "42  [Y axis is extra  box arrived, y axis and x ax...  \n",
       "43  [Remove the y scale bar numbers , Change the l...  \n",
       "44  [the white space not between all values, there...  \n",
       "45  [x axis title is moved downwards, there is no ...  \n",
       "46  [Remove every other month labels on the y axis...  \n",
       "47  [shift x axis values to right., remove x axis ...  \n",
       "48  [inverse plot , X axis value and label move do...  \n",
       "49  [This graph line color changed to red color, d...  \n",
       "50  [lower x axis labels, lower sum of yield label...  \n",
       "51  [Space out the numbers in the legend, MOve the...  \n",
       "52  [show the 90 percentile, reduce graph size at ...  \n",
       "53  [Show only row with rating of 90, Remove numbe...  "
      ]
     },
     "metadata": {},
     "output_type": "display_data"
    },
    {
     "data": {
      "text/plain": [
       "11270"
      ]
     },
     "execution_count": 136,
     "metadata": {},
     "output_type": "execute_result"
    }
   ],
   "source": [
    "import mturk.process_listener as pl \n",
    "examples = [QueryLine(line.strip()) for line in open(cd('speaker.jsonl'), 'r').readlines()]\n",
    "listener_log = [QueryLine(line.strip()) for line in open(cd('listener.raw.jsonl'), 'r').readlines()]\n",
    "# adds annotations\n",
    "pl.process_listener(examples, listener_log)\n",
    "speakers, listeners = pl.aggregate_turker(examples)\n",
    "\n",
    "def q2row(l: QueryLine):\n",
    "    return {'utterance': l.utterance(), 'workerId': l.worker_id(), 'targetFormula': l.example()['targetFormula']} \n",
    "\n",
    "def speaker2row(id, l: dict):\n",
    "    return {'WorkerId': id, 'stats': l['stats'],\n",
    "            'utts': l['utterances'], 'listeners': len(l['listeners'])}\n",
    "\n",
    "table = pd.DataFrame.from_records([speaker2row(k, v) for k,v in speakers.items()])\n",
    "table.sort_values(by=['WorkerId'])\n",
    "display(table)\n",
    "open('visualize.html', 'w').write(table.to_html())"
   ]
  },
  {
   "cell_type": "code",
   "execution_count": null,
   "metadata": {},
   "outputs": [],
   "source": []
  },
  {
   "cell_type": "code",
   "execution_count": null,
   "metadata": {},
   "outputs": [],
   "source": []
  }
 ],
 "metadata": {
  "kernelspec": {
   "display_name": "Python 3",
   "language": "python",
   "name": "python3"
  },
  "language_info": {
   "codemirror_mode": {
    "name": "ipython",
    "version": 3
   },
   "file_extension": ".py",
   "mimetype": "text/x-python",
   "name": "python",
   "nbconvert_exporter": "python",
   "pygments_lexer": "ipython3",
   "version": "3.6.3"
  }
 },
 "nbformat": 4,
 "nbformat_minor": 2
}
