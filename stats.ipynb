{
 "cells": [
  {
   "cell_type": "code",
   "execution_count": 3,
   "metadata": {},
   "outputs": [],
   "source": [
    "import json\n",
    "import datetime\n",
    "import altair as alt\n",
    "import pandas as pd\n",
    "import numpy as np\n",
    "import os\n",
    "\n",
    "base = 'hits/2018-08-29_22-54-16'\n",
    "def cd(file):\n",
    "    return os.path.join(base, file)"
   ]
  },
  {
   "cell_type": "code",
   "execution_count": 6,
   "metadata": {},
   "outputs": [],
   "source": [
    "def duration_plot(assignments):\n",
    "    times = []\n",
    "    submit_times = []\n",
    "    for l in assignments:\n",
    "        submit = datetime.datetime.strptime(l['SubmitTime'][:-6], \"%Y-%m-%d %H:%M:%S\")\n",
    "        accept = datetime.datetime.strptime(l['AcceptTime'][:-6], \"%Y-%m-%d %H:%M:%S\")\n",
    "        submit_times.append(submit)\n",
    "        diff = (submit - accept).total_seconds()/60.0\n",
    "        times.append({\"diff\": diff})\n",
    "    spec = {\n",
    "      \"data\": {\"values\": times},\n",
    "      \"mark\": \"bar\",\n",
    "      \"encoding\": {\n",
    "        \"x\": {\n",
    "          \"field\": \"diff\",\n",
    "          \"type\": \"quantitative\",\n",
    "          \"bin\": {\"step\": 1} \n",
    "        },\n",
    "        \"y\": {\n",
    "          \"aggregate\": \"count\",\n",
    "          \"type\": \"quantitative\"\n",
    "        }\n",
    "      }\n",
    "    }\n",
    "    print('min - max: ', min(submit_times), max(submit_times))\n",
    "    print('mean duration: ', np.mean(list(map(lambda d: d['diff'], times))))\n",
    "    return alt.VegaLite(spec)"
   ]
  },
  {
   "cell_type": "code",
   "execution_count": 9,
   "metadata": {},
   "outputs": [
    {
     "name": "stdout",
     "output_type": "stream",
     "text": [
      "min - max:  2018-08-30 23:02:32 2018-08-31 01:54:16\n",
      "mean duration:  6.554266666666666\n"
     ]
    },
    {
     "data": {
      "application/vnd.vegalite.v2+json": {
       "data": {
        "values": [
         {
          "diff": 1.6166666666666667
         },
         {
          "diff": 5.516666666666667
         },
         {
          "diff": 14.933333333333334
         },
         {
          "diff": 4.666666666666667
         },
         {
          "diff": 1.65
         },
         {
          "diff": 9.75
         },
         {
          "diff": 3.0166666666666666
         },
         {
          "diff": 2.566666666666667
         },
         {
          "diff": 7.183333333333334
         },
         {
          "diff": 7.15
         },
         {
          "diff": 3.3333333333333335
         },
         {
          "diff": 6.2
         },
         {
          "diff": 2.3333333333333335
         },
         {
          "diff": 6.366666666666666
         },
         {
          "diff": 19.75
         },
         {
          "diff": 2.2
         },
         {
          "diff": 5.85
         },
         {
          "diff": 13.25
         },
         {
          "diff": 2.433333333333333
         },
         {
          "diff": 2.183333333333333
         },
         {
          "diff": 3.066666666666667
         },
         {
          "diff": 17.233333333333334
         },
         {
          "diff": 4.166666666666667
         },
         {
          "diff": 8.266666666666667
         },
         {
          "diff": 19.85
         },
         {
          "diff": 3.2
         },
         {
          "diff": 1.7333333333333334
         },
         {
          "diff": 6.05
         },
         {
          "diff": 1.3833333333333333
         },
         {
          "diff": 0.9166666666666666
         },
         {
          "diff": 3.533333333333333
         },
         {
          "diff": 1.1
         },
         {
          "diff": 17.383333333333333
         },
         {
          "diff": 16.466666666666665
         },
         {
          "diff": 9.683333333333334
         },
         {
          "diff": 13.566666666666666
         },
         {
          "diff": 3.7666666666666666
         },
         {
          "diff": 20.433333333333334
         },
         {
          "diff": 4.533333333333333
         },
         {
          "diff": 4.433333333333334
         },
         {
          "diff": 1.75
         },
         {
          "diff": 1.9
         },
         {
          "diff": 5.733333333333333
         },
         {
          "diff": 1.2333333333333334
         },
         {
          "diff": 16.05
         },
         {
          "diff": 13.1
         },
         {
          "diff": 21.266666666666666
         },
         {
          "diff": 2.8
         },
         {
          "diff": 3.55
         },
         {
          "diff": 1.55
         },
         {
          "diff": 5.9
         },
         {
          "diff": 6.6
         },
         {
          "diff": 7.1
         },
         {
          "diff": 3.3
         },
         {
          "diff": 10.166666666666666
         },
         {
          "diff": 2.716666666666667
         },
         {
          "diff": 7.016666666666667
         },
         {
          "diff": 3.183333333333333
         },
         {
          "diff": 3.1
         },
         {
          "diff": 3.3333333333333335
         },
         {
          "diff": 5.8
         },
         {
          "diff": 1.1166666666666667
         },
         {
          "diff": 3.966666666666667
         },
         {
          "diff": 4.65
         },
         {
          "diff": 7.5
         },
         {
          "diff": 5.216666666666667
         },
         {
          "diff": 21.65
         },
         {
          "diff": 4.55
         },
         {
          "diff": 7.55
         },
         {
          "diff": 13.733333333333333
         },
         {
          "diff": 2.75
         },
         {
          "diff": 3.1333333333333333
         },
         {
          "diff": 5.233333333333333
         },
         {
          "diff": 1.4833333333333334
         },
         {
          "diff": 15.2
         },
         {
          "diff": 3.55
         },
         {
          "diff": 7
         },
         {
          "diff": 2.716666666666667
         },
         {
          "diff": 2.3
         },
         {
          "diff": 29.566666666666666
         },
         {
          "diff": 6.45
         },
         {
          "diff": 2.966666666666667
         },
         {
          "diff": 4.016666666666667
         },
         {
          "diff": 3.5166666666666666
         },
         {
          "diff": 25.566666666666666
         },
         {
          "diff": 2.6333333333333333
         },
         {
          "diff": 1.5833333333333333
         },
         {
          "diff": 2.8333333333333335
         },
         {
          "diff": 4.366666666666666
         },
         {
          "diff": 1.55
         },
         {
          "diff": 5.483333333333333
         },
         {
          "diff": 2.216666666666667
         },
         {
          "diff": 1.5333333333333334
         },
         {
          "diff": 2.35
         },
         {
          "diff": 12.45
         },
         {
          "diff": 11.25
         },
         {
          "diff": 3.6333333333333333
         },
         {
          "diff": 14.85
         },
         {
          "diff": 4.75
         },
         {
          "diff": 7.416666666666667
         },
         {
          "diff": 26.916666666666668
         },
         {
          "diff": 1.2333333333333334
         },
         {
          "diff": 2.85
         },
         {
          "diff": 3.7
         },
         {
          "diff": 1.5333333333333334
         },
         {
          "diff": 7.933333333333334
         },
         {
          "diff": 7.766666666666667
         },
         {
          "diff": 2.4
         },
         {
          "diff": 3.066666666666667
         },
         {
          "diff": 28.866666666666667
         },
         {
          "diff": 1.1166666666666667
         },
         {
          "diff": 4.05
         },
         {
          "diff": 3.35
         },
         {
          "diff": 5.033333333333333
         },
         {
          "diff": 4.65
         },
         {
          "diff": 21.15
         },
         {
          "diff": 1.8166666666666667
         },
         {
          "diff": 8.133333333333333
         },
         {
          "diff": 6.25
         },
         {
          "diff": 4.433333333333334
         },
         {
          "diff": 9.366666666666667
         },
         {
          "diff": 1.4166666666666667
         },
         {
          "diff": 1.9166666666666667
         },
         {
          "diff": 6.25
         },
         {
          "diff": 18.216666666666665
         },
         {
          "diff": 5.133333333333334
         },
         {
          "diff": 9.683333333333334
         },
         {
          "diff": 4.2
         },
         {
          "diff": 2.1166666666666667
         },
         {
          "diff": 2.1333333333333333
         },
         {
          "diff": 2.2
         },
         {
          "diff": 8.116666666666667
         },
         {
          "diff": 1.6833333333333333
         },
         {
          "diff": 1.2666666666666666
         },
         {
          "diff": 28.833333333333332
         },
         {
          "diff": 13.416666666666666
         },
         {
          "diff": 9.35
         },
         {
          "diff": 3.5
         },
         {
          "diff": 1.4166666666666667
         },
         {
          "diff": 1.2333333333333334
         },
         {
          "diff": 7.866666666666666
         },
         {
          "diff": 2
         },
         {
          "diff": 3.05
         },
         {
          "diff": 1.5666666666666667
         },
         {
          "diff": 0.85
         },
         {
          "diff": 7.55
         },
         {
          "diff": 8.233333333333333
         },
         {
          "diff": 10.033333333333333
         },
         {
          "diff": 5.433333333333334
         },
         {
          "diff": 3.4833333333333334
         },
         {
          "diff": 6.75
         },
         {
          "diff": 25.483333333333334
         },
         {
          "diff": 1.0333333333333334
         },
         {
          "diff": 18.316666666666666
         },
         {
          "diff": 3.0833333333333335
         },
         {
          "diff": 20.45
         },
         {
          "diff": 11.083333333333334
         },
         {
          "diff": 8.166666666666666
         },
         {
          "diff": 1.5166666666666666
         },
         {
          "diff": 3.783333333333333
         },
         {
          "diff": 6.733333333333333
         },
         {
          "diff": 3.2333333333333334
         },
         {
          "diff": 4.75
         },
         {
          "diff": 19.2
         },
         {
          "diff": 6.283333333333333
         },
         {
          "diff": 3.05
         },
         {
          "diff": 2.1166666666666667
         },
         {
          "diff": 4.433333333333334
         },
         {
          "diff": 2.4
         },
         {
          "diff": 2.683333333333333
         },
         {
          "diff": 5.633333333333334
         },
         {
          "diff": 10.5
         },
         {
          "diff": 6.2
         },
         {
          "diff": 1.2166666666666666
         },
         {
          "diff": 1.0666666666666667
         },
         {
          "diff": 8.283333333333333
         },
         {
          "diff": 4.283333333333333
         },
         {
          "diff": 5.033333333333333
         },
         {
          "diff": 2.216666666666667
         },
         {
          "diff": 3.433333333333333
         },
         {
          "diff": 8.533333333333333
         },
         {
          "diff": 2.1333333333333333
         },
         {
          "diff": 5.116666666666666
         },
         {
          "diff": 2.65
         },
         {
          "diff": 8.166666666666666
         },
         {
          "diff": 1.2333333333333334
         },
         {
          "diff": 8.683333333333334
         },
         {
          "diff": 3.716666666666667
         },
         {
          "diff": 7.966666666666667
         },
         {
          "diff": 1.3333333333333333
         },
         {
          "diff": 4.933333333333334
         },
         {
          "diff": 6.783333333333333
         },
         {
          "diff": 6.35
         },
         {
          "diff": 1.6166666666666667
         },
         {
          "diff": 22.333333333333332
         },
         {
          "diff": 4.683333333333334
         },
         {
          "diff": 1.7333333333333334
         },
         {
          "diff": 1.2
         },
         {
          "diff": 7.033333333333333
         },
         {
          "diff": 1.35
         },
         {
          "diff": 4.716666666666667
         },
         {
          "diff": 8.266666666666667
         },
         {
          "diff": 2.7
         },
         {
          "diff": 1.4166666666666667
         },
         {
          "diff": 5.966666666666667
         },
         {
          "diff": 5.616666666666666
         },
         {
          "diff": 6.9
         },
         {
          "diff": 2.85
         },
         {
          "diff": 2.7333333333333334
         },
         {
          "diff": 5.366666666666666
         },
         {
          "diff": 1.0833333333333333
         },
         {
          "diff": 2.5833333333333335
         },
         {
          "diff": 1.5333333333333334
         },
         {
          "diff": 8.466666666666667
         },
         {
          "diff": 22.766666666666666
         },
         {
          "diff": 6.083333333333333
         },
         {
          "diff": 5.233333333333333
         },
         {
          "diff": 0.9833333333333333
         },
         {
          "diff": 5.966666666666667
         },
         {
          "diff": 7.6
         },
         {
          "diff": 2.0166666666666666
         },
         {
          "diff": 2.3666666666666667
         },
         {
          "diff": 2.0833333333333335
         },
         {
          "diff": 9.533333333333333
         },
         {
          "diff": 29.516666666666666
         },
         {
          "diff": 14.516666666666667
         },
         {
          "diff": 5.733333333333333
         },
         {
          "diff": 5.816666666666666
         },
         {
          "diff": 25.033333333333335
         },
         {
          "diff": 21.066666666666666
         },
         {
          "diff": 4.2
         },
         {
          "diff": 5.883333333333334
         },
         {
          "diff": 1.6833333333333333
         },
         {
          "diff": 5.95
         },
         {
          "diff": 4.6
         },
         {
          "diff": 5.3
         },
         {
          "diff": 25.866666666666667
         },
         {
          "diff": 1.8
         },
         {
          "diff": 1.8166666666666667
         },
         {
          "diff": 1.3166666666666667
         },
         {
          "diff": 7.15
         },
         {
          "diff": 11.616666666666667
         },
         {
          "diff": 12.966666666666667
         },
         {
          "diff": 2.7333333333333334
         },
         {
          "diff": 4.366666666666666
         },
         {
          "diff": 19.216666666666665
         },
         {
          "diff": 4.066666666666666
         },
         {
          "diff": 3.566666666666667
         },
         {
          "diff": 1.55
         },
         {
          "diff": 22.15
         },
         {
          "diff": 24.9
         },
         {
          "diff": 10.95
         },
         {
          "diff": 3.566666666666667
         },
         {
          "diff": 3.15
         },
         {
          "diff": 28.35
         },
         {
          "diff": 9.766666666666667
         },
         {
          "diff": 1.8166666666666667
         },
         {
          "diff": 8.983333333333333
         },
         {
          "diff": 16.216666666666665
         },
         {
          "diff": 6.266666666666667
         },
         {
          "diff": 9.366666666666667
         },
         {
          "diff": 12.75
         },
         {
          "diff": 2.6333333333333333
         },
         {
          "diff": 1.6833333333333333
         },
         {
          "diff": 2.533333333333333
         },
         {
          "diff": 7.066666666666666
         },
         {
          "diff": 1.8166666666666667
         },
         {
          "diff": 2.033333333333333
         },
         {
          "diff": 2.933333333333333
         },
         {
          "diff": 12.166666666666666
         },
         {
          "diff": 2
         },
         {
          "diff": 4.166666666666667
         },
         {
          "diff": 1.6333333333333333
         },
         {
          "diff": 2.066666666666667
         },
         {
          "diff": 3.683333333333333
         },
         {
          "diff": 2.65
         },
         {
          "diff": 24.1
         },
         {
          "diff": 20.783333333333335
         },
         {
          "diff": 3.4
         },
         {
          "diff": 4.3
         },
         {
          "diff": 1.7333333333333334
         },
         {
          "diff": 9.1
         },
         {
          "diff": 3.4833333333333334
         },
         {
          "diff": 4.15
         },
         {
          "diff": 16
         },
         {
          "diff": 1.1166666666666667
         },
         {
          "diff": 2.7
         },
         {
          "diff": 25.466666666666665
         },
         {
          "diff": 5.183333333333334
         },
         {
          "diff": 23.15
         },
         {
          "diff": 1.7666666666666666
         },
         {
          "diff": 3.316666666666667
         },
         {
          "diff": 2.466666666666667
         },
         {
          "diff": 7.6
         },
         {
          "diff": 17.083333333333332
         },
         {
          "diff": 4
         },
         {
          "diff": 2.1166666666666667
         },
         {
          "diff": 2.35
         },
         {
          "diff": 1.25
         },
         {
          "diff": 3.5833333333333335
         },
         {
          "diff": 3.1666666666666665
         },
         {
          "diff": 1.45
         },
         {
          "diff": 2.033333333333333
         },
         {
          "diff": 1.8833333333333333
         },
         {
          "diff": 1.3666666666666667
         },
         {
          "diff": 11.866666666666667
         },
         {
          "diff": 18.5
         },
         {
          "diff": 1.1333333333333333
         },
         {
          "diff": 2.75
         },
         {
          "diff": 23.216666666666665
         },
         {
          "diff": 2.6666666666666665
         },
         {
          "diff": 4.4
         },
         {
          "diff": 2.816666666666667
         },
         {
          "diff": 7.4
         },
         {
          "diff": 14.316666666666666
         },
         {
          "diff": 1.4666666666666666
         },
         {
          "diff": 4.033333333333333
         },
         {
          "diff": 2.8833333333333333
         },
         {
          "diff": 2.15
         },
         {
          "diff": 12.35
         },
         {
          "diff": 9.533333333333333
         },
         {
          "diff": 2.2666666666666666
         },
         {
          "diff": 4.766666666666667
         },
         {
          "diff": 22
         },
         {
          "diff": 0.9333333333333333
         },
         {
          "diff": 4.65
         },
         {
          "diff": 3.433333333333333
         },
         {
          "diff": 5.616666666666666
         },
         {
          "diff": 2.216666666666667
         },
         {
          "diff": 1.8666666666666667
         },
         {
          "diff": 3.566666666666667
         },
         {
          "diff": 4.716666666666667
         },
         {
          "diff": 1.6333333333333333
         },
         {
          "diff": 2.25
         },
         {
          "diff": 17.35
         },
         {
          "diff": 5.1
         },
         {
          "diff": 1.2
         },
         {
          "diff": 7.083333333333333
         },
         {
          "diff": 12.316666666666666
         },
         {
          "diff": 3.3666666666666667
         },
         {
          "diff": 5.8
         },
         {
          "diff": 1.75
         },
         {
          "diff": 8.266666666666667
         },
         {
          "diff": 5.583333333333333
         },
         {
          "diff": 3.3833333333333333
         },
         {
          "diff": 2.066666666666667
         },
         {
          "diff": 2.716666666666667
         },
         {
          "diff": 5.616666666666666
         },
         {
          "diff": 11.95
         },
         {
          "diff": 1.85
         },
         {
          "diff": 3.2333333333333334
         },
         {
          "diff": 1.9833333333333334
         },
         {
          "diff": 2.3333333333333335
         },
         {
          "diff": 20.083333333333332
         },
         {
          "diff": 1.9333333333333333
         },
         {
          "diff": 5.766666666666667
         },
         {
          "diff": 6.583333333333333
         },
         {
          "diff": 2.783333333333333
         },
         {
          "diff": 6.216666666666667
         },
         {
          "diff": 8.433333333333334
         },
         {
          "diff": 12.533333333333333
         },
         {
          "diff": 15.783333333333333
         },
         {
          "diff": 8.733333333333333
         },
         {
          "diff": 2.9
         },
         {
          "diff": 2.1
         },
         {
          "diff": 6.766666666666667
         },
         {
          "diff": 2.8
         },
         {
          "diff": 7.083333333333333
         },
         {
          "diff": 2.7
         },
         {
          "diff": 5.7
         },
         {
          "diff": 18.583333333333332
         },
         {
          "diff": 4.633333333333334
         },
         {
          "diff": 3.85
         },
         {
          "diff": 18.2
         },
         {
          "diff": 2.066666666666667
         },
         {
          "diff": 1.25
         },
         {
          "diff": 11.8
         },
         {
          "diff": 2.183333333333333
         },
         {
          "diff": 3.533333333333333
         },
         {
          "diff": 14.4
         },
         {
          "diff": 18.466666666666665
         },
         {
          "diff": 3.3666666666666667
         },
         {
          "diff": 2.35
         },
         {
          "diff": 2.3666666666666667
         },
         {
          "diff": 2.033333333333333
         },
         {
          "diff": 10.866666666666667
         },
         {
          "diff": 1.5166666666666666
         },
         {
          "diff": 6.033333333333333
         },
         {
          "diff": 7.233333333333333
         },
         {
          "diff": 3.3333333333333335
         },
         {
          "diff": 3.75
         },
         {
          "diff": 7.45
         },
         {
          "diff": 10.2
         },
         {
          "diff": 6.15
         },
         {
          "diff": 1.65
         },
         {
          "diff": 5.216666666666667
         },
         {
          "diff": 7.666666666666667
         },
         {
          "diff": 4.55
         },
         {
          "diff": 6
         },
         {
          "diff": 11.45
         },
         {
          "diff": 23.25
         },
         {
          "diff": 3.4166666666666665
         },
         {
          "diff": 10.533333333333333
         },
         {
          "diff": 11.833333333333334
         },
         {
          "diff": 8.7
         },
         {
          "diff": 9.083333333333334
         },
         {
          "diff": 12.3
         },
         {
          "diff": 3.716666666666667
         },
         {
          "diff": 5.583333333333333
         },
         {
          "diff": 3.283333333333333
         },
         {
          "diff": 22.4
         },
         {
          "diff": 3.3333333333333335
         },
         {
          "diff": 1.7333333333333334
         },
         {
          "diff": 1.75
         },
         {
          "diff": 11.866666666666667
         },
         {
          "diff": 27.216666666666665
         },
         {
          "diff": 2.2666666666666666
         },
         {
          "diff": 2.1
         },
         {
          "diff": 4.016666666666667
         },
         {
          "diff": 17.533333333333335
         },
         {
          "diff": 3.3
         },
         {
          "diff": 20.216666666666665
         },
         {
          "diff": 3.7666666666666666
         },
         {
          "diff": 3.4833333333333334
         },
         {
          "diff": 2.433333333333333
         },
         {
          "diff": 9.766666666666667
         },
         {
          "diff": 3.1
         },
         {
          "diff": 2.05
         },
         {
          "diff": 8.033333333333333
         },
         {
          "diff": 14.666666666666666
         },
         {
          "diff": 5.4
         },
         {
          "diff": 20.433333333333334
         },
         {
          "diff": 1.15
         },
         {
          "diff": 2.9833333333333334
         },
         {
          "diff": 3.2666666666666666
         },
         {
          "diff": 6.016666666666667
         },
         {
          "diff": 18.55
         },
         {
          "diff": 10.4
         },
         {
          "diff": 5.333333333333333
         },
         {
          "diff": 9.85
         },
         {
          "diff": 2.35
         },
         {
          "diff": 6.983333333333333
         },
         {
          "diff": 5.666666666666667
         },
         {
          "diff": 1.5333333333333334
         },
         {
          "diff": 6.85
         },
         {
          "diff": 6.6
         },
         {
          "diff": 1.15
         },
         {
          "diff": 5.45
         },
         {
          "diff": 4.183333333333334
         },
         {
          "diff": 2.3
         },
         {
          "diff": 12.716666666666667
         },
         {
          "diff": 4.3
         },
         {
          "diff": 0.9333333333333333
         },
         {
          "diff": 1.4
         },
         {
          "diff": 7.7
         },
         {
          "diff": 6.283333333333333
         },
         {
          "diff": 4.416666666666667
         },
         {
          "diff": 2.1
         },
         {
          "diff": 1.3333333333333333
         },
         {
          "diff": 1.65
         },
         {
          "diff": 1.95
         },
         {
          "diff": 4.333333333333333
         },
         {
          "diff": 1.9833333333333334
         },
         {
          "diff": 1.05
         },
         {
          "diff": 2.7666666666666666
         },
         {
          "diff": 2.033333333333333
         },
         {
          "diff": 3.3833333333333333
         },
         {
          "diff": 3.966666666666667
         },
         {
          "diff": 2.95
         },
         {
          "diff": 2
         },
         {
          "diff": 4.95
         },
         {
          "diff": 2.7
         },
         {
          "diff": 3.4
         },
         {
          "diff": 3.2666666666666666
         },
         {
          "diff": 4.716666666666667
         },
         {
          "diff": 4
         },
         {
          "diff": 1.85
         },
         {
          "diff": 4.333333333333333
         },
         {
          "diff": 1.65
         },
         {
          "diff": 5.416666666666667
         },
         {
          "diff": 6.55
         },
         {
          "diff": 20.9
         },
         {
          "diff": 6.066666666666666
         },
         {
          "diff": 3.0166666666666666
         },
         {
          "diff": 0.9333333333333333
         },
         {
          "diff": 4.25
         },
         {
          "diff": 3.3666666666666667
         },
         {
          "diff": 1.9
         },
         {
          "diff": 6.733333333333333
         },
         {
          "diff": 4.166666666666667
         },
         {
          "diff": 16.55
         },
         {
          "diff": 4.433333333333334
         },
         {
          "diff": 2.183333333333333
         },
         {
          "diff": 2.1333333333333333
         },
         {
          "diff": 2.066666666666667
         },
         {
          "diff": 1.7833333333333334
         },
         {
          "diff": 3.45
         },
         {
          "diff": 1.5
         },
         {
          "diff": 14.916666666666666
         },
         {
          "diff": 4.666666666666667
         }
        ]
       },
       "encoding": {
        "x": {
         "bin": {
          "step": 1
         },
         "field": "diff",
         "type": "quantitative"
        },
        "y": {
         "aggregate": "count",
         "type": "quantitative"
        }
       },
       "mark": "bar"
      },
      "image/png": "[encoded data removed]",
      "text/plain": [
       "<VegaLite 2 object>\n",
       "\n",
       "If you see this message, it means the renderer has not been properly enabled\n",
       "for the frontend that you are using. For more information, see\n",
       "https://altair-viz.github.io/user_guide/troubleshooting.html\n"
      ]
     },
     "metadata": {},
     "output_type": "display_data"
    },
    {
     "name": "stdout",
     "output_type": "stream",
     "text": [
      "min - max:  2018-08-29 22:57:48 2018-08-30 21:20:15\n",
      "mean duration:  8.147833333333333\n"
     ]
    },
    {
     "data": {
      "application/vnd.vegalite.v2+json": {
       "data": {
        "values": [
         {
          "diff": 6.883333333333334
         },
         {
          "diff": 1.1833333333333333
         },
         {
          "diff": 2.716666666666667
         },
         {
          "diff": 9.9
         },
         {
          "diff": 4.15
         },
         {
          "diff": 1.5666666666666667
         },
         {
          "diff": 8.366666666666667
         },
         {
          "diff": 1.65
         },
         {
          "diff": 12.7
         },
         {
          "diff": 2.8833333333333333
         },
         {
          "diff": 24.7
         },
         {
          "diff": 0.43333333333333335
         },
         {
          "diff": 13.983333333333333
         },
         {
          "diff": 19.783333333333335
         },
         {
          "diff": 1.1833333333333333
         },
         {
          "diff": 3.0833333333333335
         },
         {
          "diff": 8
         },
         {
          "diff": 4.883333333333334
         },
         {
          "diff": 1.9666666666666666
         },
         {
          "diff": 3.4
         },
         {
          "diff": 17.783333333333335
         },
         {
          "diff": 5.666666666666667
         },
         {
          "diff": 3.7666666666666666
         },
         {
          "diff": 3.6333333333333333
         },
         {
          "diff": 3.566666666666667
         },
         {
          "diff": 0.6833333333333333
         },
         {
          "diff": 19.366666666666667
         },
         {
          "diff": 1.0833333333333333
         },
         {
          "diff": 3.8333333333333335
         },
         {
          "diff": 2.8
         },
         {
          "diff": 15.383333333333333
         },
         {
          "diff": 1.0333333333333334
         },
         {
          "diff": 6.85
         },
         {
          "diff": 4.25
         },
         {
          "diff": 3.1
         },
         {
          "diff": 5.666666666666667
         },
         {
          "diff": 1.1833333333333333
         },
         {
          "diff": 3.0166666666666666
         },
         {
          "diff": 6.783333333333333
         },
         {
          "diff": 1.7333333333333334
         },
         {
          "diff": 3.25
         },
         {
          "diff": 11.933333333333334
         },
         {
          "diff": 2.3
         },
         {
          "diff": 0.8
         },
         {
          "diff": 20.5
         },
         {
          "diff": 1.05
         },
         {
          "diff": 5.566666666666666
         },
         {
          "diff": 6.833333333333333
         },
         {
          "diff": 20.683333333333334
         },
         {
          "diff": 3.7333333333333334
         },
         {
          "diff": 3.8833333333333333
         },
         {
          "diff": 4.95
         },
         {
          "diff": 23.6
         },
         {
          "diff": 15.666666666666666
         },
         {
          "diff": 4.55
         },
         {
          "diff": 18.766666666666666
         },
         {
          "diff": 1.5666666666666667
         },
         {
          "diff": 1.7833333333333334
         },
         {
          "diff": 13.05
         },
         {
          "diff": 19.016666666666666
         },
         {
          "diff": 8.416666666666666
         },
         {
          "diff": 1.15
         },
         {
          "diff": 3.4833333333333334
         },
         {
          "diff": 5.683333333333334
         },
         {
          "diff": 2.9166666666666665
         },
         {
          "diff": 1.4333333333333333
         },
         {
          "diff": 3.566666666666667
         },
         {
          "diff": 8.416666666666666
         },
         {
          "diff": 3.6
         },
         {
          "diff": 1.4833333333333334
         },
         {
          "diff": 15.583333333333334
         },
         {
          "diff": 1.5
         },
         {
          "diff": 7.7
         },
         {
          "diff": 15.433333333333334
         },
         {
          "diff": 1.7166666666666666
         },
         {
          "diff": 19.15
         },
         {
          "diff": 17.933333333333334
         },
         {
          "diff": 0.6166666666666667
         },
         {
          "diff": 5.3
         },
         {
          "diff": 8.1
         },
         {
          "diff": 6.516666666666667
         },
         {
          "diff": 17.383333333333333
         },
         {
          "diff": 0.5
         },
         {
          "diff": 7.116666666666666
         },
         {
          "diff": 3.783333333333333
         },
         {
          "diff": 28.933333333333334
         },
         {
          "diff": 0.5333333333333333
         },
         {
          "diff": 1.45
         },
         {
          "diff": 4.25
         },
         {
          "diff": 6.3
         },
         {
          "diff": 20.2
         },
         {
          "diff": 1.2666666666666666
         },
         {
          "diff": 27.266666666666666
         },
         {
          "diff": 11.216666666666667
         },
         {
          "diff": 1.75
         },
         {
          "diff": 0.7166666666666667
         },
         {
          "diff": 29.45
         },
         {
          "diff": 5.366666666666666
         },
         {
          "diff": 3.933333333333333
         },
         {
          "diff": 19.016666666666666
         },
         {
          "diff": 0.5
         },
         {
          "diff": 6.4
         },
         {
          "diff": 1.8
         },
         {
          "diff": 28.166666666666668
         },
         {
          "diff": 26.916666666666668
         },
         {
          "diff": 1.65
         },
         {
          "diff": 19.983333333333334
         },
         {
          "diff": 2.15
         },
         {
          "diff": 6.6
         },
         {
          "diff": 21.283333333333335
         },
         {
          "diff": 13.816666666666666
         },
         {
          "diff": 0.55
         },
         {
          "diff": 0.6
         },
         {
          "diff": 2.3
         },
         {
          "diff": 4.016666666666667
         },
         {
          "diff": 11.316666666666666
         },
         {
          "diff": 5.683333333333334
         },
         {
          "diff": 0.55
         },
         {
          "diff": 25.866666666666667
         },
         {
          "diff": 9.983333333333333
         },
         {
          "diff": 1.8666666666666667
         },
         {
          "diff": 28.3
         },
         {
          "diff": 6.716666666666667
         },
         {
          "diff": 4.516666666666667
         },
         {
          "diff": 1.6333333333333333
         },
         {
          "diff": 1.0666666666666667
         },
         {
          "diff": 3.45
         },
         {
          "diff": 22.766666666666666
         },
         {
          "diff": 3.3666666666666667
         },
         {
          "diff": 1.5833333333333333
         },
         {
          "diff": 18.233333333333334
         },
         {
          "diff": 1.55
         },
         {
          "diff": 13.266666666666667
         },
         {
          "diff": 26.283333333333335
         },
         {
          "diff": 7.383333333333334
         },
         {
          "diff": 21.533333333333335
         },
         {
          "diff": 0.43333333333333335
         },
         {
          "diff": 7.116666666666666
         },
         {
          "diff": 12.066666666666666
         },
         {
          "diff": 3.316666666666667
         },
         {
          "diff": 1.3166666666666667
         },
         {
          "diff": 3.283333333333333
         },
         {
          "diff": 7.85
         },
         {
          "diff": 12.516666666666667
         },
         {
          "diff": 1.5333333333333334
         },
         {
          "diff": 17.133333333333333
         },
         {
          "diff": 1
         },
         {
          "diff": 4
         },
         {
          "diff": 29.6
         },
         {
          "diff": 29.65
         },
         {
          "diff": 5.483333333333333
         },
         {
          "diff": 0.65
         },
         {
          "diff": 1.5833333333333333
         },
         {
          "diff": 6.133333333333334
         },
         {
          "diff": 1.7833333333333334
         },
         {
          "diff": 19.316666666666666
         },
         {
          "diff": 10.933333333333334
         },
         {
          "diff": 1
         },
         {
          "diff": 8.933333333333334
         },
         {
          "diff": 29
         },
         {
          "diff": 1.15
         },
         {
          "diff": 9.766666666666667
         },
         {
          "diff": 15.033333333333333
         },
         {
          "diff": 14.016666666666667
         },
         {
          "diff": 29.2
         },
         {
          "diff": 6.266666666666667
         },
         {
          "diff": 2.1333333333333333
         },
         {
          "diff": 5.483333333333333
         },
         {
          "diff": 16.133333333333333
         },
         {
          "diff": 2.5166666666666666
         },
         {
          "diff": 1.55
         },
         {
          "diff": 1.8666666666666667
         },
         {
          "diff": 4.733333333333333
         },
         {
          "diff": 2.25
         },
         {
          "diff": 2.0166666666666666
         },
         {
          "diff": 8.216666666666667
         },
         {
          "diff": 8.733333333333333
         },
         {
          "diff": 0.5
         },
         {
          "diff": 5.9
         },
         {
          "diff": 2.183333333333333
         },
         {
          "diff": 7.2
         },
         {
          "diff": 3.0833333333333335
         },
         {
          "diff": 0.43333333333333335
         },
         {
          "diff": 8.566666666666666
         },
         {
          "diff": 2.4
         },
         {
          "diff": 6.883333333333334
         },
         {
          "diff": 0.4666666666666667
         },
         {
          "diff": 4.05
         },
         {
          "diff": 2.55
         },
         {
          "diff": 7.116666666666666
         },
         {
          "diff": 17.516666666666666
         },
         {
          "diff": 0.45
         },
         {
          "diff": 28.666666666666668
         },
         {
          "diff": 1.8333333333333333
         },
         {
          "diff": 3.6666666666666665
         },
         {
          "diff": 0.5
         },
         {
          "diff": 6.35
         },
         {
          "diff": 29.733333333333334
         },
         {
          "diff": 1.8
         },
         {
          "diff": 27.616666666666667
         },
         {
          "diff": 22.583333333333332
         },
         {
          "diff": 0.9833333333333333
         },
         {
          "diff": 4.616666666666666
         },
         {
          "diff": 25.383333333333333
         },
         {
          "diff": 13.366666666666667
         },
         {
          "diff": 4.566666666666666
         },
         {
          "diff": 5.7
         },
         {
          "diff": 0.6666666666666666
         },
         {
          "diff": 4.633333333333334
         },
         {
          "diff": 9.783333333333333
         },
         {
          "diff": 4.766666666666667
         },
         {
          "diff": 2.5833333333333335
         },
         {
          "diff": 22.6
         },
         {
          "diff": 6.45
         },
         {
          "diff": 2.3833333333333333
         },
         {
          "diff": 12.7
         },
         {
          "diff": 1.0166666666666666
         },
         {
          "diff": 10.6
         },
         {
          "diff": 1.0833333333333333
         },
         {
          "diff": 29.533333333333335
         },
         {
          "diff": 19.7
         },
         {
          "diff": 1.8666666666666667
         },
         {
          "diff": 11.966666666666667
         },
         {
          "diff": 8.1
         },
         {
          "diff": 5.75
         },
         {
          "diff": 15.7
         },
         {
          "diff": 0.95
         },
         {
          "diff": 1.0833333333333333
         },
         {
          "diff": 9.75
         },
         {
          "diff": 12.616666666666667
         },
         {
          "diff": 0.9166666666666666
         },
         {
          "diff": 21.416666666666668
         },
         {
          "diff": 2.4
         },
         {
          "diff": 3.183333333333333
         },
         {
          "diff": 4.516666666666667
         },
         {
          "diff": 27.783333333333335
         },
         {
          "diff": 16.516666666666666
         },
         {
          "diff": 0.4666666666666667
         },
         {
          "diff": 9.366666666666667
         },
         {
          "diff": 9.933333333333334
         },
         {
          "diff": 1.0333333333333334
         },
         {
          "diff": 3.35
         },
         {
          "diff": 22.3
         },
         {
          "diff": 1.8666666666666667
         },
         {
          "diff": 4.45
         },
         {
          "diff": 11.9
         },
         {
          "diff": 1.15
         },
         {
          "diff": 7.75
         },
         {
          "diff": 14.366666666666667
         },
         {
          "diff": 1.8666666666666667
         },
         {
          "diff": 1.1666666666666667
         },
         {
          "diff": 13
         },
         {
          "diff": 28.483333333333334
         },
         {
          "diff": 8.166666666666666
         },
         {
          "diff": 1.4666666666666666
         },
         {
          "diff": 1.0166666666666666
         },
         {
          "diff": 12.333333333333334
         },
         {
          "diff": 22.383333333333333
         },
         {
          "diff": 5.616666666666666
         },
         {
          "diff": 1.5666666666666667
         },
         {
          "diff": 2.566666666666667
         },
         {
          "diff": 2.933333333333333
         },
         {
          "diff": 10.366666666666667
         },
         {
          "diff": 22.816666666666666
         },
         {
          "diff": 2.7333333333333334
         },
         {
          "diff": 13.3
         },
         {
          "diff": 1.55
         },
         {
          "diff": 9.85
         },
         {
          "diff": 15.633333333333333
         },
         {
          "diff": 5
         },
         {
          "diff": 6.516666666666667
         },
         {
          "diff": 22.066666666666666
         },
         {
          "diff": 0.9833333333333333
         },
         {
          "diff": 25.65
         },
         {
          "diff": 2.1333333333333333
         },
         {
          "diff": 1.6833333333333333
         },
         {
          "diff": 1.7333333333333334
         },
         {
          "diff": 25.983333333333334
         },
         {
          "diff": 26.716666666666665
         },
         {
          "diff": 2.4166666666666665
         },
         {
          "diff": 1.2166666666666666
         },
         {
          "diff": 1.75
         },
         {
          "diff": 4.433333333333334
         },
         {
          "diff": 1.7
         },
         {
          "diff": 23.333333333333332
         },
         {
          "diff": 2.3833333333333333
         },
         {
          "diff": 1.3833333333333333
         },
         {
          "diff": 3.95
         },
         {
          "diff": 1.0666666666666667
         },
         {
          "diff": 3.65
         },
         {
          "diff": 24.7
         },
         {
          "diff": 0.95
         },
         {
          "diff": 13.716666666666667
         },
         {
          "diff": 18.166666666666668
         },
         {
          "diff": 13.816666666666666
         },
         {
          "diff": 11.266666666666667
         },
         {
          "diff": 11.266666666666667
         },
         {
          "diff": 1.0333333333333334
         },
         {
          "diff": 4.416666666666667
         },
         {
          "diff": 1.2166666666666666
         },
         {
          "diff": 12.416666666666666
         },
         {
          "diff": 6.066666666666666
         },
         {
          "diff": 0.6
         },
         {
          "diff": 23.033333333333335
         },
         {
          "diff": 2
         },
         {
          "diff": 0.6166666666666667
         },
         {
          "diff": 5.733333333333333
         },
         {
          "diff": 2.9833333333333334
         },
         {
          "diff": 5.183333333333334
         },
         {
          "diff": 4.383333333333334
         },
         {
          "diff": 5.85
         },
         {
          "diff": 1.7166666666666666
         },
         {
          "diff": 13.566666666666666
         },
         {
          "diff": 27.283333333333335
         },
         {
          "diff": 11.9
         },
         {
          "diff": 1
         },
         {
          "diff": 12.95
         },
         {
          "diff": 4.283333333333333
         },
         {
          "diff": 3.6666666666666665
         },
         {
          "diff": 7.783333333333333
         },
         {
          "diff": 12.016666666666667
         },
         {
          "diff": 0.6333333333333333
         },
         {
          "diff": 6.533333333333333
         },
         {
          "diff": 1.75
         },
         {
          "diff": 7.466666666666667
         },
         {
          "diff": 1.45
         },
         {
          "diff": 4.983333333333333
         },
         {
          "diff": 3.283333333333333
         },
         {
          "diff": 6.4
         },
         {
          "diff": 10.666666666666666
         },
         {
          "diff": 4.05
         },
         {
          "diff": 1.25
         },
         {
          "diff": 15.416666666666666
         },
         {
          "diff": 2.75
         },
         {
          "diff": 16
         },
         {
          "diff": 1.1166666666666667
         },
         {
          "diff": 20.783333333333335
         },
         {
          "diff": 3.7666666666666666
         },
         {
          "diff": 10.316666666666666
         },
         {
          "diff": 3.3
         },
         {
          "diff": 13.55
         },
         {
          "diff": 0.7666666666666667
         },
         {
          "diff": 0.5
         },
         {
          "diff": 7.05
         },
         {
          "diff": 6.383333333333334
         },
         {
          "diff": 5.116666666666666
         },
         {
          "diff": 2.216666666666667
         },
         {
          "diff": 4.483333333333333
         },
         {
          "diff": 4.55
         },
         {
          "diff": 28.316666666666666
         },
         {
          "diff": 0.5
         },
         {
          "diff": 8.316666666666666
         },
         {
          "diff": 1.2
         },
         {
          "diff": 4.883333333333334
         },
         {
          "diff": 9.116666666666667
         },
         {
          "diff": 2.8
         },
         {
          "diff": 0.4666666666666667
         },
         {
          "diff": 2.0833333333333335
         },
         {
          "diff": 23.583333333333332
         },
         {
          "diff": 25.283333333333335
         },
         {
          "diff": 5.966666666666667
         },
         {
          "diff": 27.566666666666666
         },
         {
          "diff": 0.45
         },
         {
          "diff": 19.25
         },
         {
          "diff": 28
         },
         {
          "diff": 12.183333333333334
         },
         {
          "diff": 17.466666666666665
         },
         {
          "diff": 1.0333333333333334
         },
         {
          "diff": 4.166666666666667
         },
         {
          "diff": 1.4166666666666667
         },
         {
          "diff": 13.083333333333334
         },
         {
          "diff": 2.4
         },
         {
          "diff": 8.033333333333333
         },
         {
          "diff": 5.233333333333333
         },
         {
          "diff": 1.7833333333333334
         },
         {
          "diff": 0.7
         },
         {
          "diff": 7.933333333333334
         },
         {
          "diff": 9.75
         },
         {
          "diff": 2.0166666666666666
         },
         {
          "diff": 5.35
         },
         {
          "diff": 4.483333333333333
         },
         {
          "diff": 12.2
         },
         {
          "diff": 10.783333333333333
         },
         {
          "diff": 24
         },
         {
          "diff": 1.65
         },
         {
          "diff": 25.8
         },
         {
          "diff": 1.1166666666666667
         },
         {
          "diff": 7.866666666666666
         },
         {
          "diff": 2.2666666666666666
         },
         {
          "diff": 8.416666666666666
         },
         {
          "diff": 5.033333333333333
         },
         {
          "diff": 6.266666666666667
         },
         {
          "diff": 10.916666666666666
         },
         {
          "diff": 1.0833333333333333
         },
         {
          "diff": 3.8
         },
         {
          "diff": 14.083333333333334
         },
         {
          "diff": 10.883333333333333
         },
         {
          "diff": 1.8833333333333333
         },
         {
          "diff": 5.616666666666666
         },
         {
          "diff": 4.083333333333333
         },
         {
          "diff": 0.4666666666666667
         },
         {
          "diff": 7.633333333333334
         },
         {
          "diff": 22.566666666666666
         },
         {
          "diff": 28.3
         },
         {
          "diff": 12.3
         },
         {
          "diff": 14.95
         },
         {
          "diff": 1.2166666666666666
         },
         {
          "diff": 9.7
         },
         {
          "diff": 27.433333333333334
         },
         {
          "diff": 20.583333333333332
         },
         {
          "diff": 3.283333333333333
         },
         {
          "diff": 1.6666666666666667
         },
         {
          "diff": 8.466666666666667
         },
         {
          "diff": 9.65
         },
         {
          "diff": 1.5166666666666666
         },
         {
          "diff": 11.883333333333333
         },
         {
          "diff": 8.516666666666667
         },
         {
          "diff": 0.6333333333333333
         },
         {
          "diff": 5.233333333333333
         },
         {
          "diff": 1.55
         },
         {
          "diff": 1.25
         },
         {
          "diff": 10.833333333333334
         },
         {
          "diff": 29.016666666666666
         },
         {
          "diff": 2.2666666666666666
         },
         {
          "diff": 3.2
         },
         {
          "diff": 2.283333333333333
         },
         {
          "diff": 7.783333333333333
         },
         {
          "diff": 5
         },
         {
          "diff": 6.216666666666667
         },
         {
          "diff": 5.366666666666666
         },
         {
          "diff": 8.4
         },
         {
          "diff": 6.466666666666667
         },
         {
          "diff": 0.4666666666666667
         },
         {
          "diff": 4.5
         },
         {
          "diff": 13.35
         },
         {
          "diff": 13.033333333333333
         },
         {
          "diff": 0.5833333333333334
         },
         {
          "diff": 6.783333333333333
         },
         {
          "diff": 14.133333333333333
         },
         {
          "diff": 8.016666666666667
         },
         {
          "diff": 1.0333333333333334
         },
         {
          "diff": 5.4
         },
         {
          "diff": 4.166666666666667
         },
         {
          "diff": 1.7833333333333334
         },
         {
          "diff": 2.8333333333333335
         },
         {
          "diff": 9.083333333333334
         },
         {
          "diff": 8.75
         },
         {
          "diff": 0.5166666666666667
         },
         {
          "diff": 6.033333333333333
         },
         {
          "diff": 28.05
         },
         {
          "diff": 3.1666666666666665
         },
         {
          "diff": 6.25
         },
         {
          "diff": 7.15
         },
         {
          "diff": 8.35
         },
         {
          "diff": 20.4
         },
         {
          "diff": 6.2
         },
         {
          "diff": 0.5166666666666667
         },
         {
          "diff": 5.566666666666666
         },
         {
          "diff": 26.266666666666666
         },
         {
          "diff": 8.183333333333334
         },
         {
          "diff": 8.066666666666666
         },
         {
          "diff": 15.883333333333333
         },
         {
          "diff": 1.2666666666666666
         },
         {
          "diff": 2.7333333333333334
         },
         {
          "diff": 11.75
         },
         {
          "diff": 10.85
         },
         {
          "diff": 1
         },
         {
          "diff": 20
         },
         {
          "diff": 4.833333333333333
         },
         {
          "diff": 1.6166666666666667
         },
         {
          "diff": 0.5333333333333333
         },
         {
          "diff": 4.766666666666667
         },
         {
          "diff": 10.033333333333333
         },
         {
          "diff": 1.7666666666666666
         },
         {
          "diff": 12.083333333333334
         },
         {
          "diff": 2.85
         },
         {
          "diff": 0.4166666666666667
         },
         {
          "diff": 3.8
         },
         {
          "diff": 9.35
         },
         {
          "diff": 5.666666666666667
         },
         {
          "diff": 1.8
         },
         {
          "diff": 9.466666666666667
         },
         {
          "diff": 7.25
         },
         {
          "diff": 9.683333333333334
         },
         {
          "diff": 3.75
         },
         {
          "diff": 0.5166666666666667
         },
         {
          "diff": 3.933333333333333
         },
         {
          "diff": 15.3
         },
         {
          "diff": 6.866666666666666
         },
         {
          "diff": 3.2
         },
         {
          "diff": 6.8
         },
         {
          "diff": 1.3333333333333333
         },
         {
          "diff": 29.016666666666666
         },
         {
          "diff": 6.866666666666666
         },
         {
          "diff": 28.083333333333332
         },
         {
          "diff": 2.6666666666666665
         },
         {
          "diff": 0.48333333333333334
         },
         {
          "diff": 7.15
         },
         {
          "diff": 3.8666666666666667
         },
         {
          "diff": 4.983333333333333
         }
        ]
       },
       "encoding": {
        "x": {
         "bin": {
          "step": 1
         },
         "field": "diff",
         "type": "quantitative"
        },
        "y": {
         "aggregate": "count",
         "type": "quantitative"
        }
       },
       "mark": "bar"
      },
      "image/png": "[encoded data removed]",
      "text/plain": [
       "<VegaLite 2 object>\n",
       "\n",
       "If you see this message, it means the renderer has not been properly enabled\n",
       "for the frontend that you are using. For more information, see\n",
       "https://altair-viz.github.io/user_guide/troubleshooting.html\n"
      ]
     },
     "execution_count": 9,
     "metadata": {},
     "output_type": "execute_result"
    }
   ],
   "source": [
    "listener_assignments = json.load(open(cd('listener.assignments')))\n",
    "speaker_assignments = json.load(open(cd('speaker.assignments')))\n",
    "display(duration_plot(listener_assignments))\n",
    "duration_plot(speaker_assignments)"
   ]
  },
  {
   "cell_type": "code",
   "execution_count": 11,
   "metadata": {},
   "outputs": [
    {
     "name": "stdout",
     "output_type": "stream",
     "text": [
      "A2DWSKGD9RNKMJ 66\n",
      "A1AWHHBTJF1XCH 42\n",
      "A1945USNZHTROX 28\n",
      "A7K6LJGDREGTT 25\n",
      "AFYOPEC2GMCLY 20\n",
      "A2HM35CWB7IIFM 19\n",
      "A3KA3A3M7LPMPA 18\n",
      "A27K37YQZDPER6 17\n",
      "A1KH8WGJZFEMR1 16\n",
      "A2YR7H1CC092WE 16\n",
      "\n",
      "speakers\n",
      "A1SKNZ81GSDWMH 99\n",
      "A38QKKVNHNHKYD 58\n",
      "A2DWSKGD9RNKMJ 43\n",
      "AHOTKNMJFS8TR 35\n",
      "AYCEN3UEH5JKN 31\n",
      "AH9NHR1PJODG1 20\n",
      "A2TC1ZFCTOCDA5 16\n",
      "APJJ1HHD2GGFS 15\n",
      "A3IL3HGJW7K6Q1 13\n",
      "AZLZA0Q87TJZO 11\n"
     ]
    }
   ],
   "source": [
    "import collections \n",
    "\n",
    "def by_worker(assign):\n",
    "    workers = collections.defaultdict(int)\n",
    "    for a in assign:\n",
    "        workers[a['WorkerId']] += 1\n",
    "    descending = sorted(workers.items(), key=lambda a: -a[1])\n",
    "    return descending[0:10] \n",
    "\n",
    "for l in by_worker(listeners_assignments):\n",
    "    print(*l)\n",
    "\n",
    "print('\\nspeakers')\n",
    "for l in by_worker(speakers_assignments):\n",
    "    print(*l)"
   ]
  },
  {
   "cell_type": "code",
   "execution_count": null,
   "metadata": {},
   "outputs": [],
   "source": []
  },
  {
   "cell_type": "code",
   "execution_count": 57,
   "metadata": {},
   "outputs": [
    {
     "data": {
      "application/vnd.vegalite.v2+json": {
       "data": {
        "values": [
         {
          "diff": 3
         },
         {
          "diff": 2
         },
         {
          "diff": 5
         },
         {
          "diff": 1
         },
         {
          "diff": 8
         },
         {
          "diff": 2
         },
         {
          "diff": 8
         },
         {
          "diff": 2
         },
         {
          "diff": 4
         },
         {
          "diff": 7
         },
         {
          "diff": 3
         },
         {
          "diff": 1
         },
         {
          "diff": 2
         },
         {
          "diff": 2
         },
         {
          "diff": 2
         },
         {
          "diff": 6
         },
         {
          "diff": 6
         },
         {
          "diff": 7
         },
         {
          "diff": 5
         },
         {
          "diff": 7
         },
         {
          "diff": 10
         },
         {
          "diff": 3
         },
         {
          "diff": 9
         },
         {
          "diff": 3
         },
         {
          "diff": 11
         },
         {
          "diff": 1
         },
         {
          "diff": 8
         },
         {
          "diff": 1
         },
         {
          "diff": 4
         },
         {
          "diff": 2
         },
         {
          "diff": 3
         },
         {
          "diff": 8
         },
         {
          "diff": 5
         },
         {
          "diff": 6
         },
         {
          "diff": 6
         },
         {
          "diff": 9
         },
         {
          "diff": 4
         },
         {
          "diff": 9
         },
         {
          "diff": 2
         },
         {
          "diff": 1
         },
         {
          "diff": 5
         },
         {
          "diff": 2
         },
         {
          "diff": 3
         },
         {
          "diff": 6
         },
         {
          "diff": 6
         },
         {
          "diff": 1
         },
         {
          "diff": 1
         },
         {
          "diff": 9
         },
         {
          "diff": 4
         },
         {
          "diff": 4
         },
         {
          "diff": 2
         },
         {
          "diff": 2
         },
         {
          "diff": 1
         },
         {
          "diff": 6
         },
         {
          "diff": 1
         },
         {
          "diff": 7
         },
         {
          "diff": 2
         },
         {
          "diff": 12
         },
         {
          "diff": 1
         },
         {
          "diff": 3
         },
         {
          "diff": 5
         },
         {
          "diff": 4
         },
         {
          "diff": 1
         },
         {
          "diff": 6
         },
         {
          "diff": 10
         },
         {
          "diff": 1
         },
         {
          "diff": 1
         },
         {
          "diff": 8
         },
         {
          "diff": 3
         },
         {
          "diff": 5
         },
         {
          "diff": 6
         },
         {
          "diff": 7
         },
         {
          "diff": 3
         },
         {
          "diff": 2
         },
         {
          "diff": 3
         },
         {
          "diff": 7
         },
         {
          "diff": 6
         },
         {
          "diff": 2
         },
         {
          "diff": 7
         },
         {
          "diff": 2
         },
         {
          "diff": 10
         },
         {
          "diff": 6
         },
         {
          "diff": 4
         },
         {
          "diff": 3
         },
         {
          "diff": 3
         },
         {
          "diff": 2
         },
         {
          "diff": 9
         },
         {
          "diff": 7
         },
         {
          "diff": 1
         },
         {
          "diff": 1
         },
         {
          "diff": 2
         },
         {
          "diff": 5
         },
         {
          "diff": 1
         },
         {
          "diff": 5
         },
         {
          "diff": 2
         },
         {
          "diff": 5
         },
         {
          "diff": 6
         },
         {
          "diff": 1
         },
         {
          "diff": 4
         },
         {
          "diff": 2
         },
         {
          "diff": 1
         },
         {
          "diff": 3
         },
         {
          "diff": 7
         },
         {
          "diff": 5
         },
         {
          "diff": 8
         },
         {
          "diff": 6
         },
         {
          "diff": 5
         },
         {
          "diff": 2
         },
         {
          "diff": 8
         },
         {
          "diff": 5
         },
         {
          "diff": 4
         },
         {
          "diff": 3
         },
         {
          "diff": 5
         },
         {
          "diff": 6
         },
         {
          "diff": 3
         },
         {
          "diff": 1
         },
         {
          "diff": 5
         },
         {
          "diff": 4
         },
         {
          "diff": 1
         },
         {
          "diff": 1
         },
         {
          "diff": 2
         },
         {
          "diff": 3
         },
         {
          "diff": 4
         },
         {
          "diff": 5
         },
         {
          "diff": 6
         },
         {
          "diff": 8
         },
         {
          "diff": 3
         },
         {
          "diff": 2
         },
         {
          "diff": 4
         },
         {
          "diff": 5
         },
         {
          "diff": 4
         },
         {
          "diff": 9
         },
         {
          "diff": 3
         },
         {
          "diff": 2
         },
         {
          "diff": 2
         },
         {
          "diff": 1
         },
         {
          "diff": 2
         },
         {
          "diff": 2
         },
         {
          "diff": 4
         },
         {
          "diff": 3
         },
         {
          "diff": 3
         },
         {
          "diff": 9
         },
         {
          "diff": 9
         },
         {
          "diff": 1
         },
         {
          "diff": 1
         },
         {
          "diff": 7
         },
         {
          "diff": 3
         },
         {
          "diff": 7
         },
         {
          "diff": 2
         },
         {
          "diff": 3
         },
         {
          "diff": 1
         },
         {
          "diff": 13
         },
         {
          "diff": 2
         },
         {
          "diff": 2
         },
         {
          "diff": 2
         },
         {
          "diff": 1
         },
         {
          "diff": 8
         },
         {
          "diff": 9
         },
         {
          "diff": 2
         },
         {
          "diff": 4
         },
         {
          "diff": 1
         },
         {
          "diff": 5
         },
         {
          "diff": 1
         },
         {
          "diff": 5
         },
         {
          "diff": 1
         },
         {
          "diff": 4
         },
         {
          "diff": 4
         },
         {
          "diff": 7
         },
         {
          "diff": 2
         },
         {
          "diff": 8
         },
         {
          "diff": 8
         },
         {
          "diff": 11
         },
         {
          "diff": 4
         },
         {
          "diff": 2
         },
         {
          "diff": 1
         },
         {
          "diff": 6
         },
         {
          "diff": 2
         },
         {
          "diff": 4
         },
         {
          "diff": 3
         },
         {
          "diff": 3
         },
         {
          "diff": 8
         },
         {
          "diff": 3
         },
         {
          "diff": 9
         },
         {
          "diff": 2
         },
         {
          "diff": 2
         },
         {
          "diff": 4
         },
         {
          "diff": 2
         },
         {
          "diff": 3
         },
         {
          "diff": 3
         },
         {
          "diff": 1
         },
         {
          "diff": 2
         },
         {
          "diff": 6
         },
         {
          "diff": 2
         },
         {
          "diff": 6
         },
         {
          "diff": 5
         },
         {
          "diff": 4
         },
         {
          "diff": 2
         },
         {
          "diff": 8
         },
         {
          "diff": 7
         },
         {
          "diff": 4
         },
         {
          "diff": 4
         },
         {
          "diff": 2
         },
         {
          "diff": 4
         },
         {
          "diff": 1
         },
         {
          "diff": 1
         },
         {
          "diff": 3
         },
         {
          "diff": 2
         },
         {
          "diff": 4
         },
         {
          "diff": 1
         },
         {
          "diff": 3
         },
         {
          "diff": 2
         },
         {
          "diff": 5
         },
         {
          "diff": 1
         },
         {
          "diff": 2
         },
         {
          "diff": 6
         },
         {
          "diff": 1
         },
         {
          "diff": 3
         },
         {
          "diff": 3
         },
         {
          "diff": 2
         },
         {
          "diff": 5
         },
         {
          "diff": 1
         },
         {
          "diff": 3
         },
         {
          "diff": 3
         },
         {
          "diff": 5
         },
         {
          "diff": 1
         },
         {
          "diff": 3
         },
         {
          "diff": 3
         },
         {
          "diff": 3
         },
         {
          "diff": 1
         },
         {
          "diff": 2
         },
         {
          "diff": 2
         },
         {
          "diff": 1
         },
         {
          "diff": 7
         },
         {
          "diff": 1
         },
         {
          "diff": 6
         },
         {
          "diff": 2
         },
         {
          "diff": 1
         },
         {
          "diff": 3
         },
         {
          "diff": 1
         },
         {
          "diff": 2
         },
         {
          "diff": 4
         },
         {
          "diff": 1
         },
         {
          "diff": 4
         },
         {
          "diff": 3
         },
         {
          "diff": 5
         },
         {
          "diff": 3
         },
         {
          "diff": 10
         },
         {
          "diff": 7
         },
         {
          "diff": 4
         },
         {
          "diff": 5
         },
         {
          "diff": 2
         },
         {
          "diff": 8
         },
         {
          "diff": 3
         },
         {
          "diff": 3
         },
         {
          "diff": 4
         },
         {
          "diff": 9
         },
         {
          "diff": 2
         },
         {
          "diff": 1
         },
         {
          "diff": 5
         },
         {
          "diff": 7
         },
         {
          "diff": 7
         },
         {
          "diff": 2
         },
         {
          "diff": 3
         },
         {
          "diff": 3
         },
         {
          "diff": 2
         },
         {
          "diff": 2
         },
         {
          "diff": 1
         },
         {
          "diff": 1
         },
         {
          "diff": 1
         },
         {
          "diff": 4
         },
         {
          "diff": 2
         },
         {
          "diff": 7
         },
         {
          "diff": 3
         },
         {
          "diff": 4
         },
         {
          "diff": 5
         },
         {
          "diff": 1
         },
         {
          "diff": 1
         },
         {
          "diff": 2
         },
         {
          "diff": 4
         },
         {
          "diff": 7
         },
         {
          "diff": 2
         },
         {
          "diff": 1
         },
         {
          "diff": 2
         },
         {
          "diff": 12
         },
         {
          "diff": 1
         },
         {
          "diff": 3
         },
         {
          "diff": 1
         },
         {
          "diff": 2
         },
         {
          "diff": 1
         },
         {
          "diff": 2
         },
         {
          "diff": 2
         },
         {
          "diff": 2
         },
         {
          "diff": 2
         },
         {
          "diff": 2
         },
         {
          "diff": 7
         },
         {
          "diff": 1
         },
         {
          "diff": 1
         },
         {
          "diff": 3
         },
         {
          "diff": 3
         },
         {
          "diff": 3
         },
         {
          "diff": 7
         },
         {
          "diff": 1
         },
         {
          "diff": 8
         },
         {
          "diff": 1
         },
         {
          "diff": 1
         },
         {
          "diff": 2
         },
         {
          "diff": 2
         },
         {
          "diff": 1
         },
         {
          "diff": 2
         },
         {
          "diff": 2
         },
         {
          "diff": 1
         },
         {
          "diff": 1
         },
         {
          "diff": 1
         },
         {
          "diff": 1
         },
         {
          "diff": 1
         },
         {
          "diff": 1
         },
         {
          "diff": 5
         },
         {
          "diff": 2
         },
         {
          "diff": 3
         },
         {
          "diff": 2
         },
         {
          "diff": 1
         },
         {
          "diff": 2
         },
         {
          "diff": 2
         },
         {
          "diff": 1
         },
         {
          "diff": 6
         },
         {
          "diff": 1
         },
         {
          "diff": 2
         },
         {
          "diff": 5
         },
         {
          "diff": 2
         },
         {
          "diff": 1
         },
         {
          "diff": 1
         },
         {
          "diff": 1
         },
         {
          "diff": 2
         },
         {
          "diff": 2
         },
         {
          "diff": 4
         },
         {
          "diff": 8
         },
         {
          "diff": 1
         },
         {
          "diff": 1
         },
         {
          "diff": 2
         },
         {
          "diff": 4
         },
         {
          "diff": 5
         },
         {
          "diff": 2
         },
         {
          "diff": 1
         },
         {
          "diff": 7
         },
         {
          "diff": 3
         },
         {
          "diff": 1
         },
         {
          "diff": 1
         },
         {
          "diff": 1
         },
         {
          "diff": 3
         },
         {
          "diff": 6
         },
         {
          "diff": 2
         },
         {
          "diff": 1
         },
         {
          "diff": 1
         },
         {
          "diff": 3
         },
         {
          "diff": 3
         },
         {
          "diff": 1
         },
         {
          "diff": 3
         },
         {
          "diff": 2
         },
         {
          "diff": 2
         },
         {
          "diff": 1
         },
         {
          "diff": 2
         },
         {
          "diff": 1
         },
         {
          "diff": 6
         },
         {
          "diff": 1
         },
         {
          "diff": 2
         },
         {
          "diff": 1
         },
         {
          "diff": 1
         },
         {
          "diff": 1
         },
         {
          "diff": 3
         },
         {
          "diff": 3
         },
         {
          "diff": 2
         },
         {
          "diff": 1
         },
         {
          "diff": 6
         },
         {
          "diff": 3
         },
         {
          "diff": 4
         },
         {
          "diff": 3
         },
         {
          "diff": 5
         },
         {
          "diff": 5
         },
         {
          "diff": 1
         },
         {
          "diff": 3
         },
         {
          "diff": 3
         },
         {
          "diff": 1
         },
         {
          "diff": 2
         },
         {
          "diff": 3
         },
         {
          "diff": 2
         },
         {
          "diff": 3
         },
         {
          "diff": 3
         },
         {
          "diff": 1
         },
         {
          "diff": 1
         },
         {
          "diff": 1
         },
         {
          "diff": 1
         },
         {
          "diff": 1
         },
         {
          "diff": 2
         },
         {
          "diff": 1
         },
         {
          "diff": 1
         },
         {
          "diff": 2
         },
         {
          "diff": 1
         },
         {
          "diff": 1
         },
         {
          "diff": 1
         },
         {
          "diff": 2
         },
         {
          "diff": 1
         },
         {
          "diff": 1
         },
         {
          "diff": 1
         },
         {
          "diff": 1
         },
         {
          "diff": 1
         },
         {
          "diff": 1
         },
         {
          "diff": 3
         },
         {
          "diff": 1
         },
         {
          "diff": 1
         },
         {
          "diff": 2
         },
         {
          "diff": 1
         },
         {
          "diff": 1
         },
         {
          "diff": 1
         },
         {
          "diff": 1
         },
         {
          "diff": 3
         },
         {
          "diff": 1
         },
         {
          "diff": 2
         },
         {
          "diff": 2
         },
         {
          "diff": 1
         },
         {
          "diff": 1
         },
         {
          "diff": 2
         },
         {
          "diff": 1
         },
         {
          "diff": 1
         },
         {
          "diff": 2
         },
         {
          "diff": 1
         },
         {
          "diff": 1
         },
         {
          "diff": 1
         },
         {
          "diff": 2
         },
         {
          "diff": 4
         },
         {
          "diff": 1
         },
         {
          "diff": 1
         },
         {
          "diff": 1
         },
         {
          "diff": 2
         },
         {
          "diff": 4
         },
         {
          "diff": 3
         },
         {
          "diff": 1
         },
         {
          "diff": 1
         },
         {
          "diff": 1
         },
         {
          "diff": 4
         },
         {
          "diff": 1
         },
         {
          "diff": 1
         },
         {
          "diff": 3
         },
         {
          "diff": 5
         },
         {
          "diff": 2
         },
         {
          "diff": 4
         },
         {
          "diff": 2
         },
         {
          "diff": 5
         },
         {
          "diff": 3
         },
         {
          "diff": 1
         },
         {
          "diff": 3
         },
         {
          "diff": 3
         },
         {
          "diff": 1
         },
         {
          "diff": 1
         },
         {
          "diff": 1
         },
         {
          "diff": 1
         },
         {
          "diff": 5
         },
         {
          "diff": 1
         },
         {
          "diff": 1
         },
         {
          "diff": 2
         },
         {
          "diff": 2
         },
         {
          "diff": 1
         },
         {
          "diff": 1
         },
         {
          "diff": 1
         },
         {
          "diff": 1
         },
         {
          "diff": 1
         },
         {
          "diff": 2
         },
         {
          "diff": 1
         },
         {
          "diff": 1
         },
         {
          "diff": 1
         },
         {
          "diff": 5
         },
         {
          "diff": 2
         },
         {
          "diff": 1
         },
         {
          "diff": 2
         },
         {
          "diff": 1
         },
         {
          "diff": 1
         },
         {
          "diff": 2
         },
         {
          "diff": 1
         },
         {
          "diff": 3
         },
         {
          "diff": 1
         },
         {
          "diff": 1
         },
         {
          "diff": 4
         },
         {
          "diff": 1
         },
         {
          "diff": 4
         },
         {
          "diff": 2
         },
         {
          "diff": 1
         },
         {
          "diff": 1
         },
         {
          "diff": 1
         },
         {
          "diff": 2
         },
         {
          "diff": 2
         },
         {
          "diff": 1
         },
         {
          "diff": 4
         },
         {
          "diff": 2
         },
         {
          "diff": 3
         },
         {
          "diff": 2
         },
         {
          "diff": 6
         },
         {
          "diff": 1
         },
         {
          "diff": 1
         },
         {
          "diff": 1
         },
         {
          "diff": 1
         },
         {
          "diff": 1
         },
         {
          "diff": 1
         },
         {
          "diff": 1
         },
         {
          "diff": 1
         },
         {
          "diff": 1
         },
         {
          "diff": 1
         },
         {
          "diff": 3
         },
         {
          "diff": 3
         },
         {
          "diff": 1
         },
         {
          "diff": 2
         },
         {
          "diff": 1
         },
         {
          "diff": 1
         },
         {
          "diff": 1
         },
         {
          "diff": 1
         },
         {
          "diff": 1
         },
         {
          "diff": 1
         },
         {
          "diff": 1
         },
         {
          "diff": 1
         },
         {
          "diff": 1
         },
         {
          "diff": 1
         },
         {
          "diff": 1
         },
         {
          "diff": 7
         },
         {
          "diff": 1
         },
         {
          "diff": 2
         },
         {
          "diff": 2
         },
         {
          "diff": 1
         },
         {
          "diff": 1
         },
         {
          "diff": 2
         },
         {
          "diff": 1
         },
         {
          "diff": 1
         },
         {
          "diff": 2
         },
         {
          "diff": 1
         },
         {
          "diff": 1
         },
         {
          "diff": 1
         },
         {
          "diff": 1
         },
         {
          "diff": 2
         },
         {
          "diff": 3
         },
         {
          "diff": 1
         },
         {
          "diff": 2
         },
         {
          "diff": 2
         },
         {
          "diff": 1
         },
         {
          "diff": 1
         },
         {
          "diff": 1
         },
         {
          "diff": 2
         },
         {
          "diff": 2
         },
         {
          "diff": 1
         },
         {
          "diff": 1
         },
         {
          "diff": 1
         },
         {
          "diff": 2
         },
         {
          "diff": 2
         },
         {
          "diff": 1
         },
         {
          "diff": 1
         },
         {
          "diff": 3
         },
         {
          "diff": 2
         },
         {
          "diff": 1
         },
         {
          "diff": 1
         },
         {
          "diff": 1
         },
         {
          "diff": 1
         },
         {
          "diff": 1
         },
         {
          "diff": 1
         },
         {
          "diff": 1
         },
         {
          "diff": 1
         },
         {
          "diff": 1
         },
         {
          "diff": 1
         },
         {
          "diff": 1
         },
         {
          "diff": 1
         },
         {
          "diff": 1
         },
         {
          "diff": 2
         },
         {
          "diff": 1
         },
         {
          "diff": 1
         },
         {
          "diff": 1
         },
         {
          "diff": 3
         },
         {
          "diff": 3
         },
         {
          "diff": 1
         },
         {
          "diff": 1
         },
         {
          "diff": 1
         },
         {
          "diff": 1
         },
         {
          "diff": 2
         },
         {
          "diff": 1
         },
         {
          "diff": 2
         },
         {
          "diff": 1
         },
         {
          "diff": 1
         },
         {
          "diff": 2
         },
         {
          "diff": 1
         },
         {
          "diff": 1
         },
         {
          "diff": 1
         },
         {
          "diff": 1
         },
         {
          "diff": 1
         },
         {
          "diff": 1
         },
         {
          "diff": 1
         },
         {
          "diff": 1
         },
         {
          "diff": 1
         },
         {
          "diff": 1
         },
         {
          "diff": 1
         },
         {
          "diff": 1
         },
         {
          "diff": 1
         },
         {
          "diff": 1
         },
         {
          "diff": 1
         },
         {
          "diff": 1
         },
         {
          "diff": 2
         },
         {
          "diff": 1
         },
         {
          "diff": 1
         },
         {
          "diff": 1
         },
         {
          "diff": 1
         },
         {
          "diff": 1
         },
         {
          "diff": 1
         },
         {
          "diff": 1
         },
         {
          "diff": 1
         },
         {
          "diff": 1
         },
         {
          "diff": 1
         },
         {
          "diff": 1
         },
         {
          "diff": 1
         },
         {
          "diff": 2
         },
         {
          "diff": 1
         },
         {
          "diff": 1
         },
         {
          "diff": 1
         },
         {
          "diff": 2
         },
         {
          "diff": 1
         },
         {
          "diff": 1
         },
         {
          "diff": 1
         },
         {
          "diff": 1
         }
        ]
       },
       "encoding": {
        "x": {
         "bin": {
          "step": 1
         },
         "field": "diff",
         "type": "quantitative"
        },
        "y": {
         "aggregate": "count",
         "type": "quantitative"
        }
       },
       "mark": "bar"
      },
      "image/png": "[encoded data removed]",
      "text/plain": [
       "<VegaLite 2 object>\n",
       "\n",
       "If you see this message, it means the renderer has not been properly enabled\n",
       "for the frontend that you are using. For more information, see\n",
       "https://altair-viz.github.io/user_guide/troubleshooting.html\n"
      ]
     },
     "metadata": {},
     "output_type": "display_data"
    },
    {
     "name": "stdout",
     "output_type": "stream",
     "text": [
      "1724 620 252\n"
     ]
    },
    {
     "data": {
      "text/html": [
       "<div>\n",
       "<style scoped>\n",
       "    .dataframe tbody tr th:only-of-type {\n",
       "        vertical-align: middle;\n",
       "    }\n",
       "\n",
       "    .dataframe tbody tr th {\n",
       "        vertical-align: top;\n",
       "    }\n",
       "\n",
       "    .dataframe thead th {\n",
       "        text-align: right;\n",
       "    }\n",
       "</style>\n",
       "<table border=\"1\" class=\"dataframe\">\n",
       "  <thead>\n",
       "    <tr style=\"text-align: right;\">\n",
       "      <th></th>\n",
       "      <th>utterances</th>\n",
       "    </tr>\n",
       "  </thead>\n",
       "  <tbody>\n",
       "    <tr>\n",
       "      <th>0</th>\n",
       "      <td>config axisBand tickSize</td>\n",
       "    </tr>\n",
       "    <tr>\n",
       "      <th>1</th>\n",
       "      <td>encoding x axis format</td>\n",
       "    </tr>\n",
       "    <tr>\n",
       "      <th>2</th>\n",
       "      <td>config axisBottom labelFlushOffset</td>\n",
       "    </tr>\n",
       "    <tr>\n",
       "      <th>3</th>\n",
       "      <td>encoding x scale zero</td>\n",
       "    </tr>\n",
       "    <tr>\n",
       "      <th>4</th>\n",
       "      <td>encoding size legend columns</td>\n",
       "    </tr>\n",
       "    <tr>\n",
       "      <th>5</th>\n",
       "      <td>config legend orient</td>\n",
       "    </tr>\n",
       "    <tr>\n",
       "      <th>6</th>\n",
       "      <td>encoding y axis labelBound</td>\n",
       "    </tr>\n",
       "    <tr>\n",
       "      <th>7</th>\n",
       "      <td>encoding opacity value</td>\n",
       "    </tr>\n",
       "    <tr>\n",
       "      <th>8</th>\n",
       "      <td>config point opacity</td>\n",
       "    </tr>\n",
       "    <tr>\n",
       "      <th>9</th>\n",
       "      <td>encoding text bin minstep</td>\n",
       "    </tr>\n",
       "    <tr>\n",
       "      <th>10</th>\n",
       "      <td>config stack</td>\n",
       "    </tr>\n",
       "    <tr>\n",
       "      <th>11</th>\n",
       "      <td>encoding y axis tickExtra</td>\n",
       "    </tr>\n",
       "    <tr>\n",
       "      <th>12</th>\n",
       "      <td>config axisBottom labelLimit</td>\n",
       "    </tr>\n",
       "    <tr>\n",
       "      <th>13</th>\n",
       "      <td>encoding x axis labelFontWeight</td>\n",
       "    </tr>\n",
       "    <tr>\n",
       "      <th>14</th>\n",
       "      <td>mark strokeDashOffset</td>\n",
       "    </tr>\n",
       "    <tr>\n",
       "      <th>15</th>\n",
       "      <td>encoding y axis labelFontWeight</td>\n",
       "    </tr>\n",
       "    <tr>\n",
       "      <th>16</th>\n",
       "      <td>config axisY maxExtent</td>\n",
       "    </tr>\n",
       "    <tr>\n",
       "      <th>17</th>\n",
       "      <td>config trail point text</td>\n",
       "    </tr>\n",
       "    <tr>\n",
       "      <th>18</th>\n",
       "      <td>config legend titleFontWeight</td>\n",
       "    </tr>\n",
       "    <tr>\n",
       "      <th>19</th>\n",
       "      <td>encoding fill type</td>\n",
       "    </tr>\n",
       "    <tr>\n",
       "      <th>20</th>\n",
       "      <td>config axisLeft titleBaseline</td>\n",
       "    </tr>\n",
       "    <tr>\n",
       "      <th>21</th>\n",
       "      <td>mark point size</td>\n",
       "    </tr>\n",
       "    <tr>\n",
       "      <th>22</th>\n",
       "      <td>encoding y axis labelLimit</td>\n",
       "    </tr>\n",
       "    <tr>\n",
       "      <th>23</th>\n",
       "      <td>config axisLeft labelBaseline</td>\n",
       "    </tr>\n",
       "    <tr>\n",
       "      <th>24</th>\n",
       "      <td>config axisBottom gridOpacity</td>\n",
       "    </tr>\n",
       "    <tr>\n",
       "      <th>25</th>\n",
       "      <td>config axis gridColor</td>\n",
       "    </tr>\n",
       "    <tr>\n",
       "      <th>26</th>\n",
       "      <td>mark point baseline</td>\n",
       "    </tr>\n",
       "    <tr>\n",
       "      <th>27</th>\n",
       "      <td>mark opacity</td>\n",
       "    </tr>\n",
       "    <tr>\n",
       "      <th>28</th>\n",
       "      <td>config axis labelBound</td>\n",
       "    </tr>\n",
       "    <tr>\n",
       "      <th>29</th>\n",
       "      <td>encoding size legend labelFont</td>\n",
       "    </tr>\n",
       "    <tr>\n",
       "      <th>30</th>\n",
       "      <td>config legend offset</td>\n",
       "    </tr>\n",
       "    <tr>\n",
       "      <th>31</th>\n",
       "      <td>mark point strokeWidth</td>\n",
       "    </tr>\n",
       "    <tr>\n",
       "      <th>32</th>\n",
       "      <td>config axisLeft titleAlign</td>\n",
       "    </tr>\n",
       "    <tr>\n",
       "      <th>33</th>\n",
       "      <td>encoding y axis grid</td>\n",
       "    </tr>\n",
       "    <tr>\n",
       "      <th>34</th>\n",
       "      <td>config scale round</td>\n",
       "    </tr>\n",
       "    <tr>\n",
       "      <th>35</th>\n",
       "      <td>config legend titleAlign</td>\n",
       "    </tr>\n",
       "    <tr>\n",
       "      <th>36</th>\n",
       "      <td>config bar color</td>\n",
       "    </tr>\n",
       "    <tr>\n",
       "      <th>37</th>\n",
       "      <td>config axisX gridWidth</td>\n",
       "    </tr>\n",
       "    <tr>\n",
       "      <th>38</th>\n",
       "      <td>mark point stroke</td>\n",
       "    </tr>\n",
       "    <tr>\n",
       "      <th>39</th>\n",
       "      <td>encoding x axis grid</td>\n",
       "    </tr>\n",
       "    <tr>\n",
       "      <th>40</th>\n",
       "      <td>config area line ellipsis</td>\n",
       "    </tr>\n",
       "    <tr>\n",
       "      <th>41</th>\n",
       "      <td>encoding y axis ticks</td>\n",
       "    </tr>\n",
       "    <tr>\n",
       "      <th>42</th>\n",
       "      <td>config legend labelBaseline</td>\n",
       "    </tr>\n",
       "    <tr>\n",
       "      <th>43</th>\n",
       "      <td>encoding color legend direction</td>\n",
       "    </tr>\n",
       "    <tr>\n",
       "      <th>44</th>\n",
       "      <td>config axisX labelAlign</td>\n",
       "    </tr>\n",
       "    <tr>\n",
       "      <th>45</th>\n",
       "      <td>config legend titleFont</td>\n",
       "    </tr>\n",
       "    <tr>\n",
       "      <th>46</th>\n",
       "      <td>config line point font</td>\n",
       "    </tr>\n",
       "    <tr>\n",
       "      <th>47</th>\n",
       "      <td>config area line size</td>\n",
       "    </tr>\n",
       "    <tr>\n",
       "      <th>48</th>\n",
       "      <td>encoding color legend symbolSize</td>\n",
       "    </tr>\n",
       "    <tr>\n",
       "      <th>49</th>\n",
       "      <td>encoding color legend symbolOpacity</td>\n",
       "    </tr>\n",
       "    <tr>\n",
       "      <th>50</th>\n",
       "      <td>config countTitle</td>\n",
       "    </tr>\n",
       "    <tr>\n",
       "      <th>51</th>\n",
       "      <td>config errorband band fontSize</td>\n",
       "    </tr>\n",
       "    <tr>\n",
       "      <th>52</th>\n",
       "      <td>encoding size legend padding</td>\n",
       "    </tr>\n",
       "    <tr>\n",
       "      <th>53</th>\n",
       "      <td>encoding size legend clipHeight</td>\n",
       "    </tr>\n",
       "    <tr>\n",
       "      <th>54</th>\n",
       "      <td>encoding size bin maxbins</td>\n",
       "    </tr>\n",
       "    <tr>\n",
       "      <th>55</th>\n",
       "      <td>encoding size legend direction</td>\n",
       "    </tr>\n",
       "    <tr>\n",
       "      <th>56</th>\n",
       "      <td>encoding color legend rowPadding</td>\n",
       "    </tr>\n",
       "    <tr>\n",
       "      <th>57</th>\n",
       "      <td>encoding size legend rowPadding</td>\n",
       "    </tr>\n",
       "    <tr>\n",
       "      <th>58</th>\n",
       "      <td>config axis labelPadding</td>\n",
       "    </tr>\n",
       "    <tr>\n",
       "      <th>59</th>\n",
       "      <td>config axisY labelLimit</td>\n",
       "    </tr>\n",
       "    <tr>\n",
       "      <th>60</th>\n",
       "      <td>config trail point theta</td>\n",
       "    </tr>\n",
       "    <tr>\n",
       "      <th>61</th>\n",
       "      <td>config boxplot box interpolate</td>\n",
       "    </tr>\n",
       "    <tr>\n",
       "      <th>62</th>\n",
       "      <td>config trail strokeWidth</td>\n",
       "    </tr>\n",
       "    <tr>\n",
       "      <th>63</th>\n",
       "      <td>encoding size legend titleColor</td>\n",
       "    </tr>\n",
       "    <tr>\n",
       "      <th>64</th>\n",
       "      <td>config axisLeft labelAngle</td>\n",
       "    </tr>\n",
       "    <tr>\n",
       "      <th>65</th>\n",
       "      <td>encoding x axis labels</td>\n",
       "    </tr>\n",
       "    <tr>\n",
       "      <th>66</th>\n",
       "      <td>config axisBand titleOpacity</td>\n",
       "    </tr>\n",
       "    <tr>\n",
       "      <th>67</th>\n",
       "      <td>config area point xOffset</td>\n",
       "    </tr>\n",
       "    <tr>\n",
       "      <th>68</th>\n",
       "      <td>padding bottom</td>\n",
       "    </tr>\n",
       "    <tr>\n",
       "      <th>69</th>\n",
       "      <td>config line strokeWidth</td>\n",
       "    </tr>\n",
       "    <tr>\n",
       "      <th>70</th>\n",
       "      <td>encoding x axis tickOpacity</td>\n",
       "    </tr>\n",
       "    <tr>\n",
       "      <th>71</th>\n",
       "      <td>encoding color legend labelLimit</td>\n",
       "    </tr>\n",
       "    <tr>\n",
       "      <th>72</th>\n",
       "      <td>encoding y axis domainOpacity</td>\n",
       "    </tr>\n",
       "    <tr>\n",
       "      <th>73</th>\n",
       "      <td>config area point theta</td>\n",
       "    </tr>\n",
       "    <tr>\n",
       "      <th>74</th>\n",
       "      <td>encoding size legend symbolStrokeWidth</td>\n",
       "    </tr>\n",
       "    <tr>\n",
       "      <th>75</th>\n",
       "      <td>encoding x axis tickExtra</td>\n",
       "    </tr>\n",
       "    <tr>\n",
       "      <th>76</th>\n",
       "      <td>config mark size</td>\n",
       "    </tr>\n",
       "    <tr>\n",
       "      <th>77</th>\n",
       "      <td>config axisBand titleFontWeight</td>\n",
       "    </tr>\n",
       "    <tr>\n",
       "      <th>78</th>\n",
       "      <td>config axisLeft tickExtra</td>\n",
       "    </tr>\n",
       "    <tr>\n",
       "      <th>79</th>\n",
       "      <td>config padding bottom</td>\n",
       "    </tr>\n",
       "    <tr>\n",
       "      <th>80</th>\n",
       "      <td>encoding y axis titlePadding</td>\n",
       "    </tr>\n",
       "    <tr>\n",
       "      <th>81</th>\n",
       "      <td>config axisLeft ticks</td>\n",
       "    </tr>\n",
       "    <tr>\n",
       "      <th>82</th>\n",
       "      <td>encoding column header titleColor</td>\n",
       "    </tr>\n",
       "    <tr>\n",
       "      <th>83</th>\n",
       "      <td>config axisBand domain</td>\n",
       "    </tr>\n",
       "    <tr>\n",
       "      <th>84</th>\n",
       "      <td>encoding color value</td>\n",
       "    </tr>\n",
       "    <tr>\n",
       "      <th>85</th>\n",
       "      <td>config line point filled</td>\n",
       "    </tr>\n",
       "    <tr>\n",
       "      <th>86</th>\n",
       "      <td>encoding color legend symbolType</td>\n",
       "    </tr>\n",
       "    <tr>\n",
       "      <th>87</th>\n",
       "      <td>config legend labelAlign</td>\n",
       "    </tr>\n",
       "    <tr>\n",
       "      <th>88</th>\n",
       "      <td>config point fillOpacity</td>\n",
       "    </tr>\n",
       "    <tr>\n",
       "      <th>89</th>\n",
       "      <td>encoding shape legend labelColor</td>\n",
       "    </tr>\n",
       "    <tr>\n",
       "      <th>90</th>\n",
       "      <td>config axisTop titleX</td>\n",
       "    </tr>\n",
       "    <tr>\n",
       "      <th>91</th>\n",
       "      <td>config mark fontStyle</td>\n",
       "    </tr>\n",
       "    <tr>\n",
       "      <th>92</th>\n",
       "      <td>config line point strokeOpacity</td>\n",
       "    </tr>\n",
       "    <tr>\n",
       "      <th>93</th>\n",
       "      <td>config axis tickRound</td>\n",
       "    </tr>\n",
       "    <tr>\n",
       "      <th>94</th>\n",
       "      <td>mark point limit</td>\n",
       "    </tr>\n",
       "    <tr>\n",
       "      <th>95</th>\n",
       "      <td>config axis ticks</td>\n",
       "    </tr>\n",
       "    <tr>\n",
       "      <th>96</th>\n",
       "      <td>config line point strokeDashOffset</td>\n",
       "    </tr>\n",
       "    <tr>\n",
       "      <th>97</th>\n",
       "      <td>config axisX tickOffset</td>\n",
       "    </tr>\n",
       "    <tr>\n",
       "      <th>98</th>\n",
       "      <td>config point color</td>\n",
       "    </tr>\n",
       "    <tr>\n",
       "      <th>99</th>\n",
       "      <td>config axisY labelAlign</td>\n",
       "    </tr>\n",
       "    <tr>\n",
       "      <th>100</th>\n",
       "      <td>encoding size legend type</td>\n",
       "    </tr>\n",
       "    <tr>\n",
       "      <th>101</th>\n",
       "      <td>config legend fillColor</td>\n",
       "    </tr>\n",
       "    <tr>\n",
       "      <th>102</th>\n",
       "      <td>config area line tension</td>\n",
       "    </tr>\n",
       "    <tr>\n",
       "      <th>103</th>\n",
       "      <td>config axisX domain</td>\n",
       "    </tr>\n",
       "    <tr>\n",
       "      <th>104</th>\n",
       "      <td>mark point strokeDashOffset</td>\n",
       "    </tr>\n",
       "    <tr>\n",
       "      <th>105</th>\n",
       "      <td>mark point shape</td>\n",
       "    </tr>\n",
       "    <tr>\n",
       "      <th>106</th>\n",
       "      <td>encoding x axis labelAlign</td>\n",
       "    </tr>\n",
       "    <tr>\n",
       "      <th>107</th>\n",
       "      <td>config axisBottom labelBaseline</td>\n",
       "    </tr>\n",
       "    <tr>\n",
       "      <th>108</th>\n",
       "      <td>config scale useUnaggregatedDomain</td>\n",
       "    </tr>\n",
       "    <tr>\n",
       "      <th>109</th>\n",
       "      <td>config legend symbolSize</td>\n",
       "    </tr>\n",
       "    <tr>\n",
       "      <th>110</th>\n",
       "      <td>config axisBand ticks</td>\n",
       "    </tr>\n",
       "    <tr>\n",
       "      <th>111</th>\n",
       "      <td>config axisY labelFontWeight</td>\n",
       "    </tr>\n",
       "    <tr>\n",
       "      <th>112</th>\n",
       "      <td>config area line shape</td>\n",
       "    </tr>\n",
       "    <tr>\n",
       "      <th>113</th>\n",
       "      <td>encoding color scale type</td>\n",
       "    </tr>\n",
       "    <tr>\n",
       "      <th>114</th>\n",
       "      <td>config bar opacity</td>\n",
       "    </tr>\n",
       "    <tr>\n",
       "      <th>115</th>\n",
       "      <td>config axisBand labelColor</td>\n",
       "    </tr>\n",
       "    <tr>\n",
       "      <th>116</th>\n",
       "      <td>config axisBottom ticks</td>\n",
       "    </tr>\n",
       "    <tr>\n",
       "      <th>117</th>\n",
       "      <td>config area point strokeMiterLimit</td>\n",
       "    </tr>\n",
       "    <tr>\n",
       "      <th>118</th>\n",
       "      <td>config axisY ticks</td>\n",
       "    </tr>\n",
       "    <tr>\n",
       "      <th>119</th>\n",
       "      <td>config tick fillOpacity</td>\n",
       "    </tr>\n",
       "    <tr>\n",
       "      <th>120</th>\n",
       "      <td>encoding shape legend labelBaseline</td>\n",
       "    </tr>\n",
       "    <tr>\n",
       "      <th>121</th>\n",
       "      <td>config axisX tickExtra</td>\n",
       "    </tr>\n",
       "    <tr>\n",
       "      <th>122</th>\n",
       "      <td>encoding x scale paddingOuter</td>\n",
       "    </tr>\n",
       "    <tr>\n",
       "      <th>123</th>\n",
       "      <td>config line point align</td>\n",
       "    </tr>\n",
       "    <tr>\n",
       "      <th>124</th>\n",
       "      <td>config line point yOffset</td>\n",
       "    </tr>\n",
       "    <tr>\n",
       "      <th>125</th>\n",
       "      <td>config axisY labelBaseline</td>\n",
       "    </tr>\n",
       "    <tr>\n",
       "      <th>126</th>\n",
       "      <td>config axisTop titlePadding</td>\n",
       "    </tr>\n",
       "    <tr>\n",
       "      <th>127</th>\n",
       "      <td>config bar stroke</td>\n",
       "    </tr>\n",
       "    <tr>\n",
       "      <th>128</th>\n",
       "      <td>config axisY titleBaseline</td>\n",
       "    </tr>\n",
       "    <tr>\n",
       "      <th>129</th>\n",
       "      <td>encoding x axis titleOpacity</td>\n",
       "    </tr>\n",
       "    <tr>\n",
       "      <th>130</th>\n",
       "      <td>config axis tickExtra</td>\n",
       "    </tr>\n",
       "    <tr>\n",
       "      <th>131</th>\n",
       "      <td>config mark interpolate</td>\n",
       "    </tr>\n",
       "    <tr>\n",
       "      <th>132</th>\n",
       "      <td>config axisBand domainWidth</td>\n",
       "    </tr>\n",
       "    <tr>\n",
       "      <th>133</th>\n",
       "      <td>encoding color legend titlePadding</td>\n",
       "    </tr>\n",
       "    <tr>\n",
       "      <th>134</th>\n",
       "      <td>config point strokeOpacity</td>\n",
       "    </tr>\n",
       "    <tr>\n",
       "      <th>135</th>\n",
       "      <td>config area point filled</td>\n",
       "    </tr>\n",
       "    <tr>\n",
       "      <th>136</th>\n",
       "      <td>config line point theta</td>\n",
       "    </tr>\n",
       "    <tr>\n",
       "      <th>137</th>\n",
       "      <td>config mark orient</td>\n",
       "    </tr>\n",
       "    <tr>\n",
       "      <th>138</th>\n",
       "      <td>config line point tooltip</td>\n",
       "    </tr>\n",
       "    <tr>\n",
       "      <th>139</th>\n",
       "      <td>config axisLeft labelPadding</td>\n",
       "    </tr>\n",
       "    <tr>\n",
       "      <th>140</th>\n",
       "      <td>encoding size bin base</td>\n",
       "    </tr>\n",
       "    <tr>\n",
       "      <th>141</th>\n",
       "      <td>config axisLeft domainColor</td>\n",
       "    </tr>\n",
       "    <tr>\n",
       "      <th>142</th>\n",
       "      <td>config tick cursor</td>\n",
       "    </tr>\n",
       "    <tr>\n",
       "      <th>143</th>\n",
       "      <td>config point fill</td>\n",
       "    </tr>\n",
       "    <tr>\n",
       "      <th>144</th>\n",
       "      <td>config area line color</td>\n",
       "    </tr>\n",
       "    <tr>\n",
       "      <th>145</th>\n",
       "      <td>encoding color legend symbolStrokeColor</td>\n",
       "    </tr>\n",
       "    <tr>\n",
       "      <th>146</th>\n",
       "      <td>config legend labelOffset</td>\n",
       "    </tr>\n",
       "    <tr>\n",
       "      <th>147</th>\n",
       "      <td>config text size</td>\n",
       "    </tr>\n",
       "    <tr>\n",
       "      <th>148</th>\n",
       "      <td>config scale textXRangeStep</td>\n",
       "    </tr>\n",
       "    <tr>\n",
       "      <th>149</th>\n",
       "      <td>config axisBand shortTimeLabels</td>\n",
       "    </tr>\n",
       "    <tr>\n",
       "      <th>150</th>\n",
       "      <td>config circle fillOpacity</td>\n",
       "    </tr>\n",
       "    <tr>\n",
       "      <th>151</th>\n",
       "      <td>config line size</td>\n",
       "    </tr>\n",
       "    <tr>\n",
       "      <th>152</th>\n",
       "      <td>config axisLeft labelBound</td>\n",
       "    </tr>\n",
       "    <tr>\n",
       "      <th>153</th>\n",
       "      <td>config axisX titleFontWeight</td>\n",
       "    </tr>\n",
       "    <tr>\n",
       "      <th>154</th>\n",
       "      <td>config errorband extent</td>\n",
       "    </tr>\n",
       "    <tr>\n",
       "      <th>155</th>\n",
       "      <td>config scale clamp</td>\n",
       "    </tr>\n",
       "    <tr>\n",
       "      <th>156</th>\n",
       "      <td>config text dy</td>\n",
       "    </tr>\n",
       "    <tr>\n",
       "      <th>157</th>\n",
       "      <td>config axisBand titleFont</td>\n",
       "    </tr>\n",
       "    <tr>\n",
       "      <th>158</th>\n",
       "      <td>config rule dy</td>\n",
       "    </tr>\n",
       "    <tr>\n",
       "      <th>159</th>\n",
       "      <td>config area strokeDashOffset</td>\n",
       "    </tr>\n",
       "    <tr>\n",
       "      <th>160</th>\n",
       "      <td>config line point tension</td>\n",
       "    </tr>\n",
       "    <tr>\n",
       "      <th>161</th>\n",
       "      <td>encoding shape legend fillColor</td>\n",
       "    </tr>\n",
       "    <tr>\n",
       "      <th>162</th>\n",
       "      <td>encoding size legend format</td>\n",
       "    </tr>\n",
       "    <tr>\n",
       "      <th>163</th>\n",
       "      <td>config area line orient</td>\n",
       "    </tr>\n",
       "    <tr>\n",
       "      <th>164</th>\n",
       "      <td>config line point size</td>\n",
       "    </tr>\n",
       "    <tr>\n",
       "      <th>165</th>\n",
       "      <td>config circle stroke</td>\n",
       "    </tr>\n",
       "    <tr>\n",
       "      <th>166</th>\n",
       "      <td>encoding y2 type</td>\n",
       "    </tr>\n",
       "    <tr>\n",
       "      <th>167</th>\n",
       "      <td>encoding y stack</td>\n",
       "    </tr>\n",
       "    <tr>\n",
       "      <th>168</th>\n",
       "      <td>encoding color legend titleOpacity</td>\n",
       "    </tr>\n",
       "    <tr>\n",
       "      <th>169</th>\n",
       "      <td>config scale maxSize</td>\n",
       "    </tr>\n",
       "    <tr>\n",
       "      <th>170</th>\n",
       "      <td>config axisBand labelPadding</td>\n",
       "    </tr>\n",
       "    <tr>\n",
       "      <th>171</th>\n",
       "      <td>config line point strokeWidth</td>\n",
       "    </tr>\n",
       "    <tr>\n",
       "      <th>172</th>\n",
       "      <td>encoding y axis tickOpacity</td>\n",
       "    </tr>\n",
       "    <tr>\n",
       "      <th>173</th>\n",
       "      <td>config rect fillOpacity</td>\n",
       "    </tr>\n",
       "    <tr>\n",
       "      <th>174</th>\n",
       "      <td>config area fillOpacity</td>\n",
       "    </tr>\n",
       "    <tr>\n",
       "      <th>175</th>\n",
       "      <td>encoding y axis bandPosition</td>\n",
       "    </tr>\n",
       "    <tr>\n",
       "      <th>176</th>\n",
       "      <td>config area point clip</td>\n",
       "    </tr>\n",
       "    <tr>\n",
       "      <th>177</th>\n",
       "      <td>config rect stroke</td>\n",
       "    </tr>\n",
       "    <tr>\n",
       "      <th>178</th>\n",
       "      <td>config range heatmap scheme</td>\n",
       "    </tr>\n",
       "    <tr>\n",
       "      <th>179</th>\n",
       "      <td>config trail point style</td>\n",
       "    </tr>\n",
       "    <tr>\n",
       "      <th>180</th>\n",
       "      <td>config line point clip</td>\n",
       "    </tr>\n",
       "    <tr>\n",
       "      <th>181</th>\n",
       "      <td>encoding text value</td>\n",
       "    </tr>\n",
       "    <tr>\n",
       "      <th>182</th>\n",
       "      <td>config axisX labelAngle</td>\n",
       "    </tr>\n",
       "    <tr>\n",
       "      <th>183</th>\n",
       "      <td>config axisY titleLimit</td>\n",
       "    </tr>\n",
       "    <tr>\n",
       "      <th>184</th>\n",
       "      <td>encoding shape legend titlePadding</td>\n",
       "    </tr>\n",
       "    <tr>\n",
       "      <th>185</th>\n",
       "      <td>config axisY tickExtra</td>\n",
       "    </tr>\n",
       "    <tr>\n",
       "      <th>186</th>\n",
       "      <td>config axisLeft tickOffset</td>\n",
       "    </tr>\n",
       "    <tr>\n",
       "      <th>187</th>\n",
       "      <td>config axisLeft domain</td>\n",
       "    </tr>\n",
       "    <tr>\n",
       "      <th>188</th>\n",
       "      <td>config axisLeft gridOpacity</td>\n",
       "    </tr>\n",
       "    <tr>\n",
       "      <th>189</th>\n",
       "      <td>config axisBottom labelOverlap</td>\n",
       "    </tr>\n",
       "    <tr>\n",
       "      <th>190</th>\n",
       "      <td>config line point radius</td>\n",
       "    </tr>\n",
       "    <tr>\n",
       "      <th>191</th>\n",
       "      <td>config text dir</td>\n",
       "    </tr>\n",
       "    <tr>\n",
       "      <th>192</th>\n",
       "      <td>config axisLeft labelFlush</td>\n",
       "    </tr>\n",
       "    <tr>\n",
       "      <th>193</th>\n",
       "      <td>config point size</td>\n",
       "    </tr>\n",
       "    <tr>\n",
       "      <th>194</th>\n",
       "      <td>config bar cornerRadius</td>\n",
       "    </tr>\n",
       "    <tr>\n",
       "      <th>195</th>\n",
       "      <td>encoding size value</td>\n",
       "    </tr>\n",
       "    <tr>\n",
       "      <th>196</th>\n",
       "      <td>encoding size type</td>\n",
       "    </tr>\n",
       "    <tr>\n",
       "      <th>197</th>\n",
       "      <td>config errorband band orient</td>\n",
       "    </tr>\n",
       "    <tr>\n",
       "      <th>198</th>\n",
       "      <td>config bar strokeMiterLimit</td>\n",
       "    </tr>\n",
       "    <tr>\n",
       "      <th>199</th>\n",
       "      <td>config line point style</td>\n",
       "    </tr>\n",
       "    <tr>\n",
       "      <th>200</th>\n",
       "      <td>mark filled</td>\n",
       "    </tr>\n",
       "    <tr>\n",
       "      <th>201</th>\n",
       "      <td>config mark strokeCap</td>\n",
       "    </tr>\n",
       "    <tr>\n",
       "      <th>202</th>\n",
       "      <td>config text cursor</td>\n",
       "    </tr>\n",
       "    <tr>\n",
       "      <th>203</th>\n",
       "      <td>encoding color timeUnit</td>\n",
       "    </tr>\n",
       "    <tr>\n",
       "      <th>204</th>\n",
       "      <td>config axisY tickColor</td>\n",
       "    </tr>\n",
       "    <tr>\n",
       "      <th>205</th>\n",
       "      <td>config trail point strokeWidth</td>\n",
       "    </tr>\n",
       "    <tr>\n",
       "      <th>206</th>\n",
       "      <td>config line strokeMiterLimit</td>\n",
       "    </tr>\n",
       "    <tr>\n",
       "      <th>207</th>\n",
       "      <td>config area tooltip</td>\n",
       "    </tr>\n",
       "    <tr>\n",
       "      <th>208</th>\n",
       "      <td>config axisX domainOpacity</td>\n",
       "    </tr>\n",
       "    <tr>\n",
       "      <th>209</th>\n",
       "      <td>config area tooltip content</td>\n",
       "    </tr>\n",
       "    <tr>\n",
       "      <th>210</th>\n",
       "      <td>config axis labelFlushOffset</td>\n",
       "    </tr>\n",
       "    <tr>\n",
       "      <th>211</th>\n",
       "      <td>encoding size legend orient</td>\n",
       "    </tr>\n",
       "    <tr>\n",
       "      <th>212</th>\n",
       "      <td>config mark angle</td>\n",
       "    </tr>\n",
       "    <tr>\n",
       "      <th>213</th>\n",
       "      <td>config boxplot box filled</td>\n",
       "    </tr>\n",
       "    <tr>\n",
       "      <th>214</th>\n",
       "      <td>config area line y2Offset</td>\n",
       "    </tr>\n",
       "    <tr>\n",
       "      <th>215</th>\n",
       "      <td>encoding shape type</td>\n",
       "    </tr>\n",
       "    <tr>\n",
       "      <th>216</th>\n",
       "      <td>config line point interpolate</td>\n",
       "    </tr>\n",
       "    <tr>\n",
       "      <th>217</th>\n",
       "      <td>config area point stroke</td>\n",
       "    </tr>\n",
       "    <tr>\n",
       "      <th>218</th>\n",
       "      <td>config area point</td>\n",
       "    </tr>\n",
       "    <tr>\n",
       "      <th>219</th>\n",
       "      <td>mark strokeOpacity</td>\n",
       "    </tr>\n",
       "    <tr>\n",
       "      <th>220</th>\n",
       "      <td>config axisBottom gridWidth</td>\n",
       "    </tr>\n",
       "    <tr>\n",
       "      <th>221</th>\n",
       "      <td>config area point cursor</td>\n",
       "    </tr>\n",
       "    <tr>\n",
       "      <th>222</th>\n",
       "      <td>encoding x2 value</td>\n",
       "    </tr>\n",
       "    <tr>\n",
       "      <th>223</th>\n",
       "      <td>encoding size legend fillColor</td>\n",
       "    </tr>\n",
       "    <tr>\n",
       "      <th>224</th>\n",
       "      <td>encoding color legend offset</td>\n",
       "    </tr>\n",
       "    <tr>\n",
       "      <th>225</th>\n",
       "      <td>encoding x2 bin minstep</td>\n",
       "    </tr>\n",
       "    <tr>\n",
       "      <th>226</th>\n",
       "      <td>encoding color legend padding</td>\n",
       "    </tr>\n",
       "    <tr>\n",
       "      <th>227</th>\n",
       "      <td>encoding size title</td>\n",
       "    </tr>\n",
       "    <tr>\n",
       "      <th>228</th>\n",
       "      <td>config area line stroke</td>\n",
       "    </tr>\n",
       "    <tr>\n",
       "      <th>229</th>\n",
       "      <td>config area point strokeOpacity</td>\n",
       "    </tr>\n",
       "    <tr>\n",
       "      <th>230</th>\n",
       "      <td>mark point fontStyle</td>\n",
       "    </tr>\n",
       "    <tr>\n",
       "      <th>231</th>\n",
       "      <td>encoding color scale domain</td>\n",
       "    </tr>\n",
       "    <tr>\n",
       "      <th>232</th>\n",
       "      <td>encoding y axis titleLimit</td>\n",
       "    </tr>\n",
       "    <tr>\n",
       "      <th>233</th>\n",
       "      <td>encoding color legend gradientOpacity</td>\n",
       "    </tr>\n",
       "    <tr>\n",
       "      <th>234</th>\n",
       "      <td>config text dx</td>\n",
       "    </tr>\n",
       "    <tr>\n",
       "      <th>235</th>\n",
       "      <td>config area point style</td>\n",
       "    </tr>\n",
       "    <tr>\n",
       "      <th>236</th>\n",
       "      <td>config area filled</td>\n",
       "    </tr>\n",
       "    <tr>\n",
       "      <th>237</th>\n",
       "      <td>config axisTop titleFont</td>\n",
       "    </tr>\n",
       "    <tr>\n",
       "      <th>238</th>\n",
       "      <td>config area line dir</td>\n",
       "    </tr>\n",
       "    <tr>\n",
       "      <th>239</th>\n",
       "      <td>encoding x axis bandPosition</td>\n",
       "    </tr>\n",
       "    <tr>\n",
       "      <th>240</th>\n",
       "      <td>mark point color</td>\n",
       "    </tr>\n",
       "    <tr>\n",
       "      <th>241</th>\n",
       "      <td>config line color</td>\n",
       "    </tr>\n",
       "    <tr>\n",
       "      <th>242</th>\n",
       "      <td>config legend strokeWidth</td>\n",
       "    </tr>\n",
       "    <tr>\n",
       "      <th>243</th>\n",
       "      <td>encoding shape legend strokeColor</td>\n",
       "    </tr>\n",
       "    <tr>\n",
       "      <th>244</th>\n",
       "      <td>config line point fillOpacity</td>\n",
       "    </tr>\n",
       "    <tr>\n",
       "      <th>245</th>\n",
       "      <td>mark xOffset</td>\n",
       "    </tr>\n",
       "    <tr>\n",
       "      <th>246</th>\n",
       "      <td>mark strokeWidth</td>\n",
       "    </tr>\n",
       "    <tr>\n",
       "      <th>247</th>\n",
       "      <td>config area point fillOpacity</td>\n",
       "    </tr>\n",
       "    <tr>\n",
       "      <th>248</th>\n",
       "      <td>config axisBand labels</td>\n",
       "    </tr>\n",
       "    <tr>\n",
       "      <th>249</th>\n",
       "      <td>config line point strokeJoin</td>\n",
       "    </tr>\n",
       "    <tr>\n",
       "      <th>250</th>\n",
       "      <td>config line point limit</td>\n",
       "    </tr>\n",
       "    <tr>\n",
       "      <th>251</th>\n",
       "      <td>config area line fontSize</td>\n",
       "    </tr>\n",
       "  </tbody>\n",
       "</table>\n",
       "</div>"
      ],
      "text/plain": [
       "                                  utterances\n",
       "0                   config axisBand tickSize\n",
       "1                     encoding x axis format\n",
       "2         config axisBottom labelFlushOffset\n",
       "3                      encoding x scale zero\n",
       "4               encoding size legend columns\n",
       "5                       config legend orient\n",
       "6                 encoding y axis labelBound\n",
       "7                     encoding opacity value\n",
       "8                       config point opacity\n",
       "9                  encoding text bin minstep\n",
       "10                              config stack\n",
       "11                 encoding y axis tickExtra\n",
       "12              config axisBottom labelLimit\n",
       "13           encoding x axis labelFontWeight\n",
       "14                     mark strokeDashOffset\n",
       "15           encoding y axis labelFontWeight\n",
       "16                    config axisY maxExtent\n",
       "17                   config trail point text\n",
       "18             config legend titleFontWeight\n",
       "19                        encoding fill type\n",
       "20             config axisLeft titleBaseline\n",
       "21                           mark point size\n",
       "22                encoding y axis labelLimit\n",
       "23             config axisLeft labelBaseline\n",
       "24             config axisBottom gridOpacity\n",
       "25                     config axis gridColor\n",
       "26                       mark point baseline\n",
       "27                              mark opacity\n",
       "28                    config axis labelBound\n",
       "29            encoding size legend labelFont\n",
       "30                      config legend offset\n",
       "31                    mark point strokeWidth\n",
       "32                config axisLeft titleAlign\n",
       "33                      encoding y axis grid\n",
       "34                        config scale round\n",
       "35                  config legend titleAlign\n",
       "36                          config bar color\n",
       "37                    config axisX gridWidth\n",
       "38                         mark point stroke\n",
       "39                      encoding x axis grid\n",
       "40                 config area line ellipsis\n",
       "41                     encoding y axis ticks\n",
       "42               config legend labelBaseline\n",
       "43           encoding color legend direction\n",
       "44                   config axisX labelAlign\n",
       "45                   config legend titleFont\n",
       "46                    config line point font\n",
       "47                     config area line size\n",
       "48          encoding color legend symbolSize\n",
       "49       encoding color legend symbolOpacity\n",
       "50                         config countTitle\n",
       "51            config errorband band fontSize\n",
       "52              encoding size legend padding\n",
       "53           encoding size legend clipHeight\n",
       "54                 encoding size bin maxbins\n",
       "55            encoding size legend direction\n",
       "56          encoding color legend rowPadding\n",
       "57           encoding size legend rowPadding\n",
       "58                  config axis labelPadding\n",
       "59                   config axisY labelLimit\n",
       "60                  config trail point theta\n",
       "61            config boxplot box interpolate\n",
       "62                  config trail strokeWidth\n",
       "63           encoding size legend titleColor\n",
       "64                config axisLeft labelAngle\n",
       "65                    encoding x axis labels\n",
       "66              config axisBand titleOpacity\n",
       "67                 config area point xOffset\n",
       "68                            padding bottom\n",
       "69                   config line strokeWidth\n",
       "70               encoding x axis tickOpacity\n",
       "71          encoding color legend labelLimit\n",
       "72             encoding y axis domainOpacity\n",
       "73                   config area point theta\n",
       "74    encoding size legend symbolStrokeWidth\n",
       "75                 encoding x axis tickExtra\n",
       "76                          config mark size\n",
       "77           config axisBand titleFontWeight\n",
       "78                 config axisLeft tickExtra\n",
       "79                     config padding bottom\n",
       "80              encoding y axis titlePadding\n",
       "81                     config axisLeft ticks\n",
       "82         encoding column header titleColor\n",
       "83                    config axisBand domain\n",
       "84                      encoding color value\n",
       "85                  config line point filled\n",
       "86          encoding color legend symbolType\n",
       "87                  config legend labelAlign\n",
       "88                  config point fillOpacity\n",
       "89          encoding shape legend labelColor\n",
       "90                     config axisTop titleX\n",
       "91                     config mark fontStyle\n",
       "92           config line point strokeOpacity\n",
       "93                     config axis tickRound\n",
       "94                          mark point limit\n",
       "95                         config axis ticks\n",
       "96        config line point strokeDashOffset\n",
       "97                   config axisX tickOffset\n",
       "98                        config point color\n",
       "99                   config axisY labelAlign\n",
       "100                encoding size legend type\n",
       "101                  config legend fillColor\n",
       "102                 config area line tension\n",
       "103                      config axisX domain\n",
       "104              mark point strokeDashOffset\n",
       "105                         mark point shape\n",
       "106               encoding x axis labelAlign\n",
       "107          config axisBottom labelBaseline\n",
       "108       config scale useUnaggregatedDomain\n",
       "109                 config legend symbolSize\n",
       "110                    config axisBand ticks\n",
       "111             config axisY labelFontWeight\n",
       "112                   config area line shape\n",
       "113                encoding color scale type\n",
       "114                       config bar opacity\n",
       "115               config axisBand labelColor\n",
       "116                  config axisBottom ticks\n",
       "117       config area point strokeMiterLimit\n",
       "118                       config axisY ticks\n",
       "119                  config tick fillOpacity\n",
       "120      encoding shape legend labelBaseline\n",
       "121                   config axisX tickExtra\n",
       "122            encoding x scale paddingOuter\n",
       "123                  config line point align\n",
       "124                config line point yOffset\n",
       "125               config axisY labelBaseline\n",
       "126              config axisTop titlePadding\n",
       "127                        config bar stroke\n",
       "128               config axisY titleBaseline\n",
       "129             encoding x axis titleOpacity\n",
       "130                    config axis tickExtra\n",
       "131                  config mark interpolate\n",
       "132              config axisBand domainWidth\n",
       "133       encoding color legend titlePadding\n",
       "134               config point strokeOpacity\n",
       "135                 config area point filled\n",
       "136                  config line point theta\n",
       "137                       config mark orient\n",
       "138                config line point tooltip\n",
       "139             config axisLeft labelPadding\n",
       "140                   encoding size bin base\n",
       "141              config axisLeft domainColor\n",
       "142                       config tick cursor\n",
       "143                        config point fill\n",
       "144                   config area line color\n",
       "145  encoding color legend symbolStrokeColor\n",
       "146                config legend labelOffset\n",
       "147                         config text size\n",
       "148              config scale textXRangeStep\n",
       "149          config axisBand shortTimeLabels\n",
       "150                config circle fillOpacity\n",
       "151                         config line size\n",
       "152               config axisLeft labelBound\n",
       "153             config axisX titleFontWeight\n",
       "154                  config errorband extent\n",
       "155                       config scale clamp\n",
       "156                           config text dy\n",
       "157                config axisBand titleFont\n",
       "158                           config rule dy\n",
       "159             config area strokeDashOffset\n",
       "160                config line point tension\n",
       "161          encoding shape legend fillColor\n",
       "162              encoding size legend format\n",
       "163                  config area line orient\n",
       "164                   config line point size\n",
       "165                     config circle stroke\n",
       "166                         encoding y2 type\n",
       "167                         encoding y stack\n",
       "168       encoding color legend titleOpacity\n",
       "169                     config scale maxSize\n",
       "170             config axisBand labelPadding\n",
       "171            config line point strokeWidth\n",
       "172              encoding y axis tickOpacity\n",
       "173                  config rect fillOpacity\n",
       "174                  config area fillOpacity\n",
       "175             encoding y axis bandPosition\n",
       "176                   config area point clip\n",
       "177                       config rect stroke\n",
       "178              config range heatmap scheme\n",
       "179                 config trail point style\n",
       "180                   config line point clip\n",
       "181                      encoding text value\n",
       "182                  config axisX labelAngle\n",
       "183                  config axisY titleLimit\n",
       "184       encoding shape legend titlePadding\n",
       "185                   config axisY tickExtra\n",
       "186               config axisLeft tickOffset\n",
       "187                   config axisLeft domain\n",
       "188              config axisLeft gridOpacity\n",
       "189           config axisBottom labelOverlap\n",
       "190                 config line point radius\n",
       "191                          config text dir\n",
       "192               config axisLeft labelFlush\n",
       "193                        config point size\n",
       "194                  config bar cornerRadius\n",
       "195                      encoding size value\n",
       "196                       encoding size type\n",
       "197             config errorband band orient\n",
       "198              config bar strokeMiterLimit\n",
       "199                  config line point style\n",
       "200                              mark filled\n",
       "201                    config mark strokeCap\n",
       "202                       config text cursor\n",
       "203                  encoding color timeUnit\n",
       "204                   config axisY tickColor\n",
       "205           config trail point strokeWidth\n",
       "206             config line strokeMiterLimit\n",
       "207                      config area tooltip\n",
       "208               config axisX domainOpacity\n",
       "209              config area tooltip content\n",
       "210             config axis labelFlushOffset\n",
       "211              encoding size legend orient\n",
       "212                        config mark angle\n",
       "213                config boxplot box filled\n",
       "214                config area line y2Offset\n",
       "215                      encoding shape type\n",
       "216            config line point interpolate\n",
       "217                 config area point stroke\n",
       "218                        config area point\n",
       "219                       mark strokeOpacity\n",
       "220              config axisBottom gridWidth\n",
       "221                 config area point cursor\n",
       "222                        encoding x2 value\n",
       "223           encoding size legend fillColor\n",
       "224             encoding color legend offset\n",
       "225                  encoding x2 bin minstep\n",
       "226            encoding color legend padding\n",
       "227                      encoding size title\n",
       "228                  config area line stroke\n",
       "229          config area point strokeOpacity\n",
       "230                     mark point fontStyle\n",
       "231              encoding color scale domain\n",
       "232               encoding y axis titleLimit\n",
       "233    encoding color legend gradientOpacity\n",
       "234                           config text dx\n",
       "235                  config area point style\n",
       "236                       config area filled\n",
       "237                 config axisTop titleFont\n",
       "238                     config area line dir\n",
       "239             encoding x axis bandPosition\n",
       "240                         mark point color\n",
       "241                        config line color\n",
       "242                config legend strokeWidth\n",
       "243        encoding shape legend strokeColor\n",
       "244            config line point fillOpacity\n",
       "245                             mark xOffset\n",
       "246                         mark strokeWidth\n",
       "247            config area point fillOpacity\n",
       "248                   config axisBand labels\n",
       "249             config line point strokeJoin\n",
       "250                  config line point limit\n",
       "251                config area line fontSize"
      ]
     },
     "metadata": {},
     "output_type": "display_data"
    }
   ],
   "source": [
    "import pandas as pd\n",
    "import collections\n",
    "pd.set_option(\"display.max_rows\", None)\n",
    "dataf = open(cd('speaker.listener.jsonl'))\n",
    "data = [json.loads(l) for l in dataf.readlines()]\n",
    "utts = [l['q'][1]['utterance'] for l in data]\n",
    "formulas = [l['q'][1]['targetFormula'] for l in data]\n",
    "paths = list(map(lambda x: x[:x.index(':')], formulas))\n",
    "pathsset = set(paths) \n",
    "pathcounter = collections.Counter(paths)\n",
    "uniques = [k for k in pathcounter.keys() if pathcounter[k] <= 1]\n",
    "freqfreq = pathcounter.values()\n",
    "spec = {\n",
    "      \"data\": {\"values\": [{\"diff\": v} for v in freqfreq]},\n",
    "      \"mark\": \"bar\",\n",
    "      \"encoding\": {\n",
    "        \"x\": {\n",
    "          \"field\": \"diff\",\n",
    "          \"type\": \"quantitative\",\n",
    "          \"bin\": {\"step\": 1} \n",
    "        },\n",
    "        \"y\": {\n",
    "          \"aggregate\": \"count\",\n",
    "          \"type\": \"quantitative\"\n",
    "        }\n",
    "      }\n",
    "    }\n",
    "display(alt.VegaLite(spec))\n",
    "\n",
    "print(len(paths), len(pathsset), len(uniques))\n",
    "table = pd.DataFrame({'utterances': uniques})\n",
    "display(table)\n"
   ]
  },
  {
   "cell_type": "raw",
   "metadata": {},
   "source": []
  }
 ],
 "metadata": {
  "kernelspec": {
   "display_name": "Python 3",
   "language": "python",
   "name": "python3"
  },
  "language_info": {
   "codemirror_mode": {
    "name": "ipython",
    "version": 3
   },
   "file_extension": ".py",
   "mimetype": "text/x-python",
   "name": "python",
   "nbconvert_exporter": "python",
   "pygments_lexer": "ipython3",
   "version": "3.6.5"
  }
 },
 "nbformat": 4,
 "nbformat_minor": 2
}
