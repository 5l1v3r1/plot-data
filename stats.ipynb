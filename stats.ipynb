{
 "cells": [
  {
   "cell_type": "code",
   "execution_count": 68,
   "metadata": {},
   "outputs": [],
   "source": [
    "import json\n",
    "import datetime\n",
    "import altair as alt\n",
    "import pandas as pd\n",
    "import numpy as np\n",
    "import os\n",
    "hits = [\n",
    "'2018-08-10_00-00-00', #0\n",
    "'2018-08-29_11_32_44',\n",
    "'2018-08-29_22-54-16', #2\n",
    "'2018-09-05_21-38-43',\n",
    "'2018-09-07_11-34-48'\n",
    "]\n",
    "base = 'hits/' + hits[2]\n",
    "def cd(file):\n",
    "    return os.path.join(base, file)"
   ]
  },
  {
   "cell_type": "code",
   "execution_count": 69,
   "metadata": {},
   "outputs": [],
   "source": [
    "def duration_plot(assignments):\n",
    "    times = []\n",
    "    submit_times = []\n",
    "    for l in assignments:\n",
    "        submit = datetime.datetime.strptime(l['SubmitTime'][:-6], \"%Y-%m-%d %H:%M:%S\")\n",
    "        accept = datetime.datetime.strptime(l['AcceptTime'][:-6], \"%Y-%m-%d %H:%M:%S\")\n",
    "        submit_times.append(submit)\n",
    "        diff = (submit - accept).total_seconds()/60.0\n",
    "        times.append({\"diff\": diff})\n",
    "    spec = {\n",
    "      \"data\": {\"values\": times},\n",
    "      \"mark\": \"bar\",\n",
    "      \"encoding\": {\n",
    "        \"x\": {\n",
    "          \"field\": \"diff\",\n",
    "          \"type\": \"quantitative\",\n",
    "          \"bin\": {\"step\": 1} \n",
    "        },\n",
    "        \"y\": {\n",
    "          \"aggregate\": \"count\",\n",
    "          \"type\": \"quantitative\"\n",
    "        }\n",
    "      }\n",
    "    }\n",
    "    print('min - max: ', min(submit_times), max(submit_times))\n",
    "    print('mean duration: ', np.mean(list(map(lambda d: d['diff'], times))))\n",
    "    return alt.VegaLite(spec)"
   ]
  },
  {
   "cell_type": "code",
   "execution_count": 70,
   "metadata": {},
   "outputs": [
    {
     "name": "stdout",
     "output_type": "stream",
     "text": [
      "min - max:  2018-08-29 22:57:48 2018-08-30 21:20:15\n",
      "mean duration:  8.14783333333\n"
     ]
    },
    {
     "data": {
      "application/vnd.vegalite.v2+json": {
       "data": {
        "values": [
         {
          "diff": 6.883333333333334
         },
         {
          "diff": 1.1833333333333333
         },
         {
          "diff": 2.716666666666667
         },
         {
          "diff": 9.9
         },
         {
          "diff": 4.15
         },
         {
          "diff": 1.5666666666666667
         },
         {
          "diff": 8.366666666666667
         },
         {
          "diff": 1.65
         },
         {
          "diff": 12.7
         },
         {
          "diff": 2.8833333333333333
         },
         {
          "diff": 24.7
         },
         {
          "diff": 0.43333333333333335
         },
         {
          "diff": 13.983333333333333
         },
         {
          "diff": 19.783333333333335
         },
         {
          "diff": 1.1833333333333333
         },
         {
          "diff": 3.0833333333333335
         },
         {
          "diff": 8
         },
         {
          "diff": 4.883333333333334
         },
         {
          "diff": 1.9666666666666666
         },
         {
          "diff": 3.4
         },
         {
          "diff": 17.783333333333335
         },
         {
          "diff": 5.666666666666667
         },
         {
          "diff": 3.7666666666666666
         },
         {
          "diff": 3.6333333333333333
         },
         {
          "diff": 3.566666666666667
         },
         {
          "diff": 0.6833333333333333
         },
         {
          "diff": 19.366666666666667
         },
         {
          "diff": 1.0833333333333333
         },
         {
          "diff": 3.8333333333333335
         },
         {
          "diff": 2.8
         },
         {
          "diff": 15.383333333333333
         },
         {
          "diff": 1.0333333333333334
         },
         {
          "diff": 6.85
         },
         {
          "diff": 4.25
         },
         {
          "diff": 3.1
         },
         {
          "diff": 5.666666666666667
         },
         {
          "diff": 1.1833333333333333
         },
         {
          "diff": 3.0166666666666666
         },
         {
          "diff": 6.783333333333333
         },
         {
          "diff": 1.7333333333333334
         },
         {
          "diff": 3.25
         },
         {
          "diff": 11.933333333333334
         },
         {
          "diff": 2.3
         },
         {
          "diff": 0.8
         },
         {
          "diff": 20.5
         },
         {
          "diff": 1.05
         },
         {
          "diff": 5.566666666666666
         },
         {
          "diff": 6.833333333333333
         },
         {
          "diff": 20.683333333333334
         },
         {
          "diff": 3.7333333333333334
         },
         {
          "diff": 3.8833333333333333
         },
         {
          "diff": 4.95
         },
         {
          "diff": 23.6
         },
         {
          "diff": 15.666666666666666
         },
         {
          "diff": 4.55
         },
         {
          "diff": 18.766666666666666
         },
         {
          "diff": 1.5666666666666667
         },
         {
          "diff": 1.7833333333333334
         },
         {
          "diff": 13.05
         },
         {
          "diff": 19.016666666666666
         },
         {
          "diff": 8.416666666666666
         },
         {
          "diff": 1.15
         },
         {
          "diff": 3.4833333333333334
         },
         {
          "diff": 5.683333333333334
         },
         {
          "diff": 2.9166666666666665
         },
         {
          "diff": 1.4333333333333333
         },
         {
          "diff": 3.566666666666667
         },
         {
          "diff": 8.416666666666666
         },
         {
          "diff": 3.6
         },
         {
          "diff": 1.4833333333333334
         },
         {
          "diff": 15.583333333333334
         },
         {
          "diff": 1.5
         },
         {
          "diff": 7.7
         },
         {
          "diff": 15.433333333333334
         },
         {
          "diff": 1.7166666666666666
         },
         {
          "diff": 19.15
         },
         {
          "diff": 17.933333333333334
         },
         {
          "diff": 0.6166666666666667
         },
         {
          "diff": 5.3
         },
         {
          "diff": 8.1
         },
         {
          "diff": 6.516666666666667
         },
         {
          "diff": 17.383333333333333
         },
         {
          "diff": 0.5
         },
         {
          "diff": 7.116666666666666
         },
         {
          "diff": 3.783333333333333
         },
         {
          "diff": 28.933333333333334
         },
         {
          "diff": 0.5333333333333333
         },
         {
          "diff": 1.45
         },
         {
          "diff": 4.25
         },
         {
          "diff": 6.3
         },
         {
          "diff": 20.2
         },
         {
          "diff": 1.2666666666666666
         },
         {
          "diff": 27.266666666666666
         },
         {
          "diff": 11.216666666666667
         },
         {
          "diff": 1.75
         },
         {
          "diff": 0.7166666666666667
         },
         {
          "diff": 29.45
         },
         {
          "diff": 5.366666666666666
         },
         {
          "diff": 3.933333333333333
         },
         {
          "diff": 19.016666666666666
         },
         {
          "diff": 0.5
         },
         {
          "diff": 6.4
         },
         {
          "diff": 1.8
         },
         {
          "diff": 28.166666666666668
         },
         {
          "diff": 26.916666666666668
         },
         {
          "diff": 1.65
         },
         {
          "diff": 19.983333333333334
         },
         {
          "diff": 2.15
         },
         {
          "diff": 6.6
         },
         {
          "diff": 21.283333333333335
         },
         {
          "diff": 13.816666666666666
         },
         {
          "diff": 0.55
         },
         {
          "diff": 0.6
         },
         {
          "diff": 2.3
         },
         {
          "diff": 4.016666666666667
         },
         {
          "diff": 11.316666666666666
         },
         {
          "diff": 5.683333333333334
         },
         {
          "diff": 0.55
         },
         {
          "diff": 25.866666666666667
         },
         {
          "diff": 9.983333333333333
         },
         {
          "diff": 1.8666666666666667
         },
         {
          "diff": 28.3
         },
         {
          "diff": 6.716666666666667
         },
         {
          "diff": 4.516666666666667
         },
         {
          "diff": 1.6333333333333333
         },
         {
          "diff": 1.0666666666666667
         },
         {
          "diff": 3.45
         },
         {
          "diff": 22.766666666666666
         },
         {
          "diff": 3.3666666666666667
         },
         {
          "diff": 1.5833333333333333
         },
         {
          "diff": 18.233333333333334
         },
         {
          "diff": 1.55
         },
         {
          "diff": 13.266666666666667
         },
         {
          "diff": 26.283333333333335
         },
         {
          "diff": 7.383333333333334
         },
         {
          "diff": 21.533333333333335
         },
         {
          "diff": 0.43333333333333335
         },
         {
          "diff": 7.116666666666666
         },
         {
          "diff": 12.066666666666666
         },
         {
          "diff": 3.316666666666667
         },
         {
          "diff": 1.3166666666666667
         },
         {
          "diff": 3.283333333333333
         },
         {
          "diff": 7.85
         },
         {
          "diff": 12.516666666666667
         },
         {
          "diff": 1.5333333333333334
         },
         {
          "diff": 17.133333333333333
         },
         {
          "diff": 1
         },
         {
          "diff": 4
         },
         {
          "diff": 29.6
         },
         {
          "diff": 29.65
         },
         {
          "diff": 5.483333333333333
         },
         {
          "diff": 0.65
         },
         {
          "diff": 1.5833333333333333
         },
         {
          "diff": 6.133333333333334
         },
         {
          "diff": 1.7833333333333334
         },
         {
          "diff": 19.316666666666666
         },
         {
          "diff": 10.933333333333334
         },
         {
          "diff": 1
         },
         {
          "diff": 8.933333333333334
         },
         {
          "diff": 29
         },
         {
          "diff": 1.15
         },
         {
          "diff": 9.766666666666667
         },
         {
          "diff": 15.033333333333333
         },
         {
          "diff": 14.016666666666667
         },
         {
          "diff": 29.2
         },
         {
          "diff": 6.266666666666667
         },
         {
          "diff": 2.1333333333333333
         },
         {
          "diff": 5.483333333333333
         },
         {
          "diff": 16.133333333333333
         },
         {
          "diff": 2.5166666666666666
         },
         {
          "diff": 1.55
         },
         {
          "diff": 1.8666666666666667
         },
         {
          "diff": 4.733333333333333
         },
         {
          "diff": 2.25
         },
         {
          "diff": 2.0166666666666666
         },
         {
          "diff": 8.216666666666667
         },
         {
          "diff": 8.733333333333333
         },
         {
          "diff": 0.5
         },
         {
          "diff": 5.9
         },
         {
          "diff": 2.183333333333333
         },
         {
          "diff": 7.2
         },
         {
          "diff": 3.0833333333333335
         },
         {
          "diff": 0.43333333333333335
         },
         {
          "diff": 8.566666666666666
         },
         {
          "diff": 2.4
         },
         {
          "diff": 6.883333333333334
         },
         {
          "diff": 0.4666666666666667
         },
         {
          "diff": 4.05
         },
         {
          "diff": 2.55
         },
         {
          "diff": 7.116666666666666
         },
         {
          "diff": 17.516666666666666
         },
         {
          "diff": 0.45
         },
         {
          "diff": 28.666666666666668
         },
         {
          "diff": 1.8333333333333333
         },
         {
          "diff": 3.6666666666666665
         },
         {
          "diff": 0.5
         },
         {
          "diff": 6.35
         },
         {
          "diff": 29.733333333333334
         },
         {
          "diff": 1.8
         },
         {
          "diff": 27.616666666666667
         },
         {
          "diff": 22.583333333333332
         },
         {
          "diff": 0.9833333333333333
         },
         {
          "diff": 4.616666666666666
         },
         {
          "diff": 25.383333333333333
         },
         {
          "diff": 13.366666666666667
         },
         {
          "diff": 4.566666666666666
         },
         {
          "diff": 5.7
         },
         {
          "diff": 0.6666666666666666
         },
         {
          "diff": 4.633333333333334
         },
         {
          "diff": 9.783333333333333
         },
         {
          "diff": 4.766666666666667
         },
         {
          "diff": 2.5833333333333335
         },
         {
          "diff": 22.6
         },
         {
          "diff": 6.45
         },
         {
          "diff": 2.3833333333333333
         },
         {
          "diff": 12.7
         },
         {
          "diff": 1.0166666666666666
         },
         {
          "diff": 10.6
         },
         {
          "diff": 1.0833333333333333
         },
         {
          "diff": 29.533333333333335
         },
         {
          "diff": 19.7
         },
         {
          "diff": 1.8666666666666667
         },
         {
          "diff": 11.966666666666667
         },
         {
          "diff": 8.1
         },
         {
          "diff": 5.75
         },
         {
          "diff": 15.7
         },
         {
          "diff": 0.95
         },
         {
          "diff": 1.0833333333333333
         },
         {
          "diff": 9.75
         },
         {
          "diff": 12.616666666666667
         },
         {
          "diff": 0.9166666666666666
         },
         {
          "diff": 21.416666666666668
         },
         {
          "diff": 2.4
         },
         {
          "diff": 3.183333333333333
         },
         {
          "diff": 4.516666666666667
         },
         {
          "diff": 27.783333333333335
         },
         {
          "diff": 16.516666666666666
         },
         {
          "diff": 0.4666666666666667
         },
         {
          "diff": 9.366666666666667
         },
         {
          "diff": 9.933333333333334
         },
         {
          "diff": 1.0333333333333334
         },
         {
          "diff": 3.35
         },
         {
          "diff": 22.3
         },
         {
          "diff": 1.8666666666666667
         },
         {
          "diff": 4.45
         },
         {
          "diff": 11.9
         },
         {
          "diff": 1.15
         },
         {
          "diff": 7.75
         },
         {
          "diff": 14.366666666666667
         },
         {
          "diff": 1.8666666666666667
         },
         {
          "diff": 1.1666666666666667
         },
         {
          "diff": 13
         },
         {
          "diff": 28.483333333333334
         },
         {
          "diff": 8.166666666666666
         },
         {
          "diff": 1.4666666666666666
         },
         {
          "diff": 1.0166666666666666
         },
         {
          "diff": 12.333333333333334
         },
         {
          "diff": 22.383333333333333
         },
         {
          "diff": 5.616666666666666
         },
         {
          "diff": 1.5666666666666667
         },
         {
          "diff": 2.566666666666667
         },
         {
          "diff": 2.933333333333333
         },
         {
          "diff": 10.366666666666667
         },
         {
          "diff": 22.816666666666666
         },
         {
          "diff": 2.7333333333333334
         },
         {
          "diff": 13.3
         },
         {
          "diff": 1.55
         },
         {
          "diff": 9.85
         },
         {
          "diff": 15.633333333333333
         },
         {
          "diff": 5
         },
         {
          "diff": 6.516666666666667
         },
         {
          "diff": 22.066666666666666
         },
         {
          "diff": 0.9833333333333333
         },
         {
          "diff": 25.65
         },
         {
          "diff": 2.1333333333333333
         },
         {
          "diff": 1.6833333333333333
         },
         {
          "diff": 1.7333333333333334
         },
         {
          "diff": 25.983333333333334
         },
         {
          "diff": 26.716666666666665
         },
         {
          "diff": 2.4166666666666665
         },
         {
          "diff": 1.2166666666666666
         },
         {
          "diff": 1.75
         },
         {
          "diff": 4.433333333333334
         },
         {
          "diff": 1.7
         },
         {
          "diff": 23.333333333333332
         },
         {
          "diff": 2.3833333333333333
         },
         {
          "diff": 1.3833333333333333
         },
         {
          "diff": 3.95
         },
         {
          "diff": 1.0666666666666667
         },
         {
          "diff": 3.65
         },
         {
          "diff": 24.7
         },
         {
          "diff": 0.95
         },
         {
          "diff": 13.716666666666667
         },
         {
          "diff": 18.166666666666668
         },
         {
          "diff": 13.816666666666666
         },
         {
          "diff": 11.266666666666667
         },
         {
          "diff": 11.266666666666667
         },
         {
          "diff": 1.0333333333333334
         },
         {
          "diff": 4.416666666666667
         },
         {
          "diff": 1.2166666666666666
         },
         {
          "diff": 12.416666666666666
         },
         {
          "diff": 6.066666666666666
         },
         {
          "diff": 0.6
         },
         {
          "diff": 23.033333333333335
         },
         {
          "diff": 2
         },
         {
          "diff": 0.6166666666666667
         },
         {
          "diff": 5.733333333333333
         },
         {
          "diff": 2.9833333333333334
         },
         {
          "diff": 5.183333333333334
         },
         {
          "diff": 4.383333333333334
         },
         {
          "diff": 5.85
         },
         {
          "diff": 1.7166666666666666
         },
         {
          "diff": 13.566666666666666
         },
         {
          "diff": 27.283333333333335
         },
         {
          "diff": 11.9
         },
         {
          "diff": 1
         },
         {
          "diff": 12.95
         },
         {
          "diff": 4.283333333333333
         },
         {
          "diff": 3.6666666666666665
         },
         {
          "diff": 7.783333333333333
         },
         {
          "diff": 12.016666666666667
         },
         {
          "diff": 0.6333333333333333
         },
         {
          "diff": 6.533333333333333
         },
         {
          "diff": 1.75
         },
         {
          "diff": 7.466666666666667
         },
         {
          "diff": 1.45
         },
         {
          "diff": 4.983333333333333
         },
         {
          "diff": 3.283333333333333
         },
         {
          "diff": 6.4
         },
         {
          "diff": 10.666666666666666
         },
         {
          "diff": 4.05
         },
         {
          "diff": 1.25
         },
         {
          "diff": 15.416666666666666
         },
         {
          "diff": 2.75
         },
         {
          "diff": 16
         },
         {
          "diff": 1.1166666666666667
         },
         {
          "diff": 20.783333333333335
         },
         {
          "diff": 3.7666666666666666
         },
         {
          "diff": 10.316666666666666
         },
         {
          "diff": 3.3
         },
         {
          "diff": 13.55
         },
         {
          "diff": 0.7666666666666667
         },
         {
          "diff": 0.5
         },
         {
          "diff": 7.05
         },
         {
          "diff": 6.383333333333334
         },
         {
          "diff": 5.116666666666666
         },
         {
          "diff": 2.216666666666667
         },
         {
          "diff": 4.483333333333333
         },
         {
          "diff": 4.55
         },
         {
          "diff": 28.316666666666666
         },
         {
          "diff": 0.5
         },
         {
          "diff": 8.316666666666666
         },
         {
          "diff": 1.2
         },
         {
          "diff": 4.883333333333334
         },
         {
          "diff": 9.116666666666667
         },
         {
          "diff": 2.8
         },
         {
          "diff": 0.4666666666666667
         },
         {
          "diff": 2.0833333333333335
         },
         {
          "diff": 23.583333333333332
         },
         {
          "diff": 25.283333333333335
         },
         {
          "diff": 5.966666666666667
         },
         {
          "diff": 27.566666666666666
         },
         {
          "diff": 0.45
         },
         {
          "diff": 19.25
         },
         {
          "diff": 28
         },
         {
          "diff": 12.183333333333334
         },
         {
          "diff": 17.466666666666665
         },
         {
          "diff": 1.0333333333333334
         },
         {
          "diff": 4.166666666666667
         },
         {
          "diff": 1.4166666666666667
         },
         {
          "diff": 13.083333333333334
         },
         {
          "diff": 2.4
         },
         {
          "diff": 8.033333333333333
         },
         {
          "diff": 5.233333333333333
         },
         {
          "diff": 1.7833333333333334
         },
         {
          "diff": 0.7
         },
         {
          "diff": 7.933333333333334
         },
         {
          "diff": 9.75
         },
         {
          "diff": 2.0166666666666666
         },
         {
          "diff": 5.35
         },
         {
          "diff": 4.483333333333333
         },
         {
          "diff": 12.2
         },
         {
          "diff": 10.783333333333333
         },
         {
          "diff": 24
         },
         {
          "diff": 1.65
         },
         {
          "diff": 25.8
         },
         {
          "diff": 1.1166666666666667
         },
         {
          "diff": 7.866666666666666
         },
         {
          "diff": 2.2666666666666666
         },
         {
          "diff": 8.416666666666666
         },
         {
          "diff": 5.033333333333333
         },
         {
          "diff": 6.266666666666667
         },
         {
          "diff": 10.916666666666666
         },
         {
          "diff": 1.0833333333333333
         },
         {
          "diff": 3.8
         },
         {
          "diff": 14.083333333333334
         },
         {
          "diff": 10.883333333333333
         },
         {
          "diff": 1.8833333333333333
         },
         {
          "diff": 5.616666666666666
         },
         {
          "diff": 4.083333333333333
         },
         {
          "diff": 0.4666666666666667
         },
         {
          "diff": 7.633333333333334
         },
         {
          "diff": 22.566666666666666
         },
         {
          "diff": 28.3
         },
         {
          "diff": 12.3
         },
         {
          "diff": 14.95
         },
         {
          "diff": 1.2166666666666666
         },
         {
          "diff": 9.7
         },
         {
          "diff": 27.433333333333334
         },
         {
          "diff": 20.583333333333332
         },
         {
          "diff": 3.283333333333333
         },
         {
          "diff": 1.6666666666666667
         },
         {
          "diff": 8.466666666666667
         },
         {
          "diff": 9.65
         },
         {
          "diff": 1.5166666666666666
         },
         {
          "diff": 11.883333333333333
         },
         {
          "diff": 8.516666666666667
         },
         {
          "diff": 0.6333333333333333
         },
         {
          "diff": 5.233333333333333
         },
         {
          "diff": 1.55
         },
         {
          "diff": 1.25
         },
         {
          "diff": 10.833333333333334
         },
         {
          "diff": 29.016666666666666
         },
         {
          "diff": 2.2666666666666666
         },
         {
          "diff": 3.2
         },
         {
          "diff": 2.283333333333333
         },
         {
          "diff": 7.783333333333333
         },
         {
          "diff": 5
         },
         {
          "diff": 6.216666666666667
         },
         {
          "diff": 5.366666666666666
         },
         {
          "diff": 8.4
         },
         {
          "diff": 6.466666666666667
         },
         {
          "diff": 0.4666666666666667
         },
         {
          "diff": 4.5
         },
         {
          "diff": 13.35
         },
         {
          "diff": 13.033333333333333
         },
         {
          "diff": 0.5833333333333334
         },
         {
          "diff": 6.783333333333333
         },
         {
          "diff": 14.133333333333333
         },
         {
          "diff": 8.016666666666667
         },
         {
          "diff": 1.0333333333333334
         },
         {
          "diff": 5.4
         },
         {
          "diff": 4.166666666666667
         },
         {
          "diff": 1.7833333333333334
         },
         {
          "diff": 2.8333333333333335
         },
         {
          "diff": 9.083333333333334
         },
         {
          "diff": 8.75
         },
         {
          "diff": 0.5166666666666667
         },
         {
          "diff": 6.033333333333333
         },
         {
          "diff": 28.05
         },
         {
          "diff": 3.1666666666666665
         },
         {
          "diff": 6.25
         },
         {
          "diff": 7.15
         },
         {
          "diff": 8.35
         },
         {
          "diff": 20.4
         },
         {
          "diff": 6.2
         },
         {
          "diff": 0.5166666666666667
         },
         {
          "diff": 5.566666666666666
         },
         {
          "diff": 26.266666666666666
         },
         {
          "diff": 8.183333333333334
         },
         {
          "diff": 8.066666666666666
         },
         {
          "diff": 15.883333333333333
         },
         {
          "diff": 1.2666666666666666
         },
         {
          "diff": 2.7333333333333334
         },
         {
          "diff": 11.75
         },
         {
          "diff": 10.85
         },
         {
          "diff": 1
         },
         {
          "diff": 20
         },
         {
          "diff": 4.833333333333333
         },
         {
          "diff": 1.6166666666666667
         },
         {
          "diff": 0.5333333333333333
         },
         {
          "diff": 4.766666666666667
         },
         {
          "diff": 10.033333333333333
         },
         {
          "diff": 1.7666666666666666
         },
         {
          "diff": 12.083333333333334
         },
         {
          "diff": 2.85
         },
         {
          "diff": 0.4166666666666667
         },
         {
          "diff": 3.8
         },
         {
          "diff": 9.35
         },
         {
          "diff": 5.666666666666667
         },
         {
          "diff": 1.8
         },
         {
          "diff": 9.466666666666667
         },
         {
          "diff": 7.25
         },
         {
          "diff": 9.683333333333334
         },
         {
          "diff": 3.75
         },
         {
          "diff": 0.5166666666666667
         },
         {
          "diff": 3.933333333333333
         },
         {
          "diff": 15.3
         },
         {
          "diff": 6.866666666666666
         },
         {
          "diff": 3.2
         },
         {
          "diff": 6.8
         },
         {
          "diff": 1.3333333333333333
         },
         {
          "diff": 29.016666666666666
         },
         {
          "diff": 6.866666666666666
         },
         {
          "diff": 28.083333333333332
         },
         {
          "diff": 2.6666666666666665
         },
         {
          "diff": 0.48333333333333334
         },
         {
          "diff": 7.15
         },
         {
          "diff": 3.8666666666666667
         },
         {
          "diff": 4.983333333333333
         }
        ]
       },
       "encoding": {
        "x": {
         "bin": {
          "step": 1
         },
         "field": "diff",
         "type": "quantitative"
        },
        "y": {
         "aggregate": "count",
         "type": "quantitative"
        }
       },
       "mark": "bar"
      },
      "image/png": "[encoded data removed]",
      "text/plain": [
       "<VegaLite 2 object>\n",
       "\n",
       "If you see this message, it means the renderer has not been properly enabled\n",
       "for the frontend that you are using. For more information, see\n",
       "https://altair-viz.github.io/user_guide/troubleshooting.html\n"
      ]
     },
     "metadata": {},
     "output_type": "display_data"
    },
    {
     "name": "stdout",
     "output_type": "stream",
     "text": [
      "min - max:  2018-08-30 23:02:32 2018-08-31 01:54:16\n",
      "mean duration:  6.55426666667\n"
     ]
    },
    {
     "data": {
      "application/vnd.vegalite.v2+json": {
       "data": {
        "values": [
         {
          "diff": 1.6166666666666667
         },
         {
          "diff": 5.516666666666667
         },
         {
          "diff": 14.933333333333334
         },
         {
          "diff": 4.666666666666667
         },
         {
          "diff": 1.65
         },
         {
          "diff": 9.75
         },
         {
          "diff": 3.0166666666666666
         },
         {
          "diff": 2.566666666666667
         },
         {
          "diff": 7.183333333333334
         },
         {
          "diff": 7.15
         },
         {
          "diff": 3.3333333333333335
         },
         {
          "diff": 6.2
         },
         {
          "diff": 2.3333333333333335
         },
         {
          "diff": 6.366666666666666
         },
         {
          "diff": 19.75
         },
         {
          "diff": 2.2
         },
         {
          "diff": 5.85
         },
         {
          "diff": 13.25
         },
         {
          "diff": 2.433333333333333
         },
         {
          "diff": 2.183333333333333
         },
         {
          "diff": 3.066666666666667
         },
         {
          "diff": 17.233333333333334
         },
         {
          "diff": 4.166666666666667
         },
         {
          "diff": 8.266666666666667
         },
         {
          "diff": 19.85
         },
         {
          "diff": 3.2
         },
         {
          "diff": 1.7333333333333334
         },
         {
          "diff": 6.05
         },
         {
          "diff": 1.3833333333333333
         },
         {
          "diff": 0.9166666666666666
         },
         {
          "diff": 3.533333333333333
         },
         {
          "diff": 1.1
         },
         {
          "diff": 17.383333333333333
         },
         {
          "diff": 16.466666666666665
         },
         {
          "diff": 9.683333333333334
         },
         {
          "diff": 13.566666666666666
         },
         {
          "diff": 3.7666666666666666
         },
         {
          "diff": 20.433333333333334
         },
         {
          "diff": 4.533333333333333
         },
         {
          "diff": 4.433333333333334
         },
         {
          "diff": 1.75
         },
         {
          "diff": 1.9
         },
         {
          "diff": 5.733333333333333
         },
         {
          "diff": 1.2333333333333334
         },
         {
          "diff": 16.05
         },
         {
          "diff": 13.1
         },
         {
          "diff": 21.266666666666666
         },
         {
          "diff": 2.8
         },
         {
          "diff": 3.55
         },
         {
          "diff": 1.55
         },
         {
          "diff": 5.9
         },
         {
          "diff": 6.6
         },
         {
          "diff": 7.1
         },
         {
          "diff": 3.3
         },
         {
          "diff": 10.166666666666666
         },
         {
          "diff": 2.716666666666667
         },
         {
          "diff": 7.016666666666667
         },
         {
          "diff": 3.183333333333333
         },
         {
          "diff": 3.1
         },
         {
          "diff": 3.3333333333333335
         },
         {
          "diff": 5.8
         },
         {
          "diff": 1.1166666666666667
         },
         {
          "diff": 3.966666666666667
         },
         {
          "diff": 4.65
         },
         {
          "diff": 7.5
         },
         {
          "diff": 5.216666666666667
         },
         {
          "diff": 21.65
         },
         {
          "diff": 4.55
         },
         {
          "diff": 7.55
         },
         {
          "diff": 13.733333333333333
         },
         {
          "diff": 2.75
         },
         {
          "diff": 3.1333333333333333
         },
         {
          "diff": 5.233333333333333
         },
         {
          "diff": 1.4833333333333334
         },
         {
          "diff": 15.2
         },
         {
          "diff": 3.55
         },
         {
          "diff": 7
         },
         {
          "diff": 2.716666666666667
         },
         {
          "diff": 2.3
         },
         {
          "diff": 29.566666666666666
         },
         {
          "diff": 6.45
         },
         {
          "diff": 2.966666666666667
         },
         {
          "diff": 4.016666666666667
         },
         {
          "diff": 3.5166666666666666
         },
         {
          "diff": 25.566666666666666
         },
         {
          "diff": 2.6333333333333333
         },
         {
          "diff": 1.5833333333333333
         },
         {
          "diff": 2.8333333333333335
         },
         {
          "diff": 4.366666666666666
         },
         {
          "diff": 1.55
         },
         {
          "diff": 5.483333333333333
         },
         {
          "diff": 2.216666666666667
         },
         {
          "diff": 1.5333333333333334
         },
         {
          "diff": 2.35
         },
         {
          "diff": 12.45
         },
         {
          "diff": 11.25
         },
         {
          "diff": 3.6333333333333333
         },
         {
          "diff": 14.85
         },
         {
          "diff": 4.75
         },
         {
          "diff": 7.416666666666667
         },
         {
          "diff": 26.916666666666668
         },
         {
          "diff": 1.2333333333333334
         },
         {
          "diff": 2.85
         },
         {
          "diff": 3.7
         },
         {
          "diff": 1.5333333333333334
         },
         {
          "diff": 7.933333333333334
         },
         {
          "diff": 7.766666666666667
         },
         {
          "diff": 2.4
         },
         {
          "diff": 3.066666666666667
         },
         {
          "diff": 28.866666666666667
         },
         {
          "diff": 1.1166666666666667
         },
         {
          "diff": 4.05
         },
         {
          "diff": 3.35
         },
         {
          "diff": 5.033333333333333
         },
         {
          "diff": 4.65
         },
         {
          "diff": 21.15
         },
         {
          "diff": 1.8166666666666667
         },
         {
          "diff": 8.133333333333333
         },
         {
          "diff": 6.25
         },
         {
          "diff": 4.433333333333334
         },
         {
          "diff": 9.366666666666667
         },
         {
          "diff": 1.4166666666666667
         },
         {
          "diff": 1.9166666666666667
         },
         {
          "diff": 6.25
         },
         {
          "diff": 18.216666666666665
         },
         {
          "diff": 5.133333333333334
         },
         {
          "diff": 9.683333333333334
         },
         {
          "diff": 4.2
         },
         {
          "diff": 2.1166666666666667
         },
         {
          "diff": 2.1333333333333333
         },
         {
          "diff": 2.2
         },
         {
          "diff": 8.116666666666667
         },
         {
          "diff": 1.6833333333333333
         },
         {
          "diff": 1.2666666666666666
         },
         {
          "diff": 28.833333333333332
         },
         {
          "diff": 13.416666666666666
         },
         {
          "diff": 9.35
         },
         {
          "diff": 3.5
         },
         {
          "diff": 1.4166666666666667
         },
         {
          "diff": 1.2333333333333334
         },
         {
          "diff": 7.866666666666666
         },
         {
          "diff": 2
         },
         {
          "diff": 3.05
         },
         {
          "diff": 1.5666666666666667
         },
         {
          "diff": 0.85
         },
         {
          "diff": 7.55
         },
         {
          "diff": 8.233333333333333
         },
         {
          "diff": 10.033333333333333
         },
         {
          "diff": 5.433333333333334
         },
         {
          "diff": 3.4833333333333334
         },
         {
          "diff": 6.75
         },
         {
          "diff": 25.483333333333334
         },
         {
          "diff": 1.0333333333333334
         },
         {
          "diff": 18.316666666666666
         },
         {
          "diff": 3.0833333333333335
         },
         {
          "diff": 20.45
         },
         {
          "diff": 11.083333333333334
         },
         {
          "diff": 8.166666666666666
         },
         {
          "diff": 1.5166666666666666
         },
         {
          "diff": 3.783333333333333
         },
         {
          "diff": 6.733333333333333
         },
         {
          "diff": 3.2333333333333334
         },
         {
          "diff": 4.75
         },
         {
          "diff": 19.2
         },
         {
          "diff": 6.283333333333333
         },
         {
          "diff": 3.05
         },
         {
          "diff": 2.1166666666666667
         },
         {
          "diff": 4.433333333333334
         },
         {
          "diff": 2.4
         },
         {
          "diff": 2.683333333333333
         },
         {
          "diff": 5.633333333333334
         },
         {
          "diff": 10.5
         },
         {
          "diff": 6.2
         },
         {
          "diff": 1.2166666666666666
         },
         {
          "diff": 1.0666666666666667
         },
         {
          "diff": 8.283333333333333
         },
         {
          "diff": 4.283333333333333
         },
         {
          "diff": 5.033333333333333
         },
         {
          "diff": 2.216666666666667
         },
         {
          "diff": 3.433333333333333
         },
         {
          "diff": 8.533333333333333
         },
         {
          "diff": 2.1333333333333333
         },
         {
          "diff": 5.116666666666666
         },
         {
          "diff": 2.65
         },
         {
          "diff": 8.166666666666666
         },
         {
          "diff": 1.2333333333333334
         },
         {
          "diff": 8.683333333333334
         },
         {
          "diff": 3.716666666666667
         },
         {
          "diff": 7.966666666666667
         },
         {
          "diff": 1.3333333333333333
         },
         {
          "diff": 4.933333333333334
         },
         {
          "diff": 6.783333333333333
         },
         {
          "diff": 6.35
         },
         {
          "diff": 1.6166666666666667
         },
         {
          "diff": 22.333333333333332
         },
         {
          "diff": 4.683333333333334
         },
         {
          "diff": 1.7333333333333334
         },
         {
          "diff": 1.2
         },
         {
          "diff": 7.033333333333333
         },
         {
          "diff": 1.35
         },
         {
          "diff": 4.716666666666667
         },
         {
          "diff": 8.266666666666667
         },
         {
          "diff": 2.7
         },
         {
          "diff": 1.4166666666666667
         },
         {
          "diff": 5.966666666666667
         },
         {
          "diff": 5.616666666666666
         },
         {
          "diff": 6.9
         },
         {
          "diff": 2.85
         },
         {
          "diff": 2.7333333333333334
         },
         {
          "diff": 5.366666666666666
         },
         {
          "diff": 1.0833333333333333
         },
         {
          "diff": 2.5833333333333335
         },
         {
          "diff": 1.5333333333333334
         },
         {
          "diff": 8.466666666666667
         },
         {
          "diff": 22.766666666666666
         },
         {
          "diff": 6.083333333333333
         },
         {
          "diff": 5.233333333333333
         },
         {
          "diff": 0.9833333333333333
         },
         {
          "diff": 5.966666666666667
         },
         {
          "diff": 7.6
         },
         {
          "diff": 2.0166666666666666
         },
         {
          "diff": 2.3666666666666667
         },
         {
          "diff": 2.0833333333333335
         },
         {
          "diff": 9.533333333333333
         },
         {
          "diff": 29.516666666666666
         },
         {
          "diff": 14.516666666666667
         },
         {
          "diff": 5.733333333333333
         },
         {
          "diff": 5.816666666666666
         },
         {
          "diff": 25.033333333333335
         },
         {
          "diff": 21.066666666666666
         },
         {
          "diff": 4.2
         },
         {
          "diff": 5.883333333333334
         },
         {
          "diff": 1.6833333333333333
         },
         {
          "diff": 5.95
         },
         {
          "diff": 4.6
         },
         {
          "diff": 5.3
         },
         {
          "diff": 25.866666666666667
         },
         {
          "diff": 1.8
         },
         {
          "diff": 1.8166666666666667
         },
         {
          "diff": 1.3166666666666667
         },
         {
          "diff": 7.15
         },
         {
          "diff": 11.616666666666667
         },
         {
          "diff": 12.966666666666667
         },
         {
          "diff": 2.7333333333333334
         },
         {
          "diff": 4.366666666666666
         },
         {
          "diff": 19.216666666666665
         },
         {
          "diff": 4.066666666666666
         },
         {
          "diff": 3.566666666666667
         },
         {
          "diff": 1.55
         },
         {
          "diff": 22.15
         },
         {
          "diff": 24.9
         },
         {
          "diff": 10.95
         },
         {
          "diff": 3.566666666666667
         },
         {
          "diff": 3.15
         },
         {
          "diff": 28.35
         },
         {
          "diff": 9.766666666666667
         },
         {
          "diff": 1.8166666666666667
         },
         {
          "diff": 8.983333333333333
         },
         {
          "diff": 16.216666666666665
         },
         {
          "diff": 6.266666666666667
         },
         {
          "diff": 9.366666666666667
         },
         {
          "diff": 12.75
         },
         {
          "diff": 2.6333333333333333
         },
         {
          "diff": 1.6833333333333333
         },
         {
          "diff": 2.533333333333333
         },
         {
          "diff": 7.066666666666666
         },
         {
          "diff": 1.8166666666666667
         },
         {
          "diff": 2.033333333333333
         },
         {
          "diff": 2.933333333333333
         },
         {
          "diff": 12.166666666666666
         },
         {
          "diff": 2
         },
         {
          "diff": 4.166666666666667
         },
         {
          "diff": 1.6333333333333333
         },
         {
          "diff": 2.066666666666667
         },
         {
          "diff": 3.683333333333333
         },
         {
          "diff": 2.65
         },
         {
          "diff": 24.1
         },
         {
          "diff": 20.783333333333335
         },
         {
          "diff": 3.4
         },
         {
          "diff": 4.3
         },
         {
          "diff": 1.7333333333333334
         },
         {
          "diff": 9.1
         },
         {
          "diff": 3.4833333333333334
         },
         {
          "diff": 4.15
         },
         {
          "diff": 16
         },
         {
          "diff": 1.1166666666666667
         },
         {
          "diff": 2.7
         },
         {
          "diff": 25.466666666666665
         },
         {
          "diff": 5.183333333333334
         },
         {
          "diff": 23.15
         },
         {
          "diff": 1.7666666666666666
         },
         {
          "diff": 3.316666666666667
         },
         {
          "diff": 2.466666666666667
         },
         {
          "diff": 7.6
         },
         {
          "diff": 17.083333333333332
         },
         {
          "diff": 4
         },
         {
          "diff": 2.1166666666666667
         },
         {
          "diff": 2.35
         },
         {
          "diff": 1.25
         },
         {
          "diff": 3.5833333333333335
         },
         {
          "diff": 3.1666666666666665
         },
         {
          "diff": 1.45
         },
         {
          "diff": 2.033333333333333
         },
         {
          "diff": 1.8833333333333333
         },
         {
          "diff": 1.3666666666666667
         },
         {
          "diff": 11.866666666666667
         },
         {
          "diff": 18.5
         },
         {
          "diff": 1.1333333333333333
         },
         {
          "diff": 2.75
         },
         {
          "diff": 23.216666666666665
         },
         {
          "diff": 2.6666666666666665
         },
         {
          "diff": 4.4
         },
         {
          "diff": 2.816666666666667
         },
         {
          "diff": 7.4
         },
         {
          "diff": 14.316666666666666
         },
         {
          "diff": 1.4666666666666666
         },
         {
          "diff": 4.033333333333333
         },
         {
          "diff": 2.8833333333333333
         },
         {
          "diff": 2.15
         },
         {
          "diff": 12.35
         },
         {
          "diff": 9.533333333333333
         },
         {
          "diff": 2.2666666666666666
         },
         {
          "diff": 4.766666666666667
         },
         {
          "diff": 22
         },
         {
          "diff": 0.9333333333333333
         },
         {
          "diff": 4.65
         },
         {
          "diff": 3.433333333333333
         },
         {
          "diff": 5.616666666666666
         },
         {
          "diff": 2.216666666666667
         },
         {
          "diff": 1.8666666666666667
         },
         {
          "diff": 3.566666666666667
         },
         {
          "diff": 4.716666666666667
         },
         {
          "diff": 1.6333333333333333
         },
         {
          "diff": 2.25
         },
         {
          "diff": 17.35
         },
         {
          "diff": 5.1
         },
         {
          "diff": 1.2
         },
         {
          "diff": 7.083333333333333
         },
         {
          "diff": 12.316666666666666
         },
         {
          "diff": 3.3666666666666667
         },
         {
          "diff": 5.8
         },
         {
          "diff": 1.75
         },
         {
          "diff": 8.266666666666667
         },
         {
          "diff": 5.583333333333333
         },
         {
          "diff": 3.3833333333333333
         },
         {
          "diff": 2.066666666666667
         },
         {
          "diff": 2.716666666666667
         },
         {
          "diff": 5.616666666666666
         },
         {
          "diff": 11.95
         },
         {
          "diff": 1.85
         },
         {
          "diff": 3.2333333333333334
         },
         {
          "diff": 1.9833333333333334
         },
         {
          "diff": 2.3333333333333335
         },
         {
          "diff": 20.083333333333332
         },
         {
          "diff": 1.9333333333333333
         },
         {
          "diff": 5.766666666666667
         },
         {
          "diff": 6.583333333333333
         },
         {
          "diff": 2.783333333333333
         },
         {
          "diff": 6.216666666666667
         },
         {
          "diff": 8.433333333333334
         },
         {
          "diff": 12.533333333333333
         },
         {
          "diff": 15.783333333333333
         },
         {
          "diff": 8.733333333333333
         },
         {
          "diff": 2.9
         },
         {
          "diff": 2.1
         },
         {
          "diff": 6.766666666666667
         },
         {
          "diff": 2.8
         },
         {
          "diff": 7.083333333333333
         },
         {
          "diff": 2.7
         },
         {
          "diff": 5.7
         },
         {
          "diff": 18.583333333333332
         },
         {
          "diff": 4.633333333333334
         },
         {
          "diff": 3.85
         },
         {
          "diff": 18.2
         },
         {
          "diff": 2.066666666666667
         },
         {
          "diff": 1.25
         },
         {
          "diff": 11.8
         },
         {
          "diff": 2.183333333333333
         },
         {
          "diff": 3.533333333333333
         },
         {
          "diff": 14.4
         },
         {
          "diff": 18.466666666666665
         },
         {
          "diff": 3.3666666666666667
         },
         {
          "diff": 2.35
         },
         {
          "diff": 2.3666666666666667
         },
         {
          "diff": 2.033333333333333
         },
         {
          "diff": 10.866666666666667
         },
         {
          "diff": 1.5166666666666666
         },
         {
          "diff": 6.033333333333333
         },
         {
          "diff": 7.233333333333333
         },
         {
          "diff": 3.3333333333333335
         },
         {
          "diff": 3.75
         },
         {
          "diff": 7.45
         },
         {
          "diff": 10.2
         },
         {
          "diff": 6.15
         },
         {
          "diff": 1.65
         },
         {
          "diff": 5.216666666666667
         },
         {
          "diff": 7.666666666666667
         },
         {
          "diff": 4.55
         },
         {
          "diff": 6
         },
         {
          "diff": 11.45
         },
         {
          "diff": 23.25
         },
         {
          "diff": 3.4166666666666665
         },
         {
          "diff": 10.533333333333333
         },
         {
          "diff": 11.833333333333334
         },
         {
          "diff": 8.7
         },
         {
          "diff": 9.083333333333334
         },
         {
          "diff": 12.3
         },
         {
          "diff": 3.716666666666667
         },
         {
          "diff": 5.583333333333333
         },
         {
          "diff": 3.283333333333333
         },
         {
          "diff": 22.4
         },
         {
          "diff": 3.3333333333333335
         },
         {
          "diff": 1.7333333333333334
         },
         {
          "diff": 1.75
         },
         {
          "diff": 11.866666666666667
         },
         {
          "diff": 27.216666666666665
         },
         {
          "diff": 2.2666666666666666
         },
         {
          "diff": 2.1
         },
         {
          "diff": 4.016666666666667
         },
         {
          "diff": 17.533333333333335
         },
         {
          "diff": 3.3
         },
         {
          "diff": 20.216666666666665
         },
         {
          "diff": 3.7666666666666666
         },
         {
          "diff": 3.4833333333333334
         },
         {
          "diff": 2.433333333333333
         },
         {
          "diff": 9.766666666666667
         },
         {
          "diff": 3.1
         },
         {
          "diff": 2.05
         },
         {
          "diff": 8.033333333333333
         },
         {
          "diff": 14.666666666666666
         },
         {
          "diff": 5.4
         },
         {
          "diff": 20.433333333333334
         },
         {
          "diff": 1.15
         },
         {
          "diff": 2.9833333333333334
         },
         {
          "diff": 3.2666666666666666
         },
         {
          "diff": 6.016666666666667
         },
         {
          "diff": 18.55
         },
         {
          "diff": 10.4
         },
         {
          "diff": 5.333333333333333
         },
         {
          "diff": 9.85
         },
         {
          "diff": 2.35
         },
         {
          "diff": 6.983333333333333
         },
         {
          "diff": 5.666666666666667
         },
         {
          "diff": 1.5333333333333334
         },
         {
          "diff": 6.85
         },
         {
          "diff": 6.6
         },
         {
          "diff": 1.15
         },
         {
          "diff": 5.45
         },
         {
          "diff": 4.183333333333334
         },
         {
          "diff": 2.3
         },
         {
          "diff": 12.716666666666667
         },
         {
          "diff": 4.3
         },
         {
          "diff": 0.9333333333333333
         },
         {
          "diff": 1.4
         },
         {
          "diff": 7.7
         },
         {
          "diff": 6.283333333333333
         },
         {
          "diff": 4.416666666666667
         },
         {
          "diff": 2.1
         },
         {
          "diff": 1.3333333333333333
         },
         {
          "diff": 1.65
         },
         {
          "diff": 1.95
         },
         {
          "diff": 4.333333333333333
         },
         {
          "diff": 1.9833333333333334
         },
         {
          "diff": 1.05
         },
         {
          "diff": 2.7666666666666666
         },
         {
          "diff": 2.033333333333333
         },
         {
          "diff": 3.3833333333333333
         },
         {
          "diff": 3.966666666666667
         },
         {
          "diff": 2.95
         },
         {
          "diff": 2
         },
         {
          "diff": 4.95
         },
         {
          "diff": 2.7
         },
         {
          "diff": 3.4
         },
         {
          "diff": 3.2666666666666666
         },
         {
          "diff": 4.716666666666667
         },
         {
          "diff": 4
         },
         {
          "diff": 1.85
         },
         {
          "diff": 4.333333333333333
         },
         {
          "diff": 1.65
         },
         {
          "diff": 5.416666666666667
         },
         {
          "diff": 6.55
         },
         {
          "diff": 20.9
         },
         {
          "diff": 6.066666666666666
         },
         {
          "diff": 3.0166666666666666
         },
         {
          "diff": 0.9333333333333333
         },
         {
          "diff": 4.25
         },
         {
          "diff": 3.3666666666666667
         },
         {
          "diff": 1.9
         },
         {
          "diff": 6.733333333333333
         },
         {
          "diff": 4.166666666666667
         },
         {
          "diff": 16.55
         },
         {
          "diff": 4.433333333333334
         },
         {
          "diff": 2.183333333333333
         },
         {
          "diff": 2.1333333333333333
         },
         {
          "diff": 2.066666666666667
         },
         {
          "diff": 1.7833333333333334
         },
         {
          "diff": 3.45
         },
         {
          "diff": 1.5
         },
         {
          "diff": 14.916666666666666
         },
         {
          "diff": 4.666666666666667
         }
        ]
       },
       "encoding": {
        "x": {
         "bin": {
          "step": 1
         },
         "field": "diff",
         "type": "quantitative"
        },
        "y": {
         "aggregate": "count",
         "type": "quantitative"
        }
       },
       "mark": "bar"
      },
      "image/png": "[encoded data removed]",
      "text/plain": [
       "<VegaLite 2 object>\n",
       "\n",
       "If you see this message, it means the renderer has not been properly enabled\n",
       "for the frontend that you are using. For more information, see\n",
       "https://altair-viz.github.io/user_guide/troubleshooting.html\n"
      ]
     },
     "metadata": {},
     "output_type": "display_data"
    }
   ],
   "source": [
    "listener_assignments = json.load(open(cd('listener.assignments')))\n",
    "speaker_assignments = json.load(open(cd('speaker.assignments')))\n",
    "display(duration_plot(speaker_assignments))\n",
    "display(duration_plot(listener_assignments))"
   ]
  },
  {
   "cell_type": "code",
   "execution_count": 71,
   "metadata": {},
   "outputs": [
    {
     "name": "stdout",
     "output_type": "stream",
     "text": [
      "ACRA9J9JQKS05 1 4\n",
      "AVBRJBJONL47I 4 1\n",
      "A1AWHHBTJF1XCH 42 2\n",
      "A2NA3O1SF7SQPF 4 11\n",
      "A2IF4TYEH1MUKQ 6 5\n",
      "A2N5A9UB883DT1 2 4\n",
      "A2DWSKGD9RNKMJ 66 43\n",
      "A1IU5OP7BBZHZ7 11 3\n",
      "AZLZA0Q87TJZO 4 11\n",
      "AISNLDPD2DFEG 4 3\n",
      "AX6JQ37WUHFSH 10 6\n",
      "speak: 60 listener 80 overlap 11\n"
     ]
    }
   ],
   "source": [
    "import collections \n",
    "\n",
    "def by_worker(assign):\n",
    "    workers = collections.defaultdict(int)\n",
    "    for a in assign:\n",
    "        workers[a['WorkerId']] += 1\n",
    "    descending = sorted(workers.items(), key=lambda a: -a[1])\n",
    "    return collections.OrderedDict(descending) \n",
    "\n",
    "listener_counts = by_worker(listener_assignments)\n",
    "speaker_counts = by_worker(speaker_assignments)\n",
    "intersection = set(speaker_counts.keys()).intersection(listener_counts.keys())\n",
    "\n",
    "for k in intersection:\n",
    "    print(k, listener_counts[k], speaker_counts[k])\n",
    "print('speak: {} listener {} overlap {}'.format(len(speaker_counts), len(listener_counts), len(intersection)))"
   ]
  },
  {
   "cell_type": "code",
   "execution_count": 72,
   "metadata": {},
   "outputs": [
    {
     "ename": "FileNotFoundError",
     "evalue": "[Errno 2] No such file or directory: 'hits/2018-08-29_22-54-16/speaker.listener.jsonl'",
     "output_type": "error",
     "traceback": [
      "\u001b[0;31m---------------------------------------------------------------------------\u001b[0m",
      "\u001b[0;31mFileNotFoundError\u001b[0m                         Traceback (most recent call last)",
      "\u001b[0;32m<ipython-input-72-bc3ddf979bab>\u001b[0m in \u001b[0;36m<module>\u001b[0;34m()\u001b[0m\n\u001b[1;32m      2\u001b[0m \u001b[0;32mimport\u001b[0m \u001b[0mcollections\u001b[0m\u001b[0;34m\u001b[0m\u001b[0m\n\u001b[1;32m      3\u001b[0m \u001b[0mpd\u001b[0m\u001b[0;34m.\u001b[0m\u001b[0mset_option\u001b[0m\u001b[0;34m(\u001b[0m\u001b[0;34m\"display.max_rows\"\u001b[0m\u001b[0;34m,\u001b[0m \u001b[0;32mNone\u001b[0m\u001b[0;34m)\u001b[0m\u001b[0;34m\u001b[0m\u001b[0m\n\u001b[0;32m----> 4\u001b[0;31m \u001b[0mdataf\u001b[0m \u001b[0;34m=\u001b[0m \u001b[0mopen\u001b[0m\u001b[0;34m(\u001b[0m\u001b[0mcd\u001b[0m\u001b[0;34m(\u001b[0m\u001b[0;34m'speaker.listener.jsonl'\u001b[0m\u001b[0;34m)\u001b[0m\u001b[0;34m)\u001b[0m\u001b[0;34m\u001b[0m\u001b[0m\n\u001b[0m\u001b[1;32m      5\u001b[0m \u001b[0mdata\u001b[0m \u001b[0;34m=\u001b[0m \u001b[0;34m[\u001b[0m\u001b[0mjson\u001b[0m\u001b[0;34m.\u001b[0m\u001b[0mloads\u001b[0m\u001b[0;34m(\u001b[0m\u001b[0ml\u001b[0m\u001b[0;34m)\u001b[0m \u001b[0;32mfor\u001b[0m \u001b[0ml\u001b[0m \u001b[0;32min\u001b[0m \u001b[0mdataf\u001b[0m\u001b[0;34m.\u001b[0m\u001b[0mreadlines\u001b[0m\u001b[0;34m(\u001b[0m\u001b[0;34m)\u001b[0m\u001b[0;34m]\u001b[0m\u001b[0;34m\u001b[0m\u001b[0m\n\u001b[1;32m      6\u001b[0m \u001b[0mutts\u001b[0m \u001b[0;34m=\u001b[0m \u001b[0;34m[\u001b[0m\u001b[0ml\u001b[0m\u001b[0;34m[\u001b[0m\u001b[0;34m'q'\u001b[0m\u001b[0;34m]\u001b[0m\u001b[0;34m[\u001b[0m\u001b[0;36m1\u001b[0m\u001b[0;34m]\u001b[0m\u001b[0;34m[\u001b[0m\u001b[0;34m'utterance'\u001b[0m\u001b[0;34m]\u001b[0m \u001b[0;32mfor\u001b[0m \u001b[0ml\u001b[0m \u001b[0;32min\u001b[0m \u001b[0mdata\u001b[0m\u001b[0;34m]\u001b[0m\u001b[0;34m\u001b[0m\u001b[0m\n",
      "\u001b[0;31mFileNotFoundError\u001b[0m: [Errno 2] No such file or directory: 'hits/2018-08-29_22-54-16/speaker.listener.jsonl'"
     ]
    }
   ],
   "source": [
    "import pandas as pd\n",
    "import collections\n",
    "pd.set_option(\"display.max_rows\", None)\n",
    "dataf = open(cd('speaker.listener.jsonl'))\n",
    "data = [json.loads(l) for l in dataf.readlines()]\n",
    "utts = [l['q'][1]['utterance'] for l in data]\n",
    "formulas = [l['q'][1]['targetFormula'] for l in data]\n",
    "paths = list(map(lambda x: x[:x.index(':')], formulas))\n",
    "pathsset = set(paths) \n",
    "pathcounter = collections.Counter(paths)\n",
    "uniques = [k for k in pathcounter.keys() if pathcounter[k] <= 1]\n",
    "freqfreq = pathcounter.values()\n",
    "spec = {\n",
    "      \"data\": {\"values\": [{\"diff\": v} for v in freqfreq]},\n",
    "      \"mark\": \"bar\",\n",
    "      \"encoding\": {\n",
    "        \"x\": {\n",
    "          \"field\": \"diff\",\n",
    "          \"type\": \"quantitative\",\n",
    "          \"bin\": {\"step\": 1} \n",
    "        },\n",
    "        \"y\": {\n",
    "          \"aggregate\": \"count\",\n",
    "          \"type\": \"quantitative\"\n",
    "        }\n",
    "      }\n",
    "    }\n",
    "display(alt.VegaLite(spec))\n",
    "\n",
    "print(len(paths), len(pathsset), len(uniques))\n",
    "table = pd.DataFrame({'utterances': uniques})\n",
    "display(table)\n"
   ]
  },
  {
   "cell_type": "raw",
   "metadata": {},
   "source": []
  }
 ],
 "metadata": {
  "kernelspec": {
   "display_name": "Python 3",
   "language": "python",
   "name": "python3"
  },
  "language_info": {
   "codemirror_mode": {
    "name": "ipython",
    "version": 3
   },
   "file_extension": ".py",
   "mimetype": "text/x-python",
   "name": "python",
   "nbconvert_exporter": "python",
   "pygments_lexer": "ipython3",
   "version": "3.6.3"
  }
 },
 "nbformat": 4,
 "nbformat_minor": 2
}
